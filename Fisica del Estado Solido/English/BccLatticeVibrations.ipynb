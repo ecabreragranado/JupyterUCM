{
 "cells": [
  {
   "cell_type": "markdown",
   "metadata": {
    "collapsed": false
   },
   "source": [
    "# Atomic vibrations in the bcc crystal lattice"
   ]
  },
  {
   "cell_type": "markdown",
   "metadata": {
    "collapsed": false
   },
   "source": [
    "#### Authors: Elena Díaz and Francisco Dominguez-Adame - Universidad Complutense de Madrid"
   ]
  },
  {
   "cell_type": "markdown",
   "metadata": {
    "collapsed": false
   },
   "source": [
    "## Secular equation"
   ]
  },
  {
   "cell_type": "markdown",
   "metadata": {
    "collapsed": false
   },
   "source": [
    "The calculation of the dispersion relation of phonons in crystals requires to\n",
    "know the so-called dynamical matrix ${\\cal D}(\\vec{k})\\ $ [1]. The vibration frequencies can be obtained from\n",
    "\n",
    "$$\n",
    "M\\omega^{2}\\vec{A}= \\mathcal{D}(\\vec{k})\\vec{A}\n",
    "\\qquad \\mathcal{D}(\\vec{k})\n",
    "=-\\sum_{\\vec{R}}{\\Gamma}_{\\vec{R}}\\exp(-i\\vec{k}\\cdot\\vec{R})\\ .\n",
    "$$\n",
    "\n",
    "where $M$ is the atomic mass and vectors $\\vec{R}$ run over all lattice positions. The component $\\alpha\\beta$ of the matrix ${\\Gamma}_{\\vec{R}}$ is the component $\\alpha$ of the force acting on the atom at equilibrium position $\\vec{R}$ when it is shifted in the $\\beta$ direction [2].\n",
    "\n",
    "To show how vibration frequencies are obtained, let us consider a solid with bbc structure, as shown in the following figure (note that the lattice parameter is expressed as $2a$)"
   ]
  },
  {
   "cell_type": "code",
   "execution_count": 1,
   "metadata": {
    "collapsed": false
   },
   "outputs": [
    {
     "ename": "IOError",
     "evalue": "[Errno 2] No such file or directory: u'figura1.png'",
     "output_type": "error",
     "traceback": [
      "\u001b[0;31m---------------------------------------------------------------------------\u001b[0m",
      "\u001b[0;31mIOError\u001b[0m                                   Traceback (most recent call last)",
      "\u001b[0;32m<ipython-input-1-3584cbb711a2>\u001b[0m in \u001b[0;36m<module>\u001b[0;34m()\u001b[0m\n\u001b[1;32m      1\u001b[0m \u001b[0;32mfrom\u001b[0m \u001b[0mIPython\u001b[0m\u001b[0;34m.\u001b[0m\u001b[0mdisplay\u001b[0m \u001b[0;32mimport\u001b[0m \u001b[0mImage\u001b[0m\u001b[0;34m\u001b[0m\u001b[0m\n\u001b[0;32m----> 2\u001b[0;31m \u001b[0mImage\u001b[0m\u001b[0;34m(\u001b[0m\u001b[0mfilename\u001b[0m\u001b[0;34m=\u001b[0m\u001b[0;34m\"figura1.png\"\u001b[0m\u001b[0;34m)\u001b[0m\u001b[0;34m\u001b[0m\u001b[0m\n\u001b[0m",
      "\u001b[0;32m/ext/sage/sage-8.1/local/lib/python2.7/site-packages/IPython/core/display.pyc\u001b[0m in \u001b[0;36m__init__\u001b[0;34m(self, data, url, filename, format, embed, width, height, retina, unconfined, metadata)\u001b[0m\n\u001b[1;32m    755\u001b[0m         \u001b[0mself\u001b[0m\u001b[0;34m.\u001b[0m\u001b[0munconfined\u001b[0m \u001b[0;34m=\u001b[0m \u001b[0munconfined\u001b[0m\u001b[0;34m\u001b[0m\u001b[0m\n\u001b[1;32m    756\u001b[0m         \u001b[0mself\u001b[0m\u001b[0;34m.\u001b[0m\u001b[0mmetadata\u001b[0m \u001b[0;34m=\u001b[0m \u001b[0mmetadata\u001b[0m\u001b[0;34m\u001b[0m\u001b[0m\n\u001b[0;32m--> 757\u001b[0;31m         \u001b[0msuper\u001b[0m\u001b[0;34m(\u001b[0m\u001b[0mImage\u001b[0m\u001b[0;34m,\u001b[0m \u001b[0mself\u001b[0m\u001b[0;34m)\u001b[0m\u001b[0;34m.\u001b[0m\u001b[0m__init__\u001b[0m\u001b[0;34m(\u001b[0m\u001b[0mdata\u001b[0m\u001b[0;34m=\u001b[0m\u001b[0mdata\u001b[0m\u001b[0;34m,\u001b[0m \u001b[0murl\u001b[0m\u001b[0;34m=\u001b[0m\u001b[0murl\u001b[0m\u001b[0;34m,\u001b[0m \u001b[0mfilename\u001b[0m\u001b[0;34m=\u001b[0m\u001b[0mfilename\u001b[0m\u001b[0;34m)\u001b[0m\u001b[0;34m\u001b[0m\u001b[0m\n\u001b[0m\u001b[1;32m    758\u001b[0m \u001b[0;34m\u001b[0m\u001b[0m\n\u001b[1;32m    759\u001b[0m         \u001b[0;32mif\u001b[0m \u001b[0mretina\u001b[0m\u001b[0;34m:\u001b[0m\u001b[0;34m\u001b[0m\u001b[0m\n",
      "\u001b[0;32m/ext/sage/sage-8.1/local/lib/python2.7/site-packages/IPython/core/display.pyc\u001b[0m in \u001b[0;36m__init__\u001b[0;34m(self, data, url, filename)\u001b[0m\n\u001b[1;32m    392\u001b[0m         \u001b[0mself\u001b[0m\u001b[0;34m.\u001b[0m\u001b[0mfilename\u001b[0m \u001b[0;34m=\u001b[0m \u001b[0mNone\u001b[0m \u001b[0;32mif\u001b[0m \u001b[0mfilename\u001b[0m \u001b[0;32mis\u001b[0m \u001b[0mNone\u001b[0m \u001b[0;32melse\u001b[0m \u001b[0municode_type\u001b[0m\u001b[0;34m(\u001b[0m\u001b[0mfilename\u001b[0m\u001b[0;34m)\u001b[0m\u001b[0;34m\u001b[0m\u001b[0m\n\u001b[1;32m    393\u001b[0m \u001b[0;34m\u001b[0m\u001b[0m\n\u001b[0;32m--> 394\u001b[0;31m         \u001b[0mself\u001b[0m\u001b[0;34m.\u001b[0m\u001b[0mreload\u001b[0m\u001b[0;34m(\u001b[0m\u001b[0;34m)\u001b[0m\u001b[0;34m\u001b[0m\u001b[0m\n\u001b[0m\u001b[1;32m    395\u001b[0m         \u001b[0mself\u001b[0m\u001b[0;34m.\u001b[0m\u001b[0m_check_data\u001b[0m\u001b[0;34m(\u001b[0m\u001b[0;34m)\u001b[0m\u001b[0;34m\u001b[0m\u001b[0m\n\u001b[1;32m    396\u001b[0m \u001b[0;34m\u001b[0m\u001b[0m\n",
      "\u001b[0;32m/ext/sage/sage-8.1/local/lib/python2.7/site-packages/IPython/core/display.pyc\u001b[0m in \u001b[0;36mreload\u001b[0;34m(self)\u001b[0m\n\u001b[1;32m    777\u001b[0m         \u001b[0;34m\"\"\"Reload the raw data from file or URL.\"\"\"\u001b[0m\u001b[0;34m\u001b[0m\u001b[0m\n\u001b[1;32m    778\u001b[0m         \u001b[0;32mif\u001b[0m \u001b[0mself\u001b[0m\u001b[0;34m.\u001b[0m\u001b[0membed\u001b[0m\u001b[0;34m:\u001b[0m\u001b[0;34m\u001b[0m\u001b[0m\n\u001b[0;32m--> 779\u001b[0;31m             \u001b[0msuper\u001b[0m\u001b[0;34m(\u001b[0m\u001b[0mImage\u001b[0m\u001b[0;34m,\u001b[0m\u001b[0mself\u001b[0m\u001b[0;34m)\u001b[0m\u001b[0;34m.\u001b[0m\u001b[0mreload\u001b[0m\u001b[0;34m(\u001b[0m\u001b[0;34m)\u001b[0m\u001b[0;34m\u001b[0m\u001b[0m\n\u001b[0m\u001b[1;32m    780\u001b[0m             \u001b[0;32mif\u001b[0m \u001b[0mself\u001b[0m\u001b[0;34m.\u001b[0m\u001b[0mretina\u001b[0m\u001b[0;34m:\u001b[0m\u001b[0;34m\u001b[0m\u001b[0m\n\u001b[1;32m    781\u001b[0m                 \u001b[0mself\u001b[0m\u001b[0;34m.\u001b[0m\u001b[0m_retina_shape\u001b[0m\u001b[0;34m(\u001b[0m\u001b[0;34m)\u001b[0m\u001b[0;34m\u001b[0m\u001b[0m\n",
      "\u001b[0;32m/ext/sage/sage-8.1/local/lib/python2.7/site-packages/IPython/core/display.pyc\u001b[0m in \u001b[0;36mreload\u001b[0;34m(self)\u001b[0m\n\u001b[1;32m    410\u001b[0m         \u001b[0;34m\"\"\"Reload the raw data from file or URL.\"\"\"\u001b[0m\u001b[0;34m\u001b[0m\u001b[0m\n\u001b[1;32m    411\u001b[0m         \u001b[0;32mif\u001b[0m \u001b[0mself\u001b[0m\u001b[0;34m.\u001b[0m\u001b[0mfilename\u001b[0m \u001b[0;32mis\u001b[0m \u001b[0;32mnot\u001b[0m \u001b[0mNone\u001b[0m\u001b[0;34m:\u001b[0m\u001b[0;34m\u001b[0m\u001b[0m\n\u001b[0;32m--> 412\u001b[0;31m             \u001b[0;32mwith\u001b[0m \u001b[0mopen\u001b[0m\u001b[0;34m(\u001b[0m\u001b[0mself\u001b[0m\u001b[0;34m.\u001b[0m\u001b[0mfilename\u001b[0m\u001b[0;34m,\u001b[0m \u001b[0mself\u001b[0m\u001b[0;34m.\u001b[0m\u001b[0m_read_flags\u001b[0m\u001b[0;34m)\u001b[0m \u001b[0;32mas\u001b[0m \u001b[0mf\u001b[0m\u001b[0;34m:\u001b[0m\u001b[0;34m\u001b[0m\u001b[0m\n\u001b[0m\u001b[1;32m    413\u001b[0m                 \u001b[0mself\u001b[0m\u001b[0;34m.\u001b[0m\u001b[0mdata\u001b[0m \u001b[0;34m=\u001b[0m \u001b[0mf\u001b[0m\u001b[0;34m.\u001b[0m\u001b[0mread\u001b[0m\u001b[0;34m(\u001b[0m\u001b[0;34m)\u001b[0m\u001b[0;34m\u001b[0m\u001b[0m\n\u001b[1;32m    414\u001b[0m         \u001b[0;32melif\u001b[0m \u001b[0mself\u001b[0m\u001b[0;34m.\u001b[0m\u001b[0murl\u001b[0m \u001b[0;32mis\u001b[0m \u001b[0;32mnot\u001b[0m \u001b[0mNone\u001b[0m\u001b[0;34m:\u001b[0m\u001b[0;34m\u001b[0m\u001b[0m\n",
      "\u001b[0;31mIOError\u001b[0m: [Errno 2] No such file or directory: u'figura1.png'"
     ]
    }
   ],
   "source": [
    "from IPython.display import Image\n",
    "Image(filename=\"figura1.png\")"
   ]
  },
  {
   "cell_type": "markdown",
   "metadata": {
    "collapsed": false
   },
   "source": [
    "We choose the position of the atom $0$ as the origin of coordinates (all the\n",
    "lattice positions are equivalent) and we look at the $8$ nearest neighbors (labeled $1$ to $8$) in the figure and in the $6$ next-nearest neighbors (labeled $9$ to $14$) in the figure. We will assume that the atom\n",
    "at the origin only interacts with these $14$ neighboring atoms."
   ]
  },
  {
   "cell_type": "markdown",
   "metadata": {
    "collapsed": false
   },
   "source": [
    "## Dispersion relation"
   ]
  },
  {
   "cell_type": "markdown",
   "metadata": {
    "collapsed": false
   },
   "source": [
    "Consider the atom $1$ indicated in the figure. If the interatomic forces\n",
    "only depend on the distance between the atoms, the matrices ${\\Gamma}_{\\vec{R}}$ due to interaction with the $8$ next neighbors atoms turn out to be [2]\n",
    "\n",
    "$$\n",
    "\\Gamma_{1}=\\Gamma_{5}=\\frac{1}{3}\\gamma_1\n",
    "\\left(\n",
    "\\begin{array}{rrr}\n",
    " 1 &  1 &  1 \\\\\\\\\n",
    " 1 &  1 &  1 \\\\\\\\\n",
    " 1 &  1 &  1\n",
    "\\end{array} \n",
    "\\right)\n",
    "\\qquad\n",
    "\\Gamma_{2}=\\Gamma_{6}=\\frac{1}{3}\\gamma_1\n",
    "\\left(\n",
    "\\begin{array}{rrr}\n",
    " 1 & -1 & -1 \\\\\\\\\n",
    "-1 &  1 &  1 \\\\\\\\\n",
    "-1 &  1 &  1\n",
    "\\end{array}\n",
    "\\right)\n",
    "$$\n",
    "\n",
    "$$\n",
    "\\Gamma_{3}=\\Gamma_{7}=\\frac{1}{3}\\gamma_1\n",
    "\\left(\n",
    "\\begin{array}{rrr}\n",
    " 1 & -1 &  1 \\\\\\\\\n",
    "-1 &  1 & -1 \\\\\\\\\n",
    " 1 & -1 &  1\n",
    "\\end{array}\n",
    "\\right)\n",
    "\\qquad\n",
    "\\Gamma_{4}=\\Gamma_{8}=\\frac{1}{3}\\gamma_1\n",
    "\\left(\n",
    "\\begin{array}{rrr}\n",
    " 1 &  1 & -1 \\\\\\\\\n",
    " 1 &  1 & -1 \\\\\\\\\n",
    "-1 & -1 &  1\n",
    "\\end{array}\n",
    "\\right)\n",
    "$$\n",
    "\n",
    "where $\\gamma_1$ is the second derivative of the interaction potential\n",
    "when the atoms are nearest neighbors. In the same way, the matrices\n",
    "due to the interaction with the next-nearest neighbors are given by\n",
    "\n",
    "$$\n",
    "\\Gamma_{9}=\\Gamma_{12}=\\gamma_2\n",
    "\\left(\n",
    "\\begin{array}{rrr}\n",
    " 1 & 0 & 0 \\\\\\\\\n",
    " 0 & 0 & 0 \\\\\\\\\n",
    " 0 & 0 & 0\n",
    "\\end{array}\n",
    "\\right)\n",
    "$$\n",
    "\n",
    "$$\n",
    "\\Gamma_{10}=\\Gamma_{13}=\\gamma_2\n",
    "\\left(\n",
    "\\begin{array}{rrr}\n",
    " 0 & 0 & 0 \\\\\\\\\n",
    " 0 & 1 & 0 \\\\\\\\\n",
    " 0 & 0 & 0\n",
    "\\end{array}\n",
    "\\right)\n",
    "$$\n",
    "\n",
    "$$\n",
    "\\Gamma_{11}=\\Gamma_{14}=\\gamma_2\n",
    "\\left(\n",
    "\\begin{array}{rrr}\n",
    " 0 & 0 & 0 \\\\\\\\\n",
    " 0 & 0 & 0 \\\\\\\\\n",
    " 0 & 0 & 1\n",
    "\\end{array}\n",
    "\\right)\n",
    "$$\n",
    "\n",
    "where $\\gamma_2$ is the corresponding force constant when the atoms\n",
    "are next-nearest neighbors. Under these premises, the dynamic matrix is given by [2]\n",
    "\n",
    "$$\n",
    "\\mathcal{D}(\\vec{k}) = M \\omega_{0}^{2}\n",
    "\\left(\n",
    "\\begin{array}{ccc}\n",
    "\\delta - 2\\alpha c_{2x} & \n",
    "\\frac{8}{3}s_{x}s_{y}c_{z} & \n",
    "\\frac{8}{3}s_{x}c_{y}s_{z} \\\\\\\\\n",
    "\\frac{8}{3}s_{x}s_{y}c_{z} &\n",
    "\\delta - 2\\alpha c_{2y} & \n",
    "\\frac{8}{3}c_{x}s_{y}s_{z} \\\\\\\\\n",
    "\\frac{8}{3}s_{x}c_{y}s_{z} &\n",
    "\\frac{8}{3}c_{x}s_{y}s_{z} &\n",
    "\\delta - 2\\alpha c_{2z}\n",
    "\\end{array}\n",
    "\\right)\n",
    "$$\n",
    "\n",
    "For brevity we have defined\n",
    "\n",
    "$$\n",
    "\\omega_{0}^{2} = \\frac{\\gamma_1}{M}\n",
    "$$\n",
    "\n",
    "$$\n",
    "c_{x} \\equiv \\cos(2k_xa)\n",
    "\\qquad\n",
    "s_{x} \\equiv \\sin(2k_xa)\n",
    "\\qquad\n",
    "c_{2x} \\equiv \\cos(4k_xa)\n",
    "\\qquad\n",
    "s_{2x} \\equiv \\sin(4k_xa)\n",
    "\\qquad\n",
    "\\mathrm{etc.}\n",
    "$$\n",
    "\n",
    "$$\n",
    "\\delta \\equiv \\frac{8}{3}+2\\alpha - \\frac{8}{3} c_{x}c_{y}c_{z}\n",
    "$$\n",
    "\n",
    "where $\\alpha=\\gamma_2/\\gamma_1\\ $."
   ]
  },
  {
   "cell_type": "markdown",
   "metadata": {
    "collapsed": false
   },
   "source": [
    "## Secular equation"
   ]
  },
  {
   "cell_type": "markdown",
   "metadata": {
    "collapsed": false
   },
   "source": [
    "The dynamical matrix can be cast in the following form\n",
    "\n",
    "$$\n",
    "\\mathcal{D}(\\vec{k})=M\\omega_0^2 \\mathcal{P}(\\vec{k})\n",
    "$$\n",
    "\n",
    "where we have defined the following dimensionless matrix\n",
    "\n",
    "$$\n",
    "\\mathcal{P}(\\vec{k})=\\left(\n",
    "\\begin{array}{ccc}\n",
    "\\delta - 2\\alpha c_{2x} & \n",
    "\\frac{8}{3}s_{x}s_{y}c_{z} & \n",
    "\\frac{8}{3}s_{x}c_{y}s_{z} \\\\\\\\\n",
    "\\frac{8}{3}s_{x}s_{y}c_{z} &\n",
    "\\delta - 2\\alpha c_{2y} & \n",
    "\\frac{8}{3}c_{x}s_{y}s_{z} \\\\\\\\\n",
    "\\frac{8}{3}s_{x}c_{y}s_{z} &\n",
    "\\frac{8}{3}c_{x}s_{y}s_{z} &\n",
    "\\delta - 2\\alpha c_{2z}\n",
    "\\end{array}\n",
    "\\right)\n",
    "$$\n",
    "\n",
    "so that the secular equation that allows us to obtain the normal frequencies and vectors $\\vec{A}$ is written as\n",
    "\n",
    "$$\n",
    "\\Omega^2\\vec{A}=\\mathcal{P}(\\vec{k})\\vec{A}\n",
    "\\qquad\n",
    "\\Omega\\equiv \\frac{\\omega}{\\omega_0}\n",
    "$$\n"
   ]
  },
  {
   "cell_type": "markdown",
   "metadata": {
    "collapsed": false
   },
   "source": [
    "## Density of modes"
   ]
  },
  {
   "cell_type": "markdown",
   "metadata": {
    "collapsed": false
   },
   "source": [
    "The first Brillouin zone of a bcc lattice is a rhombic dodecahedron as shown in the following figure"
   ]
  },
  {
   "cell_type": "code",
   "execution_count": 2,
   "metadata": {
    "collapsed": false
   },
   "outputs": [
    {
     "data": {
      "image/png": "[encoded data removed]"
     },
     "output_type": "execute_result"
    }
   ],
   "source": [
    "Image(filename=\"figura2.png\")"
   ]
  },
  {
   "cell_type": "markdown",
   "metadata": {
    "collapsed": false
   },
   "source": [
    "The primitive vectors defining the reciprocal lattice are\n",
    "\n",
    "$$\n",
    "\\vec{b}_1=\\frac{2\\pi}{a}(\\hat{e}_2+\\hat{e}_3)\n",
    "\\qquad\n",
    "\\vec{b}_2=\\frac{2\\pi}{a}(\\hat{e}_1+\\hat{e}_3)\n",
    "\\qquad\n",
    "\\vec{b}_3=\\frac{2\\pi}{a}(\\hat{e}_1+\\hat{e}_2)\n",
    "$$\n",
    "\n",
    "where $a\\ $ is the lattice parameter and $\\hat{e}_i\\ $ is a unit cartersian vector.\n",
    "\n",
    "When the periodic conditions of Born-Von Karman are applied, the allowed $\\vec{k}\\ $ vectors form a regular lattice, with $\\mathcal{N} $ vectors in the first Brillouin zone, where $\\mathcal{N}$ is the number of atoms in the solid. If the volume of the solid is written the form $V = L \\times L\\times L\\ $, then the allowed $\\vec{k}\\ $ vectors are given by\n",
    "\n",
    "$$\n",
    "\\vec{k} = \\frac{n_1}{N}\\vec{b}_1+\\frac{n_2}{N}\\vec{b}_2+\\frac{n_3}{N}\\vec{b}_3\n",
    "$$\n",
    "\n",
    "where $ n_i $ is an integer. Here $N\\ $ is the number of unit cells along the direction defined by the primitive vectors ($\\mathcal{N} = N^3 \\ $).\n",
    "\n",
    "To calculate the density of modes we must solve the secular equation for each value of $\\vec{k} $ and obtain the three frequencies, and the make a histogram. But given the symmetries of the lattice, it is not necessary to go through the whole first zone of Brillouin. As discussed in [2], it is enough to do it in the volume defined by the points $\\Gamma$ (origin of the first Brillouin zone), P, N and H of the figure, which is a volume equal to $1/48\\ $ times the volume of the first Brillouin area. The vectors that define the position of these points are\n",
    "\n",
    "$$\n",
    "\\vec{k}_N=\\frac{1}{2}\\vec{b}_3=\\frac{\\pi}{a}(\\hat{e}_1+\\hat{e}_2)\n",
    "$$\n",
    "\n",
    "$$\n",
    "\\vec{k}_H=\\frac{2\\pi}{a}\\hat{e}_2\n",
    "$$\n",
    "\n",
    "$$\n",
    "\\vec{k}_P=\\frac{\\pi}{a}(\\hat{e}_1+\\hat{e}_2+\\hat{e}_3)\n",
    "$$\n",
    "\n",
    "A vector $ \\vec {k} $ belongs to the volume defined by the $\\Gamma\\ $, P, N, and H points of the figure if it satisfies\n",
    "\n",
    "$$\n",
    "\\vec{k}=u\\vec{k}_N+v\\vec{k}_H+w\\vec{k}_P\n",
    "$$\n",
    "\n",
    "where\n",
    "\n",
    "$$\n",
    "0 \\leq u \\leq 1\n",
    "\\qquad\n",
    "0 \\leq v \\leq 1-u\n",
    "\\qquad\n",
    "0 \\leq w \\leq 1 -u -v\n",
    "$$\n",
    "\n",
    "On the other hand, the primitive vectors of the reciprocal lattice can be expressed in terms of vectors $\\vec{k}_N \\ $, $\\vec{k}_H \\ $, and $\\vec{k}_P \\ $\n",
    "\n",
    "$$\n",
    "\\vec{b}_1 = -2\\vec{k}_N+\\vec{k}_H+2\\vec{k}_P\n",
    "\\qquad\n",
    "\\vec{b}_2 = -\\vec{k}_H+2\\vec{k}_P\n",
    "\\qquad\n",
    "\\vec{b}_3 = 2\\vec{k}_N\n",
    "$$\n",
    "\n",
    "whence\n",
    "\n",
    "$$\n",
    "\\vec{k}=2\\frac{n_3-n_1}{N}\\vec{k}_N+\\frac{n_1-n_2}{N}\\vec{k}_H+2\\frac{n_1+n_2}{N}\\vec{k}_P \\equiv \\frac{2m_1}{N}\\vec{k}_N+\\frac{m_2}{N}\\vec{k}_H+\\frac{2m_3}{N}\\vec{k}_P\n",
    "$$\n",
    "\n",
    "where $m_i$ are integers. Finally, using the condition that $\\vec{k}$ belongs to the volume defined by the points $\\Gamma\\ $, P, N and H,\n",
    "we conclude that\n",
    "\n",
    "$$\n",
    "0 \\leq m_1\\leq N/2\n",
    "\\qquad\n",
    "0 \\leq m_2 \\leq N -2m_1\n",
    "\\qquad\n",
    "0 \\leq m_3\\leq N/2 -m_1-m_2/2\n",
    "$$\n",
    "\n",
    "Once the possible values of the integers the $m_i$ have been determined, we can calculate the corresponding value of $\\vec{k}$\n",
    "\n",
    "$$\n",
    "\\vec{k}=\\frac{2\\pi}{Na}\\Big[ (m_1+m_3)\\hat{e}_1+(m_1+m_2+m_3)\\hat{e}_2+m_3\\hat{e}_3 \\Big]\n",
    "$$"
   ]
  },
  {
   "cell_type": "markdown",
   "metadata": {
    "collapsed": false
   },
   "source": [
    "## References"
   ]
  },
  {
   "cell_type": "markdown",
   "metadata": {
    "collapsed": false
   },
   "source": [
    "[1]  N. W. Ashcroft and N. D. Mermin, Solid State Physics (Thomson Learning, 1976).\n",
    "\n",
    "[2] I. Johnston, G. Keeler, R. Rollins and S. Spicklemire, Solid State Physics Simulations (John Wiley & Sons, 1996)."
   ]
  },
  {
   "cell_type": "raw",
   "metadata": {
    "collapsed": false
   },
   "source": [
    "Solve the secular equation and draw the dispersion relation for different alpha values. The frequency is expressed in units of omega_0. Do it along the path Gamma, N, H, P, Gamma. Calculate the total mode density (not per branch) and draw it for various alpha values."
   ]
  },
  {
   "cell_type": "markdown",
   "metadata": {
    "collapsed": false
   },
   "source": [
    "### Calculation and representation of the dispersion relation and density of vibration modes of a bcc lattice"
   ]
  },
  {
   "cell_type": "markdown",
   "metadata": {
    "collapsed": false
   },
   "source": [
    "#### Study how the dispersion relation and the density of modes vary for different values of the quotient $\\gamma_2 /\\gamma_1 $. Study the Van-Hove singularities in both magnitudes."
   ]
  },
  {
   "cell_type": "code",
   "execution_count": 1,
   "metadata": {
    "collapsed": false
   },
   "outputs": [
    {
     "name": "stdout",
     "output_type": "stream",
     "text": [
      "Populating the interactive namespace from numpy and matplotlib\n"
     ]
    },
    {
     "data": {
      "text/plain": [
       "<matplotlib.text.Text at 0x7f8f9fa91dd0>"
      ]
     },
     "execution_count": 1,
     "metadata": {
     },
     "output_type": "execute_result"
    },
    {
     "data": {
      "image/png": "[encoded data removed]"
     },
     "output_type": "display_data"
    }
   ],
   "source": [
    "%pylab inline\n",
    "\n",
    "m=1.  # Atomic mass\n",
    "g1=1. # Force between nearest neighbor atoms\n",
    "g2=1. # Force between next-nearest neighbor atoms\n",
    "alpha=g2/g1\n",
    "a=1. # Lattice constant\n",
    "\n",
    "\n",
    "def P(kx,ky,kz):\n",
    "    d=8/3+2*alpha-8/3*cos(kx*a/2)*cos(ky*a/2)*cos(kz*a/2)\n",
    "    return array([[d-2*alpha*cos(kx*a),(8/3)*sin(kx*a/2)*sin(ky*a/2)*cos(kz*a/2),(8/3)*sin(kx*a/2)*cos(ky*a/2)*sin(kz*a/2)],\n",
    "                 [(8/3)*sin(kx*a/2)*sin(ky*a/2)*cos(kz*a/2),d-2*alpha*cos(ky*a), (8/3)*cos(kx*a/2)*sin(ky*a/2)*sin(kz*a/2)],\n",
    "                 [(8/3)*sin(kx*a/2)*cos(ky*a/2)*sin(kz*a/2),(8/3)*cos(kx*a/2)*sin(ky*a/2)*sin(kz*a/2),d-2*alpha*cos(kz*a)]])\n",
    "\n",
    "N=100 # Number of atoms in the solid\n",
    "GN1=zeros(N)\n",
    "GN2=zeros(N)\n",
    "GN3=zeros(N)\n",
    "GP1=zeros(N)\n",
    "GP2=zeros(N)\n",
    "GP3=zeros(N)\n",
    "GH1=zeros(N)\n",
    "GH2=zeros(N)\n",
    "GH3=zeros(N)\n",
    "kn=zeros(N)\n",
    "\n",
    "# The frequencies of the vibration modes are calculated in units of \\omega_0 = (g1/m)^(1/2)\n",
    "figsize(22,5)\n",
    "\n",
    "for j in range(0,N):\n",
    "    kn[j]=j*(1./(N-1))\n",
    "    (GH1[j],GH2[j],GH3[j])=eigvals(P(0.,kn[j]*2.*pi/a,0.))\n",
    "\n",
    "\n",
    "for j in range(0,N):\n",
    "    kn[j]=j*2*(1./(N-1))\n",
    "    (GP1[j],GP2[j],GP3[j])=eigvals(P(kn[j]*pi/a,kn[j]*pi/a,kn[j]*pi/a))\n",
    "    \n",
    "\n",
    "for j in range(0,N):\n",
    "    kn[j]=j*(1./(N-1))\n",
    "    (GN1[j],GN2[j],GN3[j])=eigvals(P(kn[j]*pi/a,kn[j]*pi/a,0.))\n",
    "\n",
    "\n",
    "#Cálculo de las frecuencias de vibración permitidas en la primera zona de vibración de la red\n",
    "EV=array([0,0,0])\n",
    "for ii in range(1,int(N/2)+1):\n",
    "    for jj in range(1,int(N-2*ii)+1):\n",
    "        for kk in range(1,int(N/2-ii-jj/2)+1):\n",
    "            K=2*pi/(N)*((ii+jj)*array([1,0,0])+(ii+jj+kk)*array([0,1,0])+(kk)*array([0,0,1]))\n",
    "            aux=eigvals(P(K[0]+0.01,K[1]+0.01,K[2]+0.01))\n",
    "            EV=concatenate((EV,aux),axis=0)\n",
    "\n",
    "#Calculation of density of vibration modes through a histogram\n",
    "numinterv=50 # Number of columns in the histogram\n",
    "(x,y)=histogram(sqrt(EV),numinterv)\n",
    "X=zeros(size(y))\n",
    "for h in range(1,size(x)+1):\n",
    "    X[h]=x[h-1]\n",
    "    \n",
    "#Drawing the frequencies of the vibration modes in units of \\omega_0 = (g1/m)^(1/2) and the density of vibration modes through a histogram\n",
    "subplot(141)\n",
    "plot(kn,sqrt(GH1))\n",
    "plot(kn,sqrt(GH2))\n",
    "plot(kn,sqrt(GH3))\n",
    "axis([0,1, 0,amax(y)]);\n",
    "xlabel('k/2$\\pi$',fontsize=20)\n",
    "ylabel('$\\omega/\\omega_0$',fontsize=20)\n",
    "title('Direccion [100]');\n",
    "\n",
    "subplot(142)\n",
    "plot(kn,sqrt(GP1))\n",
    "plot(kn,sqrt(GP2))\n",
    "plot(kn,sqrt(GP3))\n",
    "axis([0,1, 0,amax(y)]);\n",
    "xlabel('k/2$\\pi$',fontsize=20)\n",
    "ylabel('$\\omega/\\omega_0$',fontsize=20);\n",
    "title('Direction [111]');\n",
    "\n",
    "subplot(143)    \n",
    "plot(kn,sqrt(GN1))\n",
    "plot(kn,sqrt(GN2))\n",
    "plot(kn,sqrt(GN3))\n",
    "axis([0,1, 0,amax(y)]);\n",
    "xlabel('k/2$\\pi$',fontsize=20)\n",
    "ylabel('$\\omega/\\omega_0$',fontsize=20);\n",
    "title('Direction [110]');\n",
    "\n",
    "ax4=subplot(144)\n",
    "plot(X,y)\n",
    "b1=0\n",
    "b2=amax(y)\n",
    "verts = [(0,b1)] + list(zip(X,y))+[(0,b2)]\n",
    "poly = Polygon(verts)\n",
    "ax4.add_patch(poly)\n",
    "axis([0,amax(X), 0,amax(y)]);\n",
    "xlabel('$D(\\omega) [arb. units]$',fontsize=20)\n",
    "ylabel('$\\omega/\\omega_0$',fontsize=20)\n",
    "title('Density of modes')    \n",
    "    \n",
    "\n"
   ]
  },
  {
   "cell_type": "code",
   "execution_count": 0,
   "metadata": {
    "collapsed": false
   },
   "outputs": [
   ],
   "source": [
   ]
  }
 ],
 "metadata": {
  "kernelspec": {
   "display_name": "Python 2 (SageMath)",
   "language": "python",
   "name": "python2"
  },
  "language_info": {
   "codemirror_mode": {
    "name": "ipython",
    "version": 2
   },
   "file_extension": ".py",
   "mimetype": "text/x-python",
   "name": "python",
   "nbconvert_exporter": "python",
   "pygments_lexer": "ipython2",
   "version": "2.7.13"
  }
 },
 "nbformat": 4,
 "nbformat_minor": 0
}