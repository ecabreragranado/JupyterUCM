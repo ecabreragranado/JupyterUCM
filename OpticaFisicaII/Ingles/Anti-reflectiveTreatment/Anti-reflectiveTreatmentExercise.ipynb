{
 "cells": [
  {
   "cell_type": "markdown",
   "metadata": {
    "collapsed": false
   },
   "source": [
    "# Design and characterization of an antireflective treatment for an ophthalmic lens"
   ]
  },
  {
   "cell_type": "markdown",
   "metadata": {
    "collapsed": false
   },
   "source": [
    "#### Consult the manual of use of the interactive notebooks (notebooks) that is available in the Virtual Campus"
   ]
  },
  {
   "cell_type": "markdown",
   "metadata": {
    "collapsed": false
   },
   "source": [
    "#### Workgroup"
   ]
  },
  {
   "cell_type": "markdown",
   "metadata": {
    "collapsed": false
   },
   "source": [
    "In this cell write the names of the members of the group: * modify the text *\n",
    "\n",
    "* Alfonso Fernández\n",
    "* Carolina Pérez (Responsible Email: carolina@ucm.es)\n",
    "\n",
    "Include the email address of the group leader"
   ]
  },
  {
   "cell_type": "markdown",
   "metadata": {
    "collapsed": false
   },
   "source": [
    "## Task 1. Ophthalmic lens. Characterization of losses by reflection."
   ]
  },
  {
   "cell_type": "markdown",
   "metadata": {
    "collapsed": false
   },
   "source": [
    "First let's choose a high index ophthalmic lens. Perform a search on the internet and include the data of the selected lens and the address of the web page (* modify this text *):\n",
    "\n",
    "* material or name\n",
    "\n",
    "* refractive index $ n_L $ =\n",
    "\n",
    "* address of the website, (for example http://www.ucm.es)\n",
    "\n",
    "We will characterize the losses by reflection of the lens. We calculate the reflectance in percent on the first face of the lens (air-lens interface) using the reflection coefficient at normal incidence * write the value here modifying this text *\n",
    "\n",
    "* R =%"
   ]
  },
  {
   "cell_type": "markdown",
   "metadata": {
    "collapsed": false
   },
   "source": [
    "## Task 2. Antireflective treatment design. Thickness of the monolayer."
   ]
  },
  {
   "cell_type": "markdown",
   "metadata": {
    "collapsed": false
   },
   "source": [
    "We are going to design an antireflective treatment for the high index lens. For this we use a layer of magnesium fluoride (MgF$_2$) whose refractive index in the visible range can be approximated to $ n_c $ = 1.38. This material has a refractive index significantly lower than typical of the lenses where it is deposited.\n",
    "\n",
    "To choose the appropriate size of the antireflective monolayer we are going to consider normal incidence ($ \\theta_i$ = 0) and we have to decide for which wavelength we optimize the treatment. To choose this wavelength, execute the code cell that appears below. This operation will be carried out only once, that is, it will not have to be executed again."
   ]
  },
  {
   "cell_type": "code",
   "execution_count": 1,
   "metadata": {
    "collapsed": false
   },
   "outputs": [
    {
     "name": "stdout",
     "output_type": "stream",
     "text": [
      "Populating the interactive namespace from numpy and matplotlib\n",
      "Wavelength for which we optimize the treatment =  565  nm\n"
     ]
    }
   ],
   "source": [
    "# DO NOT MODIFY. EXECUTE (JUST ONCE)\n",
    "####################################################################################\n",
    "%pylab inline\n",
    "lambda0 = int(np.random.rand()*150 +475)\n",
    "print \"Wavelength for which we optimize the treatment = \",lambda0, \" nm\""
   ]
  },
  {
   "cell_type": "markdown",
   "metadata": {
    "collapsed": false
   },
   "source": [
    "Write here the value of the selected wavelength (shown above)\n",
    "\n",
    "* wavelength $ \\lambda_0 $ = nm\n",
    "\n",
    "We calculate the smallest thickness of the monolayer * write here its numerical value modifying this text *\n",
    "\n",
    "* thickness1 = nm"
   ]
  },
  {
   "cell_type": "markdown",
   "metadata": {
    "collapsed": false
   },
   "source": [
    "## Task 3. Characterization of anti-reflective treatment in normal incidence"
   ]
  },
  {
   "cell_type": "markdown",
   "metadata": {
    "collapsed": false
   },
   "source": [
    "We are going to characterize the reflectance of the high index lens with the antireflective treatment as a function of the wavelength in the visible range. We consider the case of normal incidence and the thickness calculated in Task 2 (these are the conditions that have been used in the design of the treatment).\n",
    "\n",
    "In the next cell appears the programming code that calculates and paints said reflectance (in percent).\n",
    "The text that appears after the # symbol are comments."
   ]
  },
  {
   "cell_type": "code",
   "execution_count": 3,
   "metadata": {
    "collapsed": false
   },
   "outputs": [
    {
     "name": "stdout",
     "output_type": "stream",
     "text": [
      "Populating the interactive namespace from numpy and matplotlib\n"
     ]
    },
    {
     "data": {
      "text/plain": [
       "<matplotlib.text.Text at 0x7f6cbcc28990>"
      ]
     },
     "execution_count": 3,
     "metadata": {
     },
     "output_type": "execute_result"
    },
    {
     "data": {
      "image/png": "[encoded data removed]"
     },
     "execution_count": 3,
     "metadata": {
     },
     "output_type": "execute_result"
    }
   ],
   "source": [
    "# MODIFY THE TWO PARAMETERS. THEN EXECUTE\n",
    "#################################################################################################### ######\n",
    "\n",
    "nL = 1.8 # Include the index of the high index lens\n",
    "\n",
    "thickness1 = 581.0 # Include the thickness value of the layer (in nm)\n",
    "\n",
    "# FROM HERE DO NOT MODIFY THE CODE\n",
    "#################################################################################################### #################################################################################################### ######################\n",
    "\n",
    "% pylab inline\n",
    "nc = 1.38 # Index of the monolayer (MgF2)\n",
    "wavelength = linspace(400,750,100) # Creates the values ​​of the wavelengths in the visible (in nm)\n",
    "\n",
    "# Coefficients of reflection and transmission\n",
    "rA = (1-nc) / (1 + nc) # Air reflection coefficient -> monolayer\n",
    "tA = 2 * 1 / (1 + nc) # Air transmission coefficient -> monolayer\n",
    "rB = (nc-nL) / (nc + nL) # Coefficient of reflection monolayer -> lens\n",
    "tC = 2 * nc / (nc + 1) # Monolayer transmission coefficient -> air\n",
    "\n",
    "# Offset and Reflectance for the minimum thickness\n",
    "phase1 = (2 * pi / wavelength) * 2 * nc * thickness1 + 0 * pi # geometric phase shift + phase shift due to reflections\n",
    "Reflectance_treatment1 = 100 * (rA ** 2 + (tA * rB * tC) ** 2 + 2 * sqrt ((rA ** 2) * (tA * rB * tC) ** 2) * cos (phase1)) # Reflectance (%)\n",
    "\n",
    "# We draw reflectance as a function of wavelength\n",
    "fig, ax = plt.subplots()\n",
    "plot(wavelength, Reflectance_treatment1, lw = 2) # We paint the reflectance\n",
    "xlabel('$ \\ lambda $ (nm)', fontsize = 16)\n",
    "ylabel('Reflectance (%)', fontsize = 16) # Write the names of the axes;"
   ]
  },
  {
   "cell_type": "markdown",
   "metadata": {
    "collapsed": false
   },
   "source": [
    "In view of the graph, comment * (modifying the text of this section) * the following points:\n",
    "\n",
    "* minimum value of the reflectance and the wavelength in which it occurs. Does this wavelength have anything to do with the one selected in Task 2, that is, with $ \\lambda_0 $ ?, explain the relationship.\n",
    "\n",
    "* maximum value of the reflectance and the wavelength in which it occurs.\n",
    "\n",
    "Next we pay attention to the values of the reflectance along all the visible, that is to say, to the whole curve. Comparing these values with the value of the reflectance of the lens calculated in Task 1:\n",
    "\n",
    "* Comment reasonably if antireflective treatment is effective."
   ]
  },
  {
   "cell_type": "markdown",
   "metadata": {
    "collapsed": false
   },
   "source": [
    "## Task 4. Characterization of the anti-reflective treatment with the angle of incidence"
   ]
  },
  {
   "cell_type": "markdown",
   "metadata": {
    "collapsed": false
   },
   "source": [
    "We will study how our treatment behaves when we consider nonzero incidence angles. For this we calculate the reflectance of the lens with the treatment for an angle of incidence $\\theta_i $. Using this angle, the code that appears in the next cell calculates the incident and transmitted angles in the different interfaces and calculates the reflectance of the system for the two polarization components. When considering depolarized light the reflectance will be the average of the two. The graph shows the reflectance for the selected angle of incidence along with the case of normal incidence.\n",
    "\n",
    "Before executing the next cell, we will have to execute during this work session (at least once) the code cell corresponding to Task 3 (corresponding to normal incidence and minimum thickness of the monolayer)."
   ]
  },
  {
   "cell_type": "code",
   "execution_count": 5,
   "metadata": {
    "collapsed": false
   },
   "outputs": [
    {
     "data": {
      "text/plain": [
       "<matplotlib.legend.Legend at 0x7f6cbcd62490>"
      ]
     },
     "execution_count": 5,
     "metadata": {
     },
     "output_type": "execute_result"
    },
    {
     "data": {
      "image/png": "[encoded data removed]"
     },
     "execution_count": 5,
     "metadata": {
     },
     "output_type": "execute_result"
    }
   ],
   "source": [
    "# MODIFY THE PARAMETER. THEN EXECUTE\n",
    "#################################################################################################### #################################################################################################### ###\n",
    "\n",
    "angle_incident = 50 # Include the angle of incidence (in degrees) to the air-monolayer interface\n",
    "\n",
    "# FROM HERE DO NOT MODIFY THE CODE.\n",
    "#################################################################################################### #################################################################################################### ######################\n",
    "\n",
    "angle_incident = angle_incident * pi / 180 # We pass the angle to radians\n",
    "angle_transmitted_1 = arcsin(sin(angle_incident) / nc) # The angle transmitted at the air-monolayer interface (in radians)\n",
    "angle_incident_2 = angle_transmitted_1 # The incident angle to the monolayer-lens interface or to the monolayer-air interface\n",
    "                                          # is equal to the angle transmitted at the air-monolayer interface (in radians)\n",
    "angle_transmitted_2 = arcsin (nc * sin(angle_incident_2) / nL) # The angle transmitted at the monolayer-lens interface (in radians)\n",
    "\n",
    "# Reflection and transmission coefficients of the two polarization components\n",
    "rAs = (1 * cos(angle_transmitted_1) -nc * cos(angle_transmitted_1)) / (1 * cos(angle_incident) + nc * cos(angle_transmitted_1)) # reflection air -> monolayer\n",
    "tAs = 2 * 1 * cos(angle_incident) / (1 * cos(angle_incident) + nc * cos(angle_transmitted_1)) # transmission air -> monolayer\n",
    "rBs = (nc * cos(angle_incident_2) -nL * cos(angle_transmitted_2)) / (nc * cos(angle_incident_2) + nL * cos(angle_transmitted_2)) # reflection monolayer -> lens\n",
    "tCs = 2 * nc *cos (angle_incident_2) / (nc * cos(angle_incident_2) + 1 * cos(angle_incident)) # monolayer transmission -> air\n",
    "\n",
    "rAp = (nc * cos(angle_transmitted_1) -1 * cos(angle_transmitted_1)) / (nc * cos(angle_incident) + 1 * cos(angle_transmitted_1)) # reflection air -> monolayer\n",
    "tAp = 2 * 1 * cos(angle_incident) / (nc * cos(angle_incident) + 1 * cos(angle_transmitted_1)) # transmission air -> monolayer\n",
    "rBp = (nL * cos(angle_incident_2) -nc * cos(angle_transmitted_2)) / (nL * cos(angle_incident_2) + nc * cos(angle_transmitted_2)) # reflection monolayer -> lens\n",
    "tCp = 2 * nc * cos(angle_incident_2) / (1 * cos(angle_incident_2) + nc * cos(angle_incident)) # monolayer transmission -> air\n",
    "\n",
    "# Offset and Reflectance\n",
    "phase1_angle = (2 * pi / wavelength) * 2 * nc * thickness1 * cos(angle_transmitted_1) + 0 * pi # geometric phase shift + phase shift due to reflections\n",
    "Reflectance_treatment1_s = 100 * (rAs** 2 + (tAs * rBs * tCs)** 2 + 2 * sqrt((rAs ** 2) * (tAs * rBs * tCs) ** 2) * cos(phase1_angle)) # component s (%)\n",
    "Reflectance_treatment1_p = 100 * (rAp** 2 + (tAp * rBp * tCp)** 2 + 2 * sqrt((rAp ** 2) * (tAp * rBp * tCp) ** 2) * cos(phase1_angle)) # component p (%)\n",
    "Reflectance_treatment1_angle = (Reflectance_treatment1_s + Reflectance_treatment1_p) / 2\n",
    "\n",
    "# We draw reflectance as a function of wavelength\n",
    "plot(wavelength, Reflectance_treatment1, wavelength, Reflectance_treatment1_angle, lw = 2) # We paint the reflectance\n",
    "xlabel('$\\lambda $ (nm)', fontsize = 16); ylabel ('Reflectance (%)', fontsize = 16) # We write the names of the axes\n",
    "legend(('normal incidence', 'varying the angle')) # We write the legend;"
   ]
  },
  {
   "cell_type": "markdown",
   "metadata": {
    "collapsed": false
   },
   "source": [
    "In view of the graph comment * (modifying the text of this section) * the following points:\n",
    "\n",
    "* For an angle of 30 degrees give the value of the reflectance in $ \\lambda_0 $. For this angle of incidence, what is the minimum value of the reflectance and the wavelength at which it occurs?\n",
    "\n",
    "* When increasing the angle of incidence, describe to where the value of the wavelength that has the minimum value of the reflectance moves.\n",
    "\n",
    "* Determine from what angle of incidence the reflectance, in some area of the visible, reaches values close to the reflectance of the lens calculated in Task 1."
   ]
  },
  {
   "cell_type": "markdown",
   "metadata": {
    "collapsed": false
   },
   "source": [
    "## Task 5. Characterization of the anti-reflective treatment with the thickness of the monolayer"
   ]
  },
  {
   "cell_type": "markdown",
   "metadata": {
    "collapsed": false
   },
   "source": [
    "So far we have characterized the treatment for the smallest possible thickness of the monolayer. Next we will characterize the treatment for other possible thicknesses of the monolayer. We consider the same conditions that we use to optimize the treatment, that is, normal incidence and the wavelength $ \\lambda_0 $."
   ]
  },
  {
   "cell_type": "markdown",
   "metadata": {
    "collapsed": false
   },
   "source": [
    "Write here the following two thicknesses of the monolayer * write your numerical value here modifying this text *\n",
    "\n",
    "* thickness2 = nm\n",
    "\n",
    "* thickness3 = nm"
   ]
  },
  {
   "cell_type": "markdown",
   "metadata": {
    "collapsed": false
   },
   "source": [
    "Finally we will study how our treatment behaves with the two calculated thicknesses. The reflectance corresponding to the minimum thickness is also shown on the same graph.\n",
    "\n",
    "Before executing the next cell, we will have to execute during this work session (at least once) the code cell corresponding to Task 3."
   ]
  },
  {
   "cell_type": "code",
   "execution_count": 6,
   "metadata": {
    "collapsed": false
   },
   "outputs": [
    {
     "data": {
      "text/plain": [
       "<matplotlib.legend.Legend at 0x7f6ce0b67650>"
      ]
     },
     "execution_count": 6,
     "metadata": {
     },
     "output_type": "execute_result"
    },
    {
     "data": {
      "image/png": "[encoded data removed]"
     },
     "execution_count": 6,
     "metadata": {
     },
     "output_type": "execute_result"
    }
   ],
   "source": [
    "# MODIFY THE TWO PARAMETERS. THEN EXECUTE\n",
    "#################################################################################################### ######\n",
    "\n",
    "thickness2 = 99 * 3 # Include the value of the second smallest thickness of the monolayer (in nm)\n",
    "\n",
    "thickness3 = 99 * 5 # Include the value of the third smallest thickness of the monolayer (in nm)\n",
    "\n",
    "# FROM HERE DO NOT TOUCH.\n",
    "#################################################################################################### #################################################################################################### ######################\n",
    "\n",
    "# Offset and Reflectance for the minimum thickness\n",
    "phase1 = (2 * pi / wavelength) * 2 * nc * thickness1 + 0 * pi # geometric phase shift + phase shift due to reflections\n",
    "Reflectance_treatment1 = 100 * (rA** 2 + (tA * rB * tC)** 2 + 2 * sqrt((rA ** 2) * (tA * rB * tC)** 2) * cos(phase1)) # Reflectance (%)\n",
    "\n",
    "# Offset and Reflectance for the second minimum thickness\n",
    "phase2 = (2 * pi / wavelength) * 2 * nc * thickness2 + 0 * pi # geometric offset + phase shift due to reflections\n",
    "Reflectance_treatment2 = 100 * (rA** 2 + (tA * rB * tC)** 2 + 2 * sqrt((rA ** 2) * (tA * rB * tC)** 2) * cos(phase2)) # Reflectance (%)\n",
    "\n",
    "# Offset and Reflectance for the second minimum thickness\n",
    "phase3 = (2 * pi / wavelength) * 2 * nc * thickness3 + 0 * pi # geometric offset + phase shift due to reflections\n",
    "Reflectance_treatment3 = 100 * (rA** 2 + (tA * rB * tC)** 2 + 2 * sqrt((rA ** 2) * (tA * rB * tC)** 2) * cos(phase3)) # Reflectance (%)\n",
    "\n",
    "# We draw reflectance as a function of wavelength\n",
    "plot (wavelength, Reflectance_treatment1, wavelength, Reflectance_treatment2, wavelength, Reflectance_treatment3, lw = 2) # We plot the reflectance\n",
    "xlabel ('$ \\lambda $ (nm)', fontsize = 16); ylabel ('Reflectance (%)', fontsize = 16) # We write the names of the axes\n",
    "legend (('thickness1', 'thickness2', 'thickness3'), loc = 'upper right', bbox_to_anchor = (0.5, 0.5)) # Write the legend;"
   ]
  },
  {
   "cell_type": "markdown",
   "metadata": {
    "collapsed": false
   },
   "source": [
    "In view of the graph comment * (modifying the text of this section) * the following points:\n",
    "\n",
    "* What is the minimum value of the reflectance for the three thicknesses and the wavelength in which they occur? Why does the minimum occur at the same wavelength?\n",
    "\n",
    "* maximum value of the reflectance for the three thicknesses and the wavelength in which they occur.\n",
    "\n",
    "* Comparing the three curves with the value of the reflectance of the lens calculated in Task 1, comment in a reasonable way so that the antireflective treatment is effective."
   ]
  }
 ],
 "metadata": {
  "kernelspec": {
   "display_name": "Python 2 (SageMath)",
   "language": "python",
   "name": "python2"
  },
  "language_info": {
   "codemirror_mode": {
    "name": "ipython",
    "version": 2
   },
   "file_extension": ".py",
   "mimetype": "text/x-python",
   "name": "python",
   "nbconvert_exporter": "python",
   "pygments_lexer": "ipython2",
   "version": "2.7.14"
  },
  "name": "Tratamiento_Antirreflejante.ipynb"
 },
 "nbformat": 4,
 "nbformat_minor": 0
}