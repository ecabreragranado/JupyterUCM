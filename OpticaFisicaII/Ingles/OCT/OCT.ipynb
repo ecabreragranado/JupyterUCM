{
 "cells": [
  {
   "cell_type": "markdown",
   "metadata": {
    "collapsed": false
   },
   "source": [
    "# Optical coherence tomography. Basic points."
   ]
  },
  {
   "cell_type": "markdown",
   "metadata": {
    "collapsed": false
   },
   "source": [
    "* Optical coherence tomography (OCT) is an optical, non-invasive and interferometric tomographic imaging technique that offers a penetration of millimeters (approximately 2-3 mm in the tissue or material in question) with axial and lateral resolution of micrometer scale. The technique was first demonstrated in 1991 with an axial resolution of ~ 30μm. In 2001 the OCT reached a submicron resolution due to the introduction of broad band light sources (sources that emit wavelengths over a range of ~ 100 nm). Now OCT is a widely accepted imaging technique, especially in ophthalmology, other biomedical applications, and the conservation of artworks. *\n",
    "\n",
    "This is the definition that [appears on Wikipedia](https://en.wikipedia.org/wiki/Optical_coherence_tomography), but what is it ?. And how does it relate to what has been studied during the course so far?"
   ]
  },
  {
   "cell_type": "markdown",
   "metadata": {
    "collapsed": false
   },
   "source": [
    "### Low coherence interference"
   ]
  },
  {
   "cell_type": "markdown",
   "metadata": {
    "collapsed": false
   },
   "source": [
    "When studied the interference between two beams, we emphasized that in order to be able to visualize the path difference $ \\Delta $ between the two interfering beams, it must be less than the coherence length $ l_c $ of the radiation. Otherwise, the relative lag between the two waves varies randomly and the temporal average in the observation time is zero. So far we have seen a small coherence length as a limiting factor in interferometry experiments. However, it can be an element that we can use to reach a high resolution in our measurements.\n",
    "\n",
    "Before seeing the interference of low coherence, first we must remember the relation between the coherence length and the spectral width of the source. Spectrally very broad light pulses have a small coherence length, while the limiting case of monochromatic radiation would have an infinite coherence length. In particular, the relationship between both magnitudes is as follows:\n",
    "\n",
    "$$ l_c = \\frac {\\lambda ^ 2} {\\Delta \\lambda} $$\n",
    "\n",
    "It is observed that when we talk about interference with low coherence radiation, we also talk about interference with wide spectrum sources, such as superluminiscent diodes or laser pulses of fs.\n",
    "\n",
    "\n",
    "In low coherence interferometry, the light used has a small coherence length, of the order of microns or even less. This has the consequence that if we build an interferometer using this radiation, the path difference between the beams that interfere must be at most of that order to observe this interference. Or put another way, when we get interference we know that the path difference between the two beams is of the order of microns or less. Therefore, we can use this method to measure distances very accurately.\n",
    "\n",
    "\n",
    "In addition, using radiation in the infrared region ($\\sim 800$ nm) the penetration length in the biological media is of the order of mm. In particular, in the case of the eye it is possible to penetrate in to the retina since this radiation is not absorbed by the water present in the cornea or in the aqueous and vitreous humours."
   ]
  },
  {
   "cell_type": "markdown",
   "metadata": {
    "collapsed": false
   },
   "source": [
    "### What does it consist of?"
   ]
  },
  {
   "cell_type": "markdown",
   "metadata": {
    "collapsed": false
   },
   "source": [
    "The principle and assembly for optical coherence tomography can be seen in the following figure:\n",
    "\n",
    "![oct](https://upload.wikimedia.org/wikipedia/commons/thumb/e/e6/OCT_B-Scan_Setup.GIF/375px-OCT_B-Scan_Setup.GIF)"
   ]
  },
  {
   "cell_type": "markdown",
   "metadata": {
    "collapsed": false
   },
   "source": [
    "As seen in the figure, the radiation with a low coherence length (broad spectrum) illuminates a Michelson interferometer, where in one of its arms we place the sample (or the eye) and in the other a moving mirror. The path differences between the beam reflected in the mirror and each of the reflected beams on the surfaces of the sample will be:\n",
    "\n",
    "$$\\Delta_1 = 2 z -  2 H$$\n",
    "\n",
    "$$\\Delta_2 = 2 z -  2 (H+ n L_1)$$\n",
    "\n",
    "$$\\Delta_3 = 2 z -  2 (H + n L_2)$$\n",
    "\n",
    "where $ z $ is assumed to be the distance between the moving mirror and the beam splitter, $ H $ the distance between the first surface of the sample and the divisor, $ n $ the refractive index within the sample, and $ L_ {1,2} $ the distances of the most remote surfaces of the sample with respect to the first one.\n",
    "\n",
    "The movement of this mirror will allow to equalize the optical paths of the reflected beams in the moving mirror and in each one of the surfaces of which the sample consists. The irradiance measured by the detector as a function of the displacement of the mirror can be seen in the upper right figure. It can be seen that, in the example shown, 3 interference zones appear, with maxima and minima, corresponding to each of the 3 surfaces of which the sample consists. The height of each zone depends on the reflectance of that surface while the width is proportional to the coherence length of the source.\n",
    "\n",
    "If we imagine that we move the mirror from an area close to the beam splitter of the interferometer, we would first see that by moving the mirror the irradiance remains constant. This is because the optical path traveled by the beam reflected in the mirror is very different from the optical paths of the beams reflected by any of the 3 surfaces of the sample, and therefore we see no interference ($ I_{total} = I_1 + I_2 $).\n",
    "\n",
    "As the mirror continues to move, a point will arrive at which the path difference between the beam reflected in the mirror and the beam reflected by the first surface of the sample is less than $ l_c $. Then we will see interference and the detected irradiance will oscillate between maximum and minimum values as we move the mirror.\n",
    "\n",
    "If we continue moving the mirror away from the beam splitter, we will leave the area where the path difference between the beam reflected in the mirror and the beam reflected by the first surface of the sample is less than $ l_c $, returning to a constant irradiance. A subsequent movement of the mirror will cause this condition to be met (path difference less than $ l_c $) but between the beam reflected by the mirror and the one reflected by the second surface. Then we will see the second zone of interference in the signal captured by the detector. The same will happen with the third surface."
   ]
  },
  {
   "cell_type": "markdown",
   "metadata": {
    "collapsed": false
   },
   "source": [
    "----\n",
    "\n",
    "Let's see a numerical example where we define two trains of pulses with a path difference that depends on their position"
   ]
  },
  {
   "cell_type": "markdown",
   "metadata": {
    "collapsed": false
   },
   "source": [
    "### Figure to visualize interference in OCT"
   ]
  },
  {
   "cell_type": "code",
   "execution_count": 1,
   "metadata": {
    "collapsed": false
   },
   "outputs": [
    {
     "data": {
      "image/png": "[encoded data removed]"
     }
    },
    {
     "data": {
      "text/plain": [
       "<function __main__.oct>"
      ]
     },
     "execution_count": 1,
     "metadata": {
     },
     "output_type": "execute_result"
    }
   ],
   "source": [
    "import numpy as np\n",
    "import matplotlib\n",
    "import matplotlib.pyplot as plt\n",
    "plt.style.use ('ggplot')\n",
    "\n",
    "% matplotlib inline\n",
    "from scipy.interpolate import interp1d\n",
    "import ipywidgets as widg\n",
    "\n",
    "num_pulses = 2\n",
    "c0 = 3e8\n",
    "twidth = 2e-14\n",
    "t = np.linspace (0, twidth * 25,15000)\n",
    "t01 = np.linspace (2,5, num_pulses) * 4 * twidth\n",
    "A01 = np.linspace (10.4, num_pulses)\n",
    "t02 = [8 * twidth]\n",
    "Lambda = 9.5e-7\n",
    "wpulse = 2 * np.pi * c0 / Lambda\n",
    "k = 2.0 * np.pi / Lambda\n",
    "\n",
    "z = 3.2 * Lambda #lo that moves a mirror. Then, in train2, it will come multiplied by 2\n",
    "train1 = np.sum (np.asarray ([A01 [i] * np.exp (- ((t-t01 [i]) / twidth) ** 2) * np.exp (1.0j * (- wpulse * t ))\n",
    "                           for i in range (len (t01))]), axis = 0)\n",
    "zshow = np.linspace (0, c0 * twidth * 10,900)\n",
    "\n",
    "int_array = np.zeros (np.shape (zshow))\n",
    "dt = t [1] -t [0]\n",
    "t_int = t [-1]\n",
    "i1 = np.sum (np.real (train1) ** 2) * dt / t_int # + np.sum (np.real (train2) ** 2) * dt / t_int)\n",
    "print (i1 * 2) # i1 + i2\n",
    "for i, zz in enumerate (zshow):\n",
    "    train2 = np.sum (np.asarray ([np.exp (- ((t- (t00 + 2 * zz / c0 - twidth * 4.5)) / twidth) ** 2) * np.exp (1.0j * ( k * 2 * zz-wpulse * t))\n",
    "                               for t00 in t02]), axis = 0)\n",
    "    #Interference\n",
    "    etotal = train1 + train2\n",
    "    int_array [i] = np.sum (np.real (etotal) ** 2) * dt / t_int\n",
    "fun_int = interp1d (zshow, int_array)\n",
    "\n",
    "def oct (z, zshow, int_array, train1, fun_int):\n",
    "    z = z * 1e-6\n",
    "    train2 = np.sum (np.asarray ([A01 [0] * np.exp (- ((t- (t00 + 2 * z / c0 - twidth * 4.5)) / twidth) ** 2) * np.exp (1.0j * (k * 2 * z-wpulse * t))\n",
    "                           for t00 in t02]), axis = 0)\n",
    "    fig, ax = plt.subplots (1,3, figsize = (21,6))\n",
    "    ax [0].plot (t * 1e15, np.real (train1), t * 1e15, np.real (train2))\n",
    "    ax [0].set_title ('Time overlap pulses')\n",
    "    ax [0].set_xlabel ('t (fs)')\n",
    "    ax [0].set_ylabel ('E (u.a)')\n",
    "    ax [1].plot (zshow * 1e6, int_array)\n",
    "    ax [1].set_title ('Time overlap pulses')\n",
    "    ax [1].set_xlabel (r'z ($ \\ mu $ m) ')\n",
    "    ax [1].set_ylabel ('I (u.a)')\n",
    "    ax [2].plot (z * 1e6, fun_int (z), 'go', alpha = 0.5)\n",
    "    ax [2].plot (zshow * 1e6, int_array)\n",
    "    ax [2].set_xlim (0,25)\n",
    "    ax [2].set_title ('Zoom')\n",
    "    ax [2].set_xlabel (r'z ($ \\ mu $ m) ')\n",
    "    ax [2].set_ylabel ('I (u.a)')\n",
    "               \n",
    "\n",
    "widg.interact (oct, z = (0,25,1), zshow = widg.fixed (zshow), int_array = widg.fixed (int_array), train1 = widg.fixed (train1), fun_int = widg.fixed (fun_int ))"
   ]
  },
  {
   "cell_type": "markdown",
   "metadata": {
    "collapsed": false
   },
   "source": [
    "** From the figure **\n",
    "\n",
    "* Match the interstripe to the wavelength (Note: $ Int $ = 2 $ \\lambda $)\n",
    "\n",
    "* Match width of the interference zone with $l_c $\n",
    "\n",
    "* Relate cte value with i1 + i2 + i3\n",
    "\n",
    "* Why does the second zone have a lower value?"
   ]
  }
 ],
 "metadata": {
  "kernelspec": {
   "display_name": "Python 3 (Ubuntu Linux)",
   "language": "python",
   "name": "python3"
  },
  "language_info": {
   "codemirror_mode": {
    "name": "ipython",
    "version": 3
   },
   "file_extension": ".py",
   "mimetype": "text/x-python",
   "name": "python",
   "nbconvert_exporter": "python",
   "pygments_lexer": "ipython3",
   "version": "3.5.2"
  }
 },
 "nbformat": 4,
 "nbformat_minor": 0
}