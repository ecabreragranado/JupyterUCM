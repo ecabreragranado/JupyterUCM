{
 "cells": [
  {
   "cell_type": "markdown",
   "metadata": {
    "collapsed": false
   },
   "source": [
    "# Selection of an interferential filter to avoid eye damage"
   ]
  },
  {
   "cell_type": "markdown",
   "metadata": {
    "collapsed": false
   },
   "source": [
    "##### Consult the manual of use of the interactive notebooks that is available in the Virtual Campus"
   ]
  },
  {
   "cell_type": "markdown",
   "metadata": {
    "collapsed": false
   },
   "source": [
    "### Workgroup"
   ]
  },
  {
   "cell_type": "markdown",
   "metadata": {
    "collapsed": false
   },
   "source": [
    "In this cell the members of the group: * modify the text *\n",
    "\n",
    "* Juan Antonio Fernández\n",
    "* Alberto Pérez\n",
    "* Juan\n",
    "\n",
    "Include email addresses"
   ]
  },
  {
   "cell_type": "markdown",
   "metadata": {
    "collapsed": false
   },
   "source": [
    "### Introduction"
   ]
  },
  {
   "cell_type": "markdown",
   "metadata": {
    "collapsed": false
   },
   "source": [
    "The job is to find a commercial interference filter that works for\n",
    "Protect the eye from the visible radiation of a high-powered laser pointer. The job\n",
    "It is divided into the following tasks:"
   ]
  },
  {
   "cell_type": "markdown",
   "metadata": {
    "collapsed": false
   },
   "source": [
    "### <div class='alert'> Task 1. Maximum permissible exposure (MPE). </div>"
   ]
  },
  {
   "cell_type": "markdown",
   "metadata": {
    "collapsed": false
   },
   "source": [
    "The maximum permissible exposure (MPE) is the maximum power density\n",
    "or energy (W / cm $^2$ or J / cm $^2$) of a beam of light that can reach the human eye without causing damage.\n",
    "MPE is measured in the cornea, and depends on the wavelength of the radiation and the exposure time.\n",
    "The following figure shows the MPE in the cornea (in irradiance units (W / cm $^2$)) in function\n",
    "of the exposure time for different ranges of the electromagnetic spectrum.\n",
    "Figure from http://en.wikipedia.org/wiki/Laser_safety"
   ]
  },
  {
   "cell_type": "code",
   "execution_count": 1,
   "metadata": {
    "collapsed": false
   },
   "outputs": [
    {
     "data": {
      "text/html": [
       "<img src=\"http://upload.wikimedia.org/wikipedia/commons/thumb/2/28/IEC60825_MPE_W_s.png/640px-IEC60825_MPE_W_s.png\"/>"
      ]
     },
     "execution_count": 1,
     "metadata": {
     },
     "output_type": "execute_result"
    }
   ],
   "source": [
    "from IPython.display import Image, display\n",
    "Image(url=\"http://upload.wikimedia.org/wikipedia/commons/thumb/2/28/IEC60825_MPE_W_s.png/640px-IEC60825_MPE_W_s.png\")"
   ]
  },
  {
   "cell_type": "markdown",
   "metadata": {
    "collapsed": false
   },
   "source": [
    "### Task 1 (a). Maximum irradiance."
   ]
  },
  {
   "cell_type": "markdown",
   "metadata": {
    "collapsed": false
   },
   "source": [
    "As we are considering the laser beam of a pointer that emits\n",
    "in the visible, as exposure time we will use the time that\n",
    "it takes to close the eyelid. So with this exposure time\n",
    "estimate from the graph the maximum irradiance that the\n",
    "eye.\n",
    "\n",
    "Write the exposure time used and the corresponding value of the irradiance.\n",
    "\n",
    "* Exposure time = s\n",
    "\n",
    "* Maximum permissible irradiance = W / cm $ ^ 2 $"
   ]
  },
  {
   "cell_type": "markdown",
   "metadata": {
    "collapsed": false
   },
   "source": [
    "### Task 1 (b). Maximum power"
   ]
  },
  {
   "cell_type": "markdown",
   "metadata": {
    "collapsed": false
   },
   "source": [
    "Let's consider that the beam that reaches our eye is collimated\n",
    "with a size equivalent to that of our pupil. Using said\n",
    "size calculate the maximum power that our eye can reach\n",
    "without causing damage.\n",
    "\n",
    "Write the size of the considered pupil, the operations and the final result of the power (in mW)\n",
    "\n",
    "* Diameter or radius of the pupil = mm\n",
    "\n",
    "* Intermediate calculations\n",
    "\n",
    "* Maximum allowable power = mW"
   ]
  },
  {
   "cell_type": "markdown",
   "metadata": {
    "collapsed": false
   },
   "source": [
    "### <div class='alert'> Task 2. Choice of the laser pointer. </div>"
   ]
  },
  {
   "cell_type": "markdown",
   "metadata": {
    "collapsed": false
   },
   "source": [
    "Search the Internet for information about a\n",
    "Visible laser pointer that is high power.\n",
    "Verify that said laser pointer can cause eye damage (taking into account the result of the ** Task 1 (b) **)\n",
    "\n",
    "Write here the technical characteristics of said laser\n",
    "\n",
    "* power\n",
    "* wavelength\n",
    "* price\n",
    "* Other features\n",
    "* web page http://www.ucm.es"
   ]
  },
  {
   "cell_type": "markdown",
   "metadata": {
    "collapsed": false
   },
   "source": [
    "### <div class='alert'> Task 3. Choice of interferential filter.</div>"
   ]
  },
  {
   "cell_type": "markdown",
   "metadata": {
    "collapsed": false
   },
   "source": [
    "We are going to search the internet for an interferential filter\n",
    "that avoids the risk of eye damage to the\n",
    "Selected laser pointer. It will be a filter that blocks\n",
    "the wavelength of the laser pointer."
   ]
  },
  {
   "cell_type": "markdown",
   "metadata": {
    "collapsed": false
   },
   "source": [
    "### Task 3 (a). Search and interferential filter information"
   ]
  },
  {
   "cell_type": "markdown",
   "metadata": {
    "collapsed": false
   },
   "source": [
    "We will use the accessible information from ** Semrock ** (http://www.semrock.com/filters.aspx)\n",
    "\n",
    "Select on this web page an appropriate filter. Click on each filter (on the transmittance curve,\n",
    "about * Part Number *, or about * Show Product Detail *) for more information. Write here\n",
    "the most relevant characteristics of the selected filter:\n",
    "\n",
    "* Filter name (* Part Number *)\n",
    "* T transmittance or optical density OD\n",
    "* range of wavelengths\n",
    "* price\n",
    "* web page of the selected filter (change the following address) http://www.semrock.com/FilterDetails.aspx?id=LP02-224R-25"
   ]
  },
  {
   "cell_type": "markdown",
   "metadata": {
    "collapsed": false
   },
   "source": [
    "### Task 3 (b). Filter verification"
   ]
  },
  {
   "cell_type": "markdown",
   "metadata": {
    "collapsed": false
   },
   "source": [
    "Using the transmittance data (T) for the wavelength of the\n",
    "laser pointer check that said filter will avoid the risk of\n",
    "injury.\n",
    "\n",
    "For this we will consult the transmittance data of the selected filter that appear on the Semrock website. We follow the following steps:\n",
    "\n",
    "1. Click on the web page of the selected filter on ** ASCII Data **, which can be found in the legend of the figure (right).\n",
    "\n",
    "![example_filter](./filterexample.png)\n",
    "\n",
    "2. The experimental values of the transmittance will appear. The column on the left is the wavelength in nm and the column on the right is the transmittance from 0 to 1.\n",
    "\n",
    "3. Scroll until you find the value of the transmittance at the wavelength of the laser pointer."
   ]
  },
  {
   "cell_type": "markdown",
   "metadata": {
    "collapsed": false
   },
   "source": [
    "Indicate the value of the transmittance at the selected wavelength\n",
    "\n",
    "* $ \\lambda $ =\n",
    "\n",
    "* ** T ** =\n",
    "\n",
    "Using the value of the transmittance of the filter at the laser pointer wavelength verify\n",
    "that the filter will avoid the risk of eye damage. Write below the estimate made.\n",
    "\n",
    "* Estimation of the power that the eye will reach.\n",
    "\n"
   ]
  }
 ],
 "metadata": {
  "kernelspec": {
   "display_name": "Python 2 (SageMath)",
   "language": "python",
   "name": "python2"
  },
  "language_info": {
   "codemirror_mode": {
    "name": "ipython",
    "version": 2
   },
   "file_extension": ".py",
   "mimetype": "text/x-python",
   "name": "python",
   "nbconvert_exporter": "python",
   "pygments_lexer": "ipython2",
   "version": "2.7.14"
  },
  "name": "Filtro_Interferencial.ipynb"
 },
 "nbformat": 4,
 "nbformat_minor": 0
}