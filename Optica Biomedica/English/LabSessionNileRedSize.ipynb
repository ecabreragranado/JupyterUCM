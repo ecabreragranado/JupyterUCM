{
 "cells": [
  {
   "cell_type": "markdown",
   "metadata": {
    "collapsed": false
   },
   "source": [
    "# Biomedical Optics. Lab Session - Determination of Nile Red-like particles"
   ]
  },
  {
   "cell_type": "markdown",
   "metadata": {
    "collapsed": false
   },
   "source": [
    "NAME AND FAMILY NAME:\n",
    "\n",
    "DEADLINE:\n",
    "\n",
    "Modify the cell by including the requested data.\n"
   ]
  },
  {
   "cell_type": "markdown",
   "metadata": {
    "collapsed": false
   },
   "source": [
    "Run this cell to upload the scientific calculus libraries (%pylab inline)."
   ]
  },
  {
   "cell_type": "markdown",
   "metadata": {
    "collapsed": false
   },
   "source": [
    "# Tarea 2. Obtain the blood oxygenation level"
   ]
  },
  {
   "cell_type": "code",
   "execution_count": 0,
   "metadata": {
    "collapsed": false
   },
   "outputs": [
   ],
   "source": [
    "%pylab inline\n",
    "import mpld3\n",
    "from mpld3 import plugins"
   ]
  },
  {
   "cell_type": "markdown",
   "metadata": {
    "collapsed": false
   },
   "source": [
    "WARNING: The two following cells transforms the decimal comma of the lab datafiles by decimal dots."
   ]
  },
  {
   "cell_type": "code",
   "execution_count": 0,
   "metadata": {
    "collapsed": false
   },
   "outputs": [
   ],
   "source": [
    "# WRITE THE FILENAMES OF THE LAB DATA OBTAINED WITH THE LED, THE DICHROIC FILTERS AND THOSE OF EXCITATION AND EMISSION\n",
    "## For every filenamedicroico = ''\n",
    "filenameled = 'name1.txt'\n",
    "filenamedicroico = 'name2.txt'\n",
    "filenameemision = 'name3.txt'\n",
    "filenameexcitacion = 'name4.txt'"
   ]
  },
  {
   "cell_type": "code",
   "execution_count": 0,
   "metadata": {
    "collapsed": false
   },
   "outputs": [
   ],
   "source": [
    "# DON'T MODIFY THIS CELL, JUST RUN IT\n",
    "\n",
    "with open(filenameled) as f:\n",
    "    file_str = f.read()\n",
    "    out = file_str.replace(',', '.')\n",
    "with open(filenameled, \"w\") as f:\n",
    "    f.write(out)\n",
    "#################       \n",
    "with open(filenamedicroico) as f:\n",
    "    file_str = f.read()\n",
    "    out = file_str.replace(',', '.')\n",
    "with open(filenamedicroico, \"w\") as f:\n",
    "    f.write(out)\n",
    "#################\n",
    "with open(filenameemision) as f:\n",
    "    file_str = f.read()\n",
    "    out = file_str.replace(',', '.')\n",
    "with open(filenameemision, \"w\") as f:\n",
    "    f.write(out)\n",
    "    \n",
    "#################\n",
    "with open(filenameexcitacion) as f:\n",
    "    file_str = f.read()\n",
    "    out = file_str.replace(',', '.')\n",
    "with open(filenameexcitacion, \"w\") as f:\n",
    "    f.write(out)\n"
   ]
  },
  {
   "cell_type": "markdown",
   "metadata": {
    "collapsed": false
   },
   "source": [
    "# Part 1: Characterization of the used filters in the fluorescence microscopy for NILE RED -like particles"
   ]
  },
  {
   "cell_type": "markdown",
   "metadata": {
    "collapsed": false
   },
   "source": [
    "**Task 1**:\n",
    "\n",
    "Plot in the same graphic: \n",
    "\n",
    "- the measured transmission spectra for the used filters in the microscopy for NILE RED-like particles. \n",
    "\n",
    "- the measured emission spectrum for the LED source used in the microscopy for NILE RED-like particles. \n",
    "\n",
    "-  the excitation and emission spectra given by the supplier  (emision_NILE_RED.txt, excitacion_NILE_RED.txt)"
   ]
  },
  {
   "cell_type": "markdown",
   "metadata": {
    "collapsed": false
   },
   "source": [
    "**Task 2** *(Answer by editing this cell)*: \n",
    "\n",
    "1. Discuss the effect of every filter. \n",
    "\n",
    "2. ¿Do they select the wavelengths of interest in every case? \n",
    "\n",
    "3. ¿Why is the emission filter needed even in presence of the dichroic filter?\n",
    "\n",
    "4. ¿What would be the expected effect in the particle image if one chose the excitation/emission filter at wavelengths different from those associated to the excitation/emission maximum of the Nile Red-like particles?"
   ]
  },
  {
   "cell_type": "markdown",
   "metadata": {
    "collapsed": false
   },
   "source": [
    "# Part 2. Size of the fluorescent particles"
   ]
  },
  {
   "cell_type": "markdown",
   "metadata": {
    "collapsed": false
   },
   "source": [
    "In the following cell, we will upload the file with the image of the Rochi pattern. This image and the one of the Nile Red-like particles must have the same zoom (10X o 40X) in order to be able to calibrate the size of the latter. Let's show the image by showing the pixels at the axes figure. The saved images is 480 pixels-vertical size and 640 pixels-horizontal size.\n",
    "\n",
    "To upload and to show the image we use the commands *imread* and *imshow* respectively."
   ]
  },
  {
   "cell_type": "code",
   "execution_count": 0,
   "metadata": {
    "collapsed": false
   },
   "outputs": [
   ],
   "source": [
    "# MODIFY the FILENAME ONLY AND RUN\n",
    "from scipy.ndimage import imread\n",
    "iRonchi = imread('Ronchi10X.jpg')\n",
    "fig = figure()\n",
    "imshow(iRonchi)\n",
    "plugins.connect(fig, plugins.MousePosition(fontsize=14))\n",
    "mpld3.display(fig)"
   ]
  },
  {
   "cell_type": "markdown",
   "metadata": {
    "collapsed": false
   },
   "source": [
    "**Task 3** \n",
    "\n",
    "Estimate how many micrometers are equivalent to a 1 pixel of the image. *(Answer this question based in a detailed discussion by editing this cell)*\n",
    "\n",
    "In order to do that, we will plot the intensity profile of the Ronchi pattern as a function of the number of pixels. We will move the mouse cursor over such profile to measure the pixels equivalent to that number of lines in the pattern. Last we will calculate the size of the pixel in micrometers by knowing that the Ronchi pattern has 40lines/mm. Use the following code cells.\n"
   ]
  },
  {
   "cell_type": "code",
   "execution_count": 0,
   "metadata": {
    "collapsed": false
   },
   "outputs": [
   ],
   "source": [
    "# MODIFY THE IMAGE FILENAME\n",
    "# CHOOSE THE INITIAL AND FINAL POINTS COORDINATES. THEN RUN THIS CELL\n",
    "\n",
    "import scipy.ndimage     #import scipy.ndimage\n",
    "iRonchi = imread('Ronchi40X.jpg',flatten=True)\n",
    "\n",
    "#let's generate a line by means of the coordinates of two points on top of which we want to get the intensity profile\n",
    "\n",
    "coor_hori0, coor_vert0 = 100, 300 # write the initial point coordinates in pixels \n",
    "coor_hori1, coor_vert1 = 600, 200  # write the final point coordinates in pixels \n",
    "\n",
    "\n",
    "#we write the number of points in that line in pixels\n",
    "num=round(sqrt((coor_vert0-coor_vert1)**2+(coor_hori0-coor_hori1)**2))  \n",
    "x, y = linspace(coor_vert0, coor_vert1, num), linspace(coor_hori0, coor_hori1, num)\n",
    "# we extract the line values by a cubic interpolation\n",
    "zi = scipy.ndimage.map_coordinates(iRonchi, vstack((x,y)))\n",
    "# we plot the line on top of the image\n",
    "fig = figure(figsize(7,7))\n",
    "figure(figsize(7,7))\n",
    "imshow(iRonchi)\n",
    "plot([coor_hori0, coor_hori1],[coor_vert0, coor_vert1], 'ro-')\n",
    "\n",
    "plugins.connect(fig, plugins.MousePosition(fontsize=14))\n",
    "mpld3.display(fig)"
   ]
  },
  {
   "cell_type": "code",
   "execution_count": 0,
   "metadata": {
    "collapsed": false
   },
   "outputs": [
   ],
   "source": [
    "#DON'T MODIFY THIS CELL, JUST RUN IT\n",
    "\n",
    "fig=figure(figsize=(10,5))\n",
    "plot(zi);xlabel('pixels')\n",
    "plugins.connect(fig, plugins.MousePosition(fontsize=14))\n",
    "mpld3.display(fig)"
   ]
  },
  {
   "cell_type": "markdown",
   "metadata": {
    "collapsed": false
   },
   "source": [
    "----------------------------------------------\n",
    "After performing the calibration, we will determine the size of the fluorescent Nile Red-like particles. To do that, first, let's upload the particles image in a numerical variable. "
   ]
  },
  {
   "cell_type": "code",
   "execution_count": 0,
   "metadata": {
    "collapsed": false
   },
   "outputs": [
   ],
   "source": [
    "mpld3.disable_notebook()\n",
    "\n",
    "from scipy.ndimage import imread\n",
    "ipart = imread('particulas40X.jpg',flatten=True)\n",
    "fig = figure()\n",
    "imshow(ipart,cmap='hot')\n",
    "plugins.connect(fig, plugins.MousePosition(fontsize=14))\n",
    "mpld3.display(fig)"
   ]
  },
  {
   "cell_type": "markdown",
   "metadata": {
    "collapsed": false
   },
   "source": [
    "**Task 4** *(Answer this question based on a detailed discussion by editing this cell)*: \n",
    "\n",
    "Determine the size of the Nile Red-like particles.\n",
    "\n",
    "Once again plot the intensity profile of the image line where a particle is positioned. Move the mouse cursor on top of this plot to get the particle diameter as the FWHM of the profile. Use the following code cells after introducing the proper filenames and the initial and final coordinates of the chosen pixel line. To get the value of the real size in micrometers use the calibration procedure of the previous part. "
   ]
  },
  {
   "cell_type": "code",
   "execution_count": 0,
   "metadata": {
    "collapsed": false
   },
   "outputs": [
   ],
   "source": [
    "# MODIFY THE FILENAME WITH THE PARTICLES IMAGE\n",
    "# CHOOSE THE INITIAL AND FINAL POINT COORDINATES THAT DETERMINE THE PROFILE LINE. LAST RUN THIS CELL\n",
    "\n",
    "import scipy.ndimage     #import scipy.ndimage\n",
    "ipart = imread('particulas40X.jpg',flatten=True)\n",
    "\n",
    "#let's generate a line by means of the coordinates of two points on top of which a particle is positioned\n",
    "\n",
    "coor_hori0, coor_vert0 = 169, 225 # write the initial point coordinates in pixels \n",
    "coor_hori1, coor_vert1 = 169, 275  #  write the final point coordinates in pixels \n",
    "\n",
    "\n",
    "#we write the number of points in that line in pixels\n",
    "num=round(sqrt((coor_vert0-coor_vert1)**2+(coor_hori0-coor_hori1)**2))  \n",
    "x, y = linspace(coor_vert0, coor_vert1, num), linspace(coor_hori0, coor_hori1, num)\n",
    "# we extract the line values by a cubic interpolation\n",
    "zi = scipy.ndimage.map_coordinates(ipart, vstack((x,y)))\n",
    "#we plot the line on top of the image\n",
    "fig = figure(figsize(7,7))\n",
    "imshow(ipart)\n",
    "plot([coor_hori0, coor_hori1],[coor_vert0, coor_vert1], 'ro-')\n",
    "plugins.connect(fig, plugins.MousePosition(fontsize=14))\n",
    "mpld3.display(fig)"
   ]
  },
  {
   "cell_type": "code",
   "execution_count": 0,
   "metadata": {
    "collapsed": false
   },
   "outputs": [
   ],
   "source": [
    "#DON'T MODIFY THIS CELL, JUST RUN IT. Show the baseline to be used to calculate the particle size\n",
    "fig=figure(figsize=(10,5))\n",
    "plot(zi);xlabel('pixels')\n",
    "plugins.connect(fig, plugins.MousePosition(fontsize=14))\n",
    "mpld3.display(fig)"
   ]
  }
 ],
 "metadata": {
  "kernelspec": {
   "display_name": "Python 3 (old Anaconda 3)",
   "language": "python",
   "name": "anaconda3"
  },
  "language_info": {
   "codemirror_mode": {
    "name": "ipython",
    "version": 3
   },
   "file_extension": ".py",
   "mimetype": "text/x-python",
   "name": "python",
   "nbconvert_exporter": "python",
   "pygments_lexer": "ipython3",
   "version": "3.5.5"
  },
  "name": "",
  "signature": "sha256:8b5480215251536f6c0099000482ffcae8a1cdf9e130580e95b3c6b758dca491"
 },
 "nbformat": 4,
 "nbformat_minor": 0
}