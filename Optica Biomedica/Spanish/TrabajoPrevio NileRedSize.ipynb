{
 "cells": [
  {
   "cell_type": "markdown",
   "metadata": {
    "collapsed": false
   },
   "source": [
    "# Óptica Biomédica. Trabajo previo Práctica 4"
   ]
  },
  {
   "cell_type": "markdown",
   "metadata": {
    "collapsed": false
   },
   "source": [
    "NOMBRE Y APELLIDOS:\n",
    "\n",
    "FECHA DE ENTREGA:\n",
    "\n",
    "Modificar esta celda incluyendo la información solicitada"
   ]
  },
  {
   "cell_type": "markdown",
   "metadata": {
    "collapsed": false
   },
   "source": [
    "---\n",
    "\n",
    "Ejecutar la siguiente celda para cargar el módulo de cálculo científico (`%pylab inline`).\n"
   ]
  },
  {
   "cell_type": "code",
   "execution_count": 0,
   "metadata": {
    "collapsed": false
   },
   "outputs": [
   ],
   "source": [
    "%pylab inline"
   ]
  },
  {
   "cell_type": "markdown",
   "metadata": {
    "collapsed": false
   },
   "source": [
    "# Conceptos básicos sobre microscopía de fluorescencia"
   ]
  },
  {
   "cell_type": "markdown",
   "metadata": {
    "collapsed": false
   },
   "source": [
    "La absorción de radiación por parte de un medio involucra una transición entre dos estados de energía \n",
    "del átomo o molécula que interacciona con la luz. Para el caso de absorción por parte de una molécula, los niveles involucrados corresponderán a estados electrónicos (cuando la frecuencia de la luz absorbida corresponda al visible y el ultravioleta), vibracionales (si la frecuencia de la radiación absorbida corresponde al infrarrojo medio y cercano) o rotacionales (sicorresponde al infrarrojo lejano y microondas). Una vez el átomo o molécula se excita a un nivel \n",
    "de energía superior, puede liberar energía por medio de la emisión de luz. Se denomina luminiscencia\n",
    "a la emisión de luz por parte del medio al desexcitarse desde un nivel de energía electrónico. En la \n",
    "siguiente figura se presenta un esquema de los procesos que dan lugar a la fluorescencia por medio \n",
    "de un diagrama de niveles. En un primer momento, la molécula se excita por interacción con la luz \n",
    "incidente hasta uno de los niveles vibracionales de los estados electrónicos superiores S$_1$, \n",
    "S$_2$ en la figura. Desde ese nivel, la molécula experimenta normalmente una desexcitación por \n",
    "medio de procesos no radiativos (es decir, que no conllevan emisión de fotones) hasta el nivel \n",
    "vibracional más bajo del primer nivel electrónico excitado S$_1$. Este proceso se produce muy rápidamente, con tiempos menores del ns. \n",
    "Desde este estado, la molécula \n",
    "puede perder energía emitiendo luz que le lleva a uno de los niveles vibraciones del estado \n",
    "electrónico fundamental. Esta emisión es la que se conoce como fluorescencia y se produce en un tiempo típico de ns. Se denomina a su vez \n",
    "como fluoróforo una molécula capaz de emitir luz por este proceso. Como se puede \n",
    "observar, en el proceso de fluorescencia intervienen estados electrónicos más cercanos en energía \n",
    "que los que conectan la absorción de la luz incidente. Por tanto, la fluorescencia \n",
    "tendrá una frecuencia menor que la radiación que ha excitado la molécula. Se denomina desplazamiento de Stokes a la \n",
    "diferencia en frecuencias entre los máximos de las bandas de emisión y de absorción de la molécula.\n",
    "\n",
    "\n",
    "![jablonski](Jablonskifluorescence.png) | ![stokes](Stokes_shift-_Rh6G.png)\n",
    "-----------------------|------------\n",
    "\n",
    "\n",
    "\n",
    "Cuando la molécula se encuentra en el estado más bajo del primer nivel electrónico S$_1$, se puede \n",
    "llegar a dar otro proceso de transferencia de energía que no involucra la emisión de un fotón. Esta \n",
    "transición se denomina *Sistema Intercruzado* y se denota en la figura superior por las siglas *IC*. \n",
    "Consiste en la transición de la molécula a otro estado denominado Triplete (T$_1$ en la figura) en \n",
    "donde el espín del electrón cambia. La consecuencia fundamental de este cambio es que la relajación \n",
    "de la molécula desde el estado triplete al estado fundamental pasa a producirse en tiempos mucho más \n",
    "largos (del orden del milisegundo). A la emisión que se produce en este proceso de relajación se \n",
    "denomina *Fosforescencia* para distinguirla de la relajación desde el estado singlete excitado que \n",
    "da lugar a una emisión en tiempos mucho más rápidos (y que es la que denominamos Fluorescencia).\n",
    "\n",
    "Para medir la fluorescencia normalmente se sitúa una cámara o un fotodiodo en la dirección\n",
    "perpendicular a la del haz utilizado para excitar la muestra. De este modo se minimiza la \n",
    "contribución a la radiación capturada del haz incidente, quedando únicamente la fluorescencia. Además \n",
    "se utilizan filtros adecuados con el fin de eliminar completamente la radiación de otras longitudes de \n",
    "onda no deseadas (que pueden llegar al fotodiodo o la cámara por scattering o reflexiones).\n",
    "\n",
    "Las medidas de fluorescencia son importantes para el estudio de tejidos biológicos y de materiales. Al medir la fluorescencia, obtenemos información de la estructura de niveles de la molécula bajo estudio y de su interacción con el medio que la rodea. Además, las imágenes de fluorescencia presentan un alto contraste, lo que permite discriminar la localización de moléculas a nivel intracelular. Por otro lado, podemos utilizar determinados fluoróforos para marcar, por ejemplo, ciertas proteínas no fluorescentes. Conociendo la fluorescencia de estos fluoróforos podemos localizar y seguir la evolución de esas proteínas.\n",
    "\n",
    "\n",
    "De las características que definen la fluorescencia de una sustancia, quizás el **rendimiento cuántico** y el **tiempo de decaimiento** de la fluorescencia son las más importantes. El rendimiento cuántico es el cociente entre el número de fotones emitidos y el número de fotones absorbidos, y nos da una idea del número de moléculas que se desexcitan por emisión, dando lugar a la fluorescencia, frente al número que se desexcitan por procesos no radiativos. Estos procesos no radiativos, pueden ser, por ejemplo, colisiones con moléculas del entorno o bien transferencia de energía resonante (RET por sus siglas en inglés). En el primer caso, la molécula sufre una colisión con otra de su entorno que le lleva a perder la energía adquirida y a retornar al estado fundamental. En el caso del RET, la pérdida de energía se produce cuando el espectro de emisión del fluoróforo se solapa con el espectro de absorción de otra molécula próxima. En este caso, y sin que se produzca emisión por parte del fluoróforo, se produce una transferencia de energía entre ambas moléculas por medio de interacción eléctrica (dipolo-dipolo).\n",
    "El tiempo de decaimiento nos da una idea del tiempo que tiene la molécula para interaccionar con su entorno estando en el nivel excitado. Es por ello que siendo capaces de registrar la evolución en el tiempo de la señal de fluorescencia, podremos obtener información tanto de los procesos en la molécula que tienen lugar en ese tiempo como del entorno. Por ejemplo, podemos observar si la molécula rota durante el proceso de emisión.\n",
    "\n",
    "Para saber un poco más del fenómeno de fluorescencia,\n",
    "\n",
    "\n",
    "[Vídeo sobre microscopía de fluorescencia](http://www.youtube.com/embed/iPrZ84kHH2U)\n",
    "\n",
    "[Vídeo sobre fluorescencia](http://www.youtube.com/embed/CcssdJf0pKQ)\n",
    "\n",
    "[Tutorial sobre la fluorescencia](http://media.invitrogen.com.edgesuite.net/tutorials/1Intro/player.html)\n",
    "\n",
    "[Tutorial sobre los espectros de excitación y emisión](http://media.invitrogen.com.edgesuite.net/tutorials/2Spectra/player.html)\n"
   ]
  },
  {
   "cell_type": "markdown",
   "metadata": {
    "collapsed": false
   },
   "source": [
    "**Ejercicio 1**\n",
    "\n",
    "Explicar:\n",
    "\n",
    "A) ¿qué es el espectro de excitación y el espectro de emisión de un fluoróforo?\n",
    "\n",
    "B) ¿qué procedimiento experimental se emplea para medir cada uno de ellos?\n",
    "\n",
    "Conteste en esta celda a estas cuestiones"
   ]
  },
  {
   "cell_type": "markdown",
   "metadata": {
    "collapsed": false
   },
   "source": [
    "**Ejercicio 2** \n",
    "\n",
    "En un microscopio de fluorescencia, explicar el papel que desempeñan cada uno de los filtros empleados: filtro de excitación, dicroico, y filtro de emisión. Conteste en esta celda a esta cuestión"
   ]
  },
  {
   "cell_type": "markdown",
   "metadata": {
    "collapsed": false
   },
   "source": [
    "---------------\n",
    "\n",
    "Vamos a diseñar un microscopio de fluorescencia escogiendo los filtros adecuados para excitar y registrar la emisión de distintos fluoróforos. En la práctica utilizaremos tres fluoróforos:\n",
    "\n",
    "- *Nile Red*: partículas micrométricas fluorescentes (de la empresa Invitrogen, referencia F8825) disueltas en agua destilada. Fluorescen en rojo al ser excitadas con radiación verde. Como fuente de excitación utilizaremos un LED de alta potencia de la empresa Thorlabs cuyo máximo de emisión está en λ=530 nm (Modelo: M530L3-Green).\n",
    "\n",
    "- *Proflavina*: (de la empresa Sigma-Aldrich, referencia 131105-5G) disuelta en agua destilada. Fluoresce en verde (con su máximo en λ=512 nm) cuando se le excita con azul. Como fuente de excitación utilizaremos un LED de alta potencia de la empresa Thorlabs cuyo máximo de emisión está en λ=455 nm (Modelo: M455L2-Royal Blue).\n",
    "\n",
    "- *Protoporfirina IX*: (de la empresa Sigma-Aldrich, referencia P8293-1G) disuelta en una mezcla de N,N-dimetilformamida y etanol al 50%. Fluoresce en rojo (con su máximo en λ=633 nm) cuando se excita en UV-azul. Como fuente de excitación utilizaremos un LED de alta potencia de la empresa LedEngin cuyo máximo de emisión está en λ=390 nm (Modelo: LZ1-10UA00)."
   ]
  },
  {
   "cell_type": "markdown",
   "metadata": {
    "collapsed": false
   },
   "source": [
    "# Fluoróforo Nile Red"
   ]
  },
  {
   "cell_type": "markdown",
   "metadata": {
    "collapsed": false
   },
   "source": [
    "Cargamos el fichero del espectro de excitación de las partículas *Nile Red*: **excitacion_NILE_RED.txt**. La primera columna es la longitud de onda y la segunda columna es la intensidad relativa del espectro de excitación. Igualmente cargamos el fichero del espectro de emisión de las partículas *Nile Red*, **emision_NILE_RED.txt**; la primera columna es la longitud de onda para el espectro de emisión, y la segunda columna es la intensidad relativa del espectro de emisión. El código a continuación realiza estas operaciones."
   ]
  },
  {
   "cell_type": "code",
   "execution_count": 0,
   "metadata": {
    "collapsed": false
   },
   "outputs": [
   ],
   "source": [
    "exci_nilered = loadtxt('excitacion_NILE_RED.txt') # Carga el fichero con el espectro de excitacion del fluoróforo en la variable exci_nilered\n",
    "long_onda_exc = exci_nilered[:,0] # primera columna\n",
    "intens_exc = exci_nilered[:,1] # segunda columna\n",
    "emi_nilered = loadtxt('emision_NILE_RED.txt') # Carga el fichero con el espectro de emision del fluoróforo en la variable emi_nilered\n",
    "long_onda_emi = emi_nilered[:,0] # primera columna\n",
    "intens_emi = emi_nilered[:,1] # segunda columna"
   ]
  },
  {
   "cell_type": "markdown",
   "metadata": {
    "collapsed": false
   },
   "source": [
    "Representamos ambos espectros"
   ]
  },
  {
   "cell_type": "code",
   "execution_count": 0,
   "metadata": {
    "collapsed": false
   },
   "outputs": [
   ],
   "source": [
    "import mpld3     # el módulo `mpld3` permite mostrar las figuras con la opción de hacer zoom en ellas\n",
    "from mpld3 import plugins\n",
    "mpld3.enable_notebook()\n",
    "\n",
    "fig=figure(figsize=(7,4))\n",
    "fill_between(long_onda_exc,intens_exc,0,alpha = 0.2)\n",
    "fill_between(long_onda_emi,intens_emi,0,color='r',alpha = 0.2)\n",
    "xlabel('Longitud de onda (nm)')\n",
    "ylabel('Espectro normalizado')\n",
    "text(630,50,'Emission');\n",
    "text(500,60,'Excitation');\n",
    "plugins.connect(fig, plugins.MousePosition(fontsize=14))\n",
    "mpld3.display(fig)"
   ]
  },
  {
   "cell_type": "markdown",
   "metadata": {
    "collapsed": false
   },
   "source": [
    "**Ejercicio 3**:\n",
    "\n",
    "De la figura anterior, indique cuál es el valor del desplazamiento de Stokes y en qué rango de longitudes de onda se produce solapamiento entre los dos espectros. Conteste en esta celda a esta cuestión"
   ]
  },
  {
   "cell_type": "markdown",
   "metadata": {
    "collapsed": false
   },
   "source": [
    "---------------\n",
    "Cargamos ahora el fichero del espectro de la fuente M530L3 de Throlabs, **M530L3.txt**, que utilizaremos para ilumninar estas partículas y mostramos su espectro superpuesto a los anteriores. El espectro de emisión de la fuente toma valores entre 0 y 1, por tanto para poder visualizarlo en la misma gráfica habrá que multiplicarlo por 100."
   ]
  },
  {
   "cell_type": "code",
   "execution_count": 0,
   "metadata": {
    "collapsed": false
   },
   "outputs": [
   ],
   "source": [
    "espect_fuente = loadtxt('M530L3.txt')\n",
    "long_onda_fuente = espect_fuente[:,0]\n",
    "intens_norm_fuente = 100.0*espect_fuente[:,1]\n",
    "mpld3.disable_notebook()\n",
    "figsize(7,4)\n",
    "plot(long_onda_fuente,intens_norm_fuente,'g')\n",
    "fill_between(long_onda_exc,intens_exc,0,alpha = 0.2)\n",
    "fill_between(long_onda_emi,intens_emi,0,color='r',alpha = 0.2)\n",
    "xlabel(r'$\\lambda$ (nm)')\n",
    "ylabel('Espectro normalizado')\n",
    "axis([400,750,0,100]);"
   ]
  },
  {
   "cell_type": "markdown",
   "metadata": {
    "collapsed": false
   },
   "source": [
    "Vamos a elegir los filtros para poder medir la señal fluorescente. Para ello tendremos en cuenta los espectros anteriores.\n",
    "\n",
    "En el laboratorio disponemos de 9 filtros cuyas referencias (*Part number*) son las siguientes:\n",
    "\n",
    "- Semrock, part number FF01-520/35-25. Fichero **FF01-520_35.txt**\n",
    "- Semrock, part number FF01-593/40. Fichero **FF01-593_40.txt**\n",
    "- Semrock, part number FF01-452/45-25. Fichero **FF01-452_45.txt**\n",
    "- Semrock, part number FF01-550/88-25. Fichero **FF01-550_88.txt**\n",
    "- Newport, part number 10LF10-633. Fichero **10LF10-633.txt**\n",
    "- Chroma, part number BLP01-594R-25. Fichero **BLP01-594R.txt**\n",
    "- Chroma, part number BLP01-514R-25. Fichero **BLP01-514R.txt**\n",
    "- Semrock, part number Di02-R442, Fichero **Di02-R442.txt**\n",
    "- Semrock, part number FF562-Di03. Fichero **FF563-di03.txt**\n",
    "- Semrock, part number 485dclp. Fichero **485dclp.txt**\n",
    "\n",
    "**Ejercicio 4**\n",
    "\n",
    "Mostramos a continuación el enlace a la página web de la empresa Semrock, especializada en la venta de filtros para todo tipo de aplicaciones. Busque en dicha página alguno de estos filtros anotando en esta celda su precio.\n",
    "\n",
    "\n",
    "[Página web de Semrock](http://www.semrock.com/filters.aspx)"
   ]
  },
  {
   "cell_type": "markdown",
   "metadata": {
    "collapsed": false
   },
   "source": [
    " **********\n",
    "**Ejercicio 5**\n",
    "\n",
    "Cargue los ficheros espectrales de las transmitancias de estos filtros y representelos. La primera columna corresponde a la longitud de onda en nanómetros y la segunda columna a la transmitancia. Indique dentro de estos, qué filtro de excitación, de emisión y dicroico escogería para las partículas *Nile Red* (Para ello indique el *Part number* que aparece arriba). Argumente la elección realizada. Conteste a esta cuestión en esta celda.\n",
    "\n",
    "Filtro de excitación: \n",
    "\n",
    "\n",
    "Filtro de emisión: \n",
    "\n",
    "Filtro dicroico:\n"
   ]
  },
  {
   "cell_type": "markdown",
   "metadata": {
    "collapsed": false
   },
   "source": [
    "*******\n",
    "Vamos a comprobar el efecto de los filtros escogidos sobre los espectros cargados anteriormente. En la siguiente celda de código escriba los nombres de los ficheros escogidos en el ejercicio 5 como filtros de excitación, emisión y dicroico. El siguiente código muestra los datos del archivo de transmitancia vs longitud de onda de cada filtro seleccionado junto con los espectros de la fuente, y los de excitación y emisión de las partículas. \n",
    "\n",
    "Introduzca en la siguiente celda el código los nombres de los ficheros escogidos como filtros de excitación, emisión y dicroico. "
   ]
  },
  {
   "cell_type": "code",
   "execution_count": 0,
   "metadata": {
    "collapsed": false
   },
   "outputs": [
   ],
   "source": [
    "filtro_exc = loadtxt('nombre_fichero_filtro_excitacion_elegido')\n",
    "long_onda_fexc = filtro_exc[:,0]\n",
    "espec_exc = 100*filtro_exc[:,1]\n",
    "\n",
    "filtro_emi = loadtxt('nombre_fichero_filtro_emision_elegido')\n",
    "long_onda_femi = filtro_emi[:,0]\n",
    "espec_emi = 100.0*filtro_emi[:,1]\n",
    "\n",
    "filtro_dic = loadtxt('nombre_fichero_filtro_dicroico_elegido.txt')\n",
    "long_onda_fdic = filtro_dic[:,0]\n",
    "espec_dic = 100.0*filtro_dic[:,1]\n",
    "\n",
    "fig = figure()\n",
    "figsize(7,4)\n",
    "plot(long_onda_fuente,intens_norm_fuente,'g')\n",
    "fill_between(long_onda_exc,intens_exc,0,color='g',alpha = 0.2)\n",
    "fill_between(long_onda_emi,intens_emi,0,color='r',alpha = 0.2)\n",
    "xlabel(r'$\\lambda$ (nm)')\n",
    "ylabel('Espectro normalizado')\n",
    "text(630,50,'Emission');\n",
    "text(500,60,'Excitation');\n",
    "title('NILE RED')\n",
    "plot(long_onda_fexc,espec_exc,'b')\n",
    "plot(long_onda_femi,espec_emi,'r')\n",
    "plot(long_onda_fdic,espec_dic,'black')\n",
    "xlabel(r'$\\lambda$ (nm)')\n",
    "ylabel('Espectro normalizado')\n",
    "axis([400,750,0,100]);"
   ]
  },
  {
   "cell_type": "markdown",
   "metadata": {
    "collapsed": false
   },
   "source": [
    "# Proflavina"
   ]
  },
  {
   "cell_type": "markdown",
   "metadata": {
    "collapsed": false
   },
   "source": [
    "**Ejercicio 6**\n",
    "\n",
    "\n",
    "- Cargar el fichero del espectro de excitación **excitacion_PROFLAVINA.txt** y el de emisión **emision_PROFLAVINA.txt** de la *proflavina*.  \n",
    "- Representarlo junto con el espectro de emisión de la fuente que se empleará para excitarla, **M455L3.txt**.\n",
    "- Elegir cuál de los filtros de los que disponemos es el mas adecuado para ver la fluorescencia de la proflavina. \n",
    "- Representar las transmitancias de los filtros elegidos junto con los espectros de emisión y excitación de la proflavina y el de emisión de la fuente."
   ]
  },
  {
   "cell_type": "markdown",
   "metadata": {
    "collapsed": false
   },
   "source": [
    "**Ejercicio 7**\n",
    "\n",
    "\n",
    "Indique cuál es el valor del desplazamiento de Stokes en el caso de la proflavina y en qué rango de longitudes de onda se produce solapamiento entre los dos espectros. Justifique la elección de los filtros. Conteste en esta celda a esta cuestión"
   ]
  },
  {
   "cell_type": "markdown",
   "metadata": {
    "collapsed": false
   },
   "source": [
    "# Protoporfirina IX"
   ]
  },
  {
   "cell_type": "markdown",
   "metadata": {
    "collapsed": false
   },
   "source": [
    "**Ejercicio 8**\n",
    "\n",
    "- Cargar el fichero del espectro de excitación **excitacion_PROTOPORFIRINA.txt** y de emisión **emision_PROTOPORFIRINA.txt** de la *protoporfirina*.  \n",
    "- Representarlo junto con el espectro de emisión de la fuente de iluminación que se empleará para excitarla, **LZ1-10UA00.txt**.\n",
    "- Elegir cuál de los filtros de los que disponemos es el mas adecuado (si lo hubiera o si fuese necesario) para ver la fluorescencia de la protoporfirina. Representar las transmitancias de los filtros elegidos junto con los espectros emisión y excitación de la protoporfirina y el de emisión de la fuente. "
   ]
  },
  {
   "cell_type": "markdown",
   "metadata": {
    "collapsed": false
   },
   "source": [
    "**Ejercicio 9**\n",
    "\n",
    "\n",
    "Indique cuál es el valor del desplazamiento de Stokes en el caso de la protoporfirina y en qué rango de longitudes de onda se produce solapamiento entre los dos espectros. Justifique la elección de los filtros. Conteste en esta celda a esta cuestión"
   ]
  }
 ],
 "metadata": {
  "kernelspec": {
   "display_name": "SageMath (stable)",
   "name": "sagemath"
  },
  "language_info": {
   "codemirror_mode": {
    "name": "ipython",
    "version": 2
   },
   "file_extension": ".py",
   "mimetype": "text/x-python",
   "name": "python",
   "nbconvert_exporter": "python",
   "pygments_lexer": "ipython2",
   "version": "2.7.14"
  },
  "name": "",
  "signature": "sha256:88ec480874ce5420c59b5e16bc9adcf78df53e01ad4c625814df2306d62669ed"
 },
 "nbformat": 4,
 "nbformat_minor": 0
}