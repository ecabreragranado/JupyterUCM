{
 "cells": [
  {
   "cell_type": "markdown",
   "metadata": {
    "collapsed": false
   },
   "source": [
    "# Index of notebooks\n",
    "\n",
    "\n",
    "1. Fundamentals of electromagnetic wave interference\n",
    "    \n",
    "    1.1 [Two waves interference](./TwoWavesInterference/TwoWavesInterference.ipynb)\n",
    "    \n",
    "    1.2 [Young's experiment](./YoungsExperiment/YoungsExperiment.ipynb)\n",
    "    \n",
    "    1.3 [Young's experiment with wave trains. Longitudinal coherence](./YoungsExperiment/WaveTrains.ipynb) (Code doesn't work)\n",
    "    \n",
    "    1.4 [Fresnel Biprism](./YoungsExperiment/FresnelsBiprismExercise.ipynb) (Only Anaconda)\n",
    "    \n",
    "2. Applications of interference\n",
    "\n",
    "    2.1 [Anti-reflective treatment](./Anti-reflectiveTreatment/Anti-reflectiveTreatmentExercise.ipynb)\n",
    "    \n",
    "    2.2 [Multiple wave interference. Fabry-Perot Interferometer](./MultipleWaveInterference/MultipleWaveInterference.ipynb)\n",
    "    \n",
    "    2.3 [Newton's Rings](./NewtonsRings/NewtonsRings.ipynb) (Code doesn't work)\n",
    "    \n",
    "    2.4 [Determination of the radius of an ophthalmic lens. Newton Rings](./NewtonsRingsExercise/NewtonsRingsExercise.ipynb) (Code cells 2 and 3 don't work)\n",
    "    \n",
    "    2.5 [Interferential filters](./InterferentialFilter/InterferentialFilter.ipynb)\n",
    "    \n",
    "    2.6 [OCT](./OCT/OCT.ipynb)\n",
    "    \n",
    "3. Diffraction\n",
    "\n",
    "    3.1 [Fraunhofer diffraction](./FraunhoferDiffraction/FraunhoferDiffraction.ipynb) (Only Anaconda)\n",
    "    \n",
    "    3.2 [Measurement of dimensions of apertures](./FraunhoferDiffraction/DiffractionExercise.ipynb)\n",
    "    \n",
    "    3.3 [Resolution power](./FraunhoferDiffraction/ResolutionPower.ipynb)\n",
    "    \n",
    "    3.4 [Diffraction grating](./DiffractionGrating/DiffractionGrating.ipynb)\n",
    "    \n",
    "    3.5 [Abbe's theory of image formation](./AbbeTheory/AbbeTheory.ipynb)\n",
    "    \n",
    "    3.6 [Diffrational image theory](./DiffractionalTheoryImage/DiffractionalTheoryImage.ipynb)"
   ]
  }
 ],
 "metadata": {
  "kernelspec": {
   "display_name": "SageMath (stable)",
   "name": "sagemath"
  },
  "language_info": {
   "codemirror_mode": {
    "name": "ipython",
    "version": 2
   },
   "file_extension": ".py",
   "mimetype": "text/x-python",
   "name": "python",
   "nbconvert_exporter": "python",
   "pygments_lexer": "ipython2",
   "version": "2.7.14"
  }
 },
 "nbformat": 4,
 "nbformat_minor": 0
}