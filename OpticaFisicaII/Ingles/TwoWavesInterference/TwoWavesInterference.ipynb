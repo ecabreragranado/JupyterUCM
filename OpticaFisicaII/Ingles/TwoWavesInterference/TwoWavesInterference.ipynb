{
 "cells": [
  {
   "cell_type": "markdown",
   "metadata": {
    "collapsed": false
   },
   "source": [
    "# Interference between 2 electromagnetic waves"
   ]
  },
  {
   "cell_type": "markdown",
   "metadata": {
    "collapsed": false
   },
   "source": [
    "### Review of what was studied in previous courses"
   ]
  },
  {
   "cell_type": "markdown",
   "metadata": {
    "collapsed": false
   },
   "source": [
    "In previous courses we tried to answer the question: What disturbance do we find at a point P if two different waves arrive at it?\n",
    "\n",
    "In particular, we have studied the case in which the two waves are harmonic, of the type:\n",
    "\n",
    "$$y_1(x_1,t) = A cos(k x_1 - \\omega t + \\phi_1) $$\n",
    "$$y_2(x_2,t) = A cos(k x_2 - \\omega t + \\phi_2) $$  \n",
    "\n",
    "Where it is considered that the two waves have the same amplitude to simplify the result.\n",
    "\n",
    "The * superposition principle * tells us that the total disturbance is the sum of the perturbations\n",
    "caused by each of the waves. This principle is equivalent to saying that the wave equation\n",
    "It is a linear equation.\n",
    "\n",
    "So, if we call $y_t(x_p,t)$ to the total disturbance:\n",
    "\n",
    "$$y_t(x,t) = A cos(k x_1 - \\omega t + \\phi_1) + A cos(k x_2 - \\omega t + \\phi_2)$$  \n",
    "\n",
    "Taking into account that $cos A + cos B = 2 cos(\\frac{A+B}{2})cos(\\frac{A-B}{2})$, \n",
    "\n",
    "$$y_t(x_p,t) = 2 A cos(k \\frac{x_1 - x_2}{2} + \\frac{\\phi_1 - \\phi_2}{2}) cos(k \\frac{x_1 + x_2}{2} - \\omega t+ \\frac{\\phi_1 + \\phi_2}{2})$$\n",
    "\n",
    "If we define $\\delta = k \\frac{x_1 - x_2}{2} + \\frac{\\phi_1 - \\phi_2}{2}$, the value of this variable determines the amplitude of\n",
    "the disturbance at point P. This value depends on the difference in paths between the two waves and the initial phase shift. If\n",
    "$ \\delta = 2 m \\pi $, with $ m = 0, \\pm 1, \\ 2 ... $ the total amplitude will take the maximum value $ 2 A $, while if $ \\delta = 2 (m + 1 ) \\pi $\n",
    "the amplitude will be zero.\n",
    "\n",
    "We see that ** interference results in a spatial redistribution of energy **."
   ]
  },
  {
   "cell_type": "markdown",
   "metadata": {
    "collapsed": false
   },
   "source": [
    "### Interference between two electromagnetic waves"
   ]
  },
  {
   "cell_type": "markdown",
   "metadata": {
    "collapsed": false
   },
   "source": [
    "The interference explained above is, of course, valid for electromagnetic waves. However, in this case we must consider some particular characteristics of this type of waves that add new effects,\n",
    "\n",
    "* Electromagnetic waves have ** polarization **, that is, we have to add vectors.\n",
    "\n",
    "* What we measure is not the amplitude of the wave but the irradiance. This magnitude, apart from being proportional to the square of the\n",
    "amplitude, represents an average in a time much greater than the oscillation period of the fields ($ \\sim $ 1-10 fs).\n",
    "\n",
    "$$ I \\propto < \\vec{E}^2>_{\\tau} = \\frac{1}{\\tau} \\int_t^{t + \\tau} \\vec{E}^2(t') dt' $$\n",
    "\n",
    "$$ I = \\epsilon_0 c n < \\vec{E}^2>_{\\tau} $$\n",
    "\n",
    "* Because what we see is this average, the phase between the interfering fields can not vary in time if we want to see\n",
    "the interference. This characteristic is called * coherence * and we will see it developed later in the course.\n",
    "\n",
    "We will now describe the ** interference of two flat, linearly polarized and monochromatic electromagnetic waves **\n",
    "\n",
    "The electric fields associated with each wave will be:\n",
    "\n",
    "$$E_1(\\vec{r},t) = \\vec{E_{01}} cos(\\vec{k_1} \\vec{r} - \\omega t + \\phi_1) $$\n",
    "$$E_2(\\vec{r},t) = \\vec{E_{02}} cos(\\vec{k_2}\\vec{r} - \\omega t + \\phi_2) $$\n",
    "\n",
    "The total field would be $\\vec{E_t} = \\vec{E_1} + \\vec{E_2}$ , and total irradiance $I_t = \\epsilon_0 c n <\\vec{E_T}^2>$.\n",
    "\n",
    "$$I_t = \\epsilon_0 c n <(\\vec{E_1} + \\vec{E_2})^2> =  \\epsilon_0 c n <\\vec{E_1}^2> +  \\epsilon_0 c n <\\vec{E_1}^2> +  2 \\epsilon_0 c n <\\vec{E_1} \\cdot \\vec{E_2}>$$\n",
    "\n",
    "In the above terms, we can recognize,\n",
    "\n",
    "$$I_1 = \\epsilon_0 c n <\\vec{E_1}^2>$$\n",
    "$$I_2 = \\epsilon_0 c n <\\vec{E_2}^2>$$\n",
    "\n",
    "while the last term is known as an interference term. If we multiply both fields scalarly and perform the integral that gives us the average over time, considering that $ <sin^ 2 (\\omega t)> = <cos^2 (\\omega t)> = 1/2 $ and also that\n",
    "$ <sin (\\omega t) cos (\\omega t)> = 0 $, we can get to the following result:\n",
    "\n",
    "\n",
    "$$<\\vec{E_1} \\cdot \\vec{E_2}> = \\frac{1}{2}\\vec{E_{01}} \\cdot \\vec{E_{02}} cos[(\\vec{k_1} - \\vec{k_2})\\cdot \\vec{r} + (\\phi_1 - \\phi2)] $$\n",
    "\n",
    "In this expression it has also been assumed that the initial phases $ \\phi_{12} $ do not depend on time.\n",
    "\n",
    "From the above expression we can extract several characteristics:\n",
    "\n",
    "+ The interference term depends on the * scalar product * $ \\vec {E_{01}} \\cdot \\vec {E_{02}} $.\n",
    "That is, ** if the two waves are polarized perpendicularly, they do not interfere **. This product\n",
    "scalar can also be written with the unit vectors in the addresses of $\\vec{E_{01}}$ y $\\vec{E_{02}}$, \n",
    "$\\vec{E_{01}} \\cdot \\vec{E_{02}} = E_{01}E_{02}(\\vec{e_{1}} \\cdot \\vec{e_{2}})$\n",
    "\n",
    "+ Depends on the relative offset between the two waves $\\delta = (\\vec{k_1} - \\vec{k_2})\\cdot \\vec{r} + (\\phi_1 - \\phi2)$.\n",
    "\n",
    "\n",
    "So, we can conclude that,\n",
    "\n",
    "$$I_t = I_1 + I_2 + 2 \\sqrt{I_1 I_2}(\\vec{e_{1}} \\cdot \\vec{e_{2}})cos(\\delta)$$\n",
    "\n",
    "In the case where $ I_1 = I_2 = I_0 $, $ I_t = 2 I_0 (1 + cos (\\delta)) = 4 I_0 cos ^ 2 (\\frac {\\delta} {2}) $\n",
    "\n",
    "If we define the contrast as,\n",
    "\n",
    "$$ C = \\frac {I_{max} - I_{min}} {I_{max} + I_{min}} $$\n",
    "\n",
    "we can rewrite the total irradiance as,\n",
    "\n",
    "$$ I_t = (I_1 + I_2) (1 + C cos (\\delta)) $$\n",
    "\n",
    "Let's see an example of the variation of the total irradiance with the phase shift between the two waves."
   ]
  },
  {
   "cell_type": "code",
   "execution_count": 1,
   "metadata": {
    "collapsed": false
   },
   "outputs": [
    {
     "name": "stdout",
     "output_type": "stream",
     "text": [
      "Populating the interactive namespace from numpy and matplotlib\n"
     ]
    }
   ],
   "source": [
    "%pylab inline"
   ]
  },
  {
   "cell_type": "code",
   "execution_count": 2,
   "metadata": {
    "collapsed": false
   },
   "outputs": [
    {
     "data": {
      "image/png": "[encoded data removed]"
     },
     "execution_count": 2,
     "metadata": {
     },
     "output_type": "execute_result"
    }
   ],
   "source": [
    "style.use('fivethirtyeight')\n",
    "delta = arange(0,6*pi,0.1)\n",
    "I_1 = 0.1\n",
    "I_2 = 1\n",
    "I_t = I_1 + I_2 + 2*sqrt(I_1*I_2)*cos(delta)\n",
    "plot(delta,I_t)\n",
    "ylim(0,4)\n",
    "xlabel(r'$\\delta$')\n",
    "ylabel(r'I$_t$');"
   ]
  },
  {
   "cell_type": "markdown",
   "metadata": {
    "collapsed": false
   },
   "source": [
    "In the previous code,\n",
    "\n",
    "* Calculate the contrast of the interference.\n",
    "* Change the values of $ I_1 $ and $ I_2 $ and execute the cell. How does the figure change? Does the contrast change?\n",
    "* What values of $ \\delta $ do you see that give maximum $ I_t $ and what minimum values?"
   ]
  },
  {
   "cell_type": "markdown",
   "metadata": {
    "collapsed": false
   },
   "source": [
    "We see that the offset $ \\delta $ is what determines the value of the total irradiance. We must bear in mind that it is defined, for the case we are studying, by the expression,\n",
    "\n",
    "$$ \\delta = (\\vec{k_1} - \\vec{k_2})\\cdot \\vec{r} + (\\phi_1 - \\phi_2) $$\n",
    "\n",
    "We see then, that the initial phase shift between the two waves $ \\phi_1 - \\phi_2 $, $ \\delta $ depends only on the point where we are measuring $ I_t $ and the difference between the\n",
    "wave vectors associated with each of the two waves that interfere."
   ]
  },
  {
   "cell_type": "code",
   "execution_count": 3,
   "metadata": {
    "collapsed": false
   },
   "outputs": [
    {
     "data": {
      "text/html": [
       "<div style=\"position: relative; width: 300px; height: 232px;\"><a href=\"http://phet.colorado.edu/sims/wave-interference/wave-interference_en.jnlp\" style=\"text-decoration: none;\"><img src=\"http://phet.colorado.edu/sims/wave-interference/wave-interference-screenshot.png\" alt=\"Wave Interference\" style=\"border: none;\" width=\"300\" height=\"232\"/><div style=\"position: absolute; width: 200px; height: 80px; left: 50px; top: 76px; background-color: #FFF; opacity: 0.6; filter: alpha(opacity = 60);\"></div><table style=\"position: absolute; width: 200px; height: 80px; left: 50px; top: 76px;\"><tr><td style=\"text-align: center; color: #000; font-size: 24px; font-family: Arial,sans-serif;\">Click to Run</td></tr></table></a></div>"
      ]
     },
     "execution_count": 3,
     "metadata": {
     },
     "output_type": "execute_result"
    }
   ],
   "source": [
    "from IPython.display import HTML\n",
    "HTML('<div style=\"position: relative; width: 300px; height: 232px;\"><a href=\"http://phet.colorado.edu/sims/wave-interference/wave-interference_en.jnlp\" style=\"text-decoration: none;\"><img src=\"http://phet.colorado.edu/sims/wave-interference/wave-interference-screenshot.png\" alt=\"Wave Interference\" style=\"border: none;\" width=\"300\" height=\"232\"/><div style=\"position: absolute; width: 200px; height: 80px; left: 50px; top: 76px; background-color: #FFF; opacity: 0.6; filter: alpha(opacity = 60);\"></div><table style=\"position: absolute; width: 200px; height: 80px; left: 50px; top: 76px;\"><tr><td style=\"text-align: center; color: #000; font-size: 24px; font-family: Arial,sans-serif;\">Click to Run</td></tr></table></a></div>')"
   ]
  }
 ],
 "metadata": {
  "kernelspec": {
   "display_name": "Python 2 (SageMath)",
   "language": "python",
   "name": "python2"
  },
  "language_info": {
   "codemirror_mode": {
    "name": "ipython",
    "version": 2
   },
   "file_extension": ".py",
   "mimetype": "text/x-python",
   "name": "python",
   "nbconvert_exporter": "python",
   "pygments_lexer": "ipython2",
   "version": "2.7.14"
  },
  "name": "Interferencia2Ondas.ipynb"
 },
 "nbformat": 4,
 "nbformat_minor": 0
}