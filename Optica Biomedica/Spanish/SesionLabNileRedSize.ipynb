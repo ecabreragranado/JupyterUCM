{
 "metadata": {
  "name": "",
  "signature": "sha256:8b5480215251536f6c0099000482ffcae8a1cdf9e130580e95b3c6b758dca491"
 },
 "nbformat": 3,
 "nbformat_minor": 0,
 "worksheets": [
  {
   "cells": [
    {
     "cell_type": "heading",
     "level": 1,
     "metadata": {},
     "source": [
      "\u00d3ptica Biom\u00e9dica. Pr\u00e1ctica 4"
     ]
    },
    {
     "cell_type": "markdown",
     "metadata": {},
     "source": [
      "Modificar esta celda incluyendo la informaci\u00f3n solicitada\n",
      "\n",
      "NOMBRE Y APELLIDOS:\n",
      "\n",
      "FECHA DE ENTREGA:\n",
      "\n"
     ]
    },
    {
     "cell_type": "markdown",
     "metadata": {},
     "source": [
      "Ejecutar la siguiente celda para cargar el m\u00f3dulo de c\u00e1lculo cient\u00edfico (%pylab inline)."
     ]
    },
    {
     "cell_type": "code",
     "collapsed": false,
     "input": [
      "%pylab inline\n",
      "import mpld3\n",
      "from mpld3 import plugins"
     ],
     "language": "python",
     "metadata": {},
     "outputs": []
    },
    {
     "cell_type": "markdown",
     "metadata": {},
     "source": [
      "NOTA: Las dos celdas siguientes cambian las comas decimales por puntos en los ficheros medidos en el laboratorio"
     ]
    },
    {
     "cell_type": "code",
     "collapsed": false,
     "input": [
      "# ESCRIBIR EN ESTA CELDA LOS NOMBRES DE LOS FICHEROS DEL LED Y DE LOS FILTROS DICROICO, DE EXCITACI\u00d3N Y DE EMISI\u00d3N\n",
      "## Para cada filenamedicroico = ''\n",
      "filenameled = 'nombre1.txt'\n",
      "filenamedicroico = 'nombre2.txt'\n",
      "filenameemision = 'nombre3.txt'\n",
      "filenameexcitacion = 'nombre4.txt'"
     ],
     "language": "python",
     "metadata": {},
     "outputs": []
    },
    {
     "cell_type": "code",
     "collapsed": false,
     "input": [
      "# NO TOCAR ESTA CELDA, SOLO EJECUTAR\n",
      "\n",
      "with open(filenameled) as f:\n",
      "    file_str = f.read()\n",
      "    out = file_str.replace(',', '.')\n",
      "with open(filenameled, \"w\") as f:\n",
      "    f.write(out)\n",
      "#################       \n",
      "with open(filenamedicroico) as f:\n",
      "    file_str = f.read()\n",
      "    out = file_str.replace(',', '.')\n",
      "with open(filenamedicroico, \"w\") as f:\n",
      "    f.write(out)\n",
      "#################\n",
      "with open(filenameemision) as f:\n",
      "    file_str = f.read()\n",
      "    out = file_str.replace(',', '.')\n",
      "with open(filenameemision, \"w\") as f:\n",
      "    f.write(out)\n",
      "    \n",
      "#################\n",
      "with open(filenameexcitacion) as f:\n",
      "    file_str = f.read()\n",
      "    out = file_str.replace(',', '.')\n",
      "with open(filenameexcitacion, \"w\") as f:\n",
      "    f.write(out)\n"
     ],
     "language": "python",
     "metadata": {},
     "outputs": []
    },
    {
     "cell_type": "heading",
     "level": 3,
     "metadata": {},
     "source": [
      "Parte 1: Caracterizaci\u00f3n de los filtros empleados en el microscopio de fluorescencia para las part\u00edculas NILE RED"
     ]
    },
    {
     "cell_type": "markdown",
     "metadata": {},
     "source": [
      "**Pregunta 1**:\n",
      "\n",
      "Representar en la misma gr\u00e1fica: \n",
      "\n",
      "- los espectros de transmisi\u00f3n medidos por el alumno para los filtros empleados en el microscopio de las part\u00edculas NILE RED. \n",
      "\n",
      "- el espectro de emisi\u00f3n medido por el alumno para la fuente LED empleada en el microscopio de las part\u00edculas NILE RED.   \n",
      "\n",
      "- los espectros de excitaci\u00f3n y emisi\u00f3n de las part\u00edculas suministrados por el fabricante  (emision_NILE_RED.txt, excitacion_NILE_RED.txt)"
     ]
    },
    {
     "cell_type": "markdown",
     "metadata": {},
     "source": [
      "**Pregunta 2** *(Conteste editando esta celda)*: \n",
      "\n",
      "1. Comente el efecto de cada filtro. \n",
      "\n",
      "2. \u00bfSeleccionan las longitudes de onda deseadas en cada caso? \n",
      "\n",
      "3. \u00bfPor qu\u00e9 es necesario el filtro de emisi\u00f3n, si disponemos ya del filtro dicroico?\n",
      "\n",
      "4. \u00bfQu\u00e9 efecto esperar\u00eda encontrar en la imagen de las part\u00edculas si escogemos el filtro de excitaci\u00f3n/emisi\u00f3n en longitudes de onda distintas de las que corresponden al m\u00e1ximo de excitaci\u00f3n/emisi\u00f3n de las part\u00edculas Nile Red?"
     ]
    },
    {
     "cell_type": "heading",
     "level": 3,
     "metadata": {},
     "source": [
      "Parte 2. Tama\u00f1o de las part\u00edculas fluorescentes"
     ]
    },
    {
     "cell_type": "markdown",
     "metadata": {},
     "source": [
      "En la siguiente celda vamos a cargar el fichero con la imagen de la red de Ronchi. Como vamos a utilizar esta imagen para calibrar el tama\u00f1o de las part\u00edculas Nile red, ambas im\u00e1genes (la de la red de Ronchi y la de las part\u00edculas) deben tener el mismo aumento (10X o 40X). Mostramos la imagen en una figura que nos da en los ejes los p\u00edxeles.  Las im\u00e1genes salvadas tienen un tama\u00f1o de 480 p\u00edxeles en la direcci\u00f3n vertical y 640 p\u00edxeles en la direcci\u00f3n horizontal.\n",
      "\n",
      "Para cargar la imagen utilizamos el comando *imread*.  Para mostrar la figura con la imagen se utiliza el comando *imshow*."
     ]
    },
    {
     "cell_type": "code",
     "collapsed": false,
     "input": [
      "# MODIFICAR SOLO EL NOMBRE DEL FICHERO QUE CONTIENE LA IMAGEN Y EJECUTAR\n",
      "from scipy.ndimage import imread\n",
      "iRonchi = imread('Ronchi10X.jpg')\n",
      "fig = figure()\n",
      "imshow(iRonchi)\n",
      "plugins.connect(fig, plugins.MousePosition(fontsize=14))\n",
      "mpld3.display(fig)"
     ],
     "language": "python",
     "metadata": {},
     "outputs": []
    },
    {
     "cell_type": "markdown",
     "metadata": {},
     "source": [
      "**Pregunta 3** \n",
      "\n",
      "Estimar a cuantas micras equivale 1 pixel de la imagen. *(Conteste editando esta celda explicando en detalle el procedimiento seguido)*\n",
      "\n",
      "Para ello, vamos a representar el perfil de intensidad de la imagen  de la red de Ronchi y representarlo en funci\u00f3n de los p\u00edxeles. Sobre dicho perfil vamos a medir con el cursor los p\u00edxeles que equivalen a ese n\u00famero de l\u00edneas de la red. A continuaci\u00f3n deduciremos el tama\u00f1o del pixel en micras sabiendo que la red de Ronchi tiene 40 l\u00edneas/mm. Utilizar el c\u00f3digo de las dos celdas siguientes. "
     ]
    },
    {
     "cell_type": "code",
     "collapsed": false,
     "input": [
      "# MODIFICAR EL NOMBRE DEL FICHERO QUE CONTIENE LA IMAGEN \n",
      "# ELEGIR LAS COORDENADAS DE LOS PUNTOS INICIAL Y FINAL QUE DETERMINAR EL PERFIL. LUEGO EJECUTAR\n",
      "\n",
      "import scipy.ndimage     #importa el modulo scipy.ndimage\n",
      "iRonchi = imread('Ronchi40X.jpg',flatten=True)\n",
      "\n",
      "#vamos a generar una l\u00ednea (dando las corredenadas de dos puntos) en la que queremos calcular el perfil de intensidad\n",
      "\n",
      "coor_hori0, coor_vert0 = 100, 300 # escribir las coordenadas en pixeles del punto inicial\n",
      "coor_hori1, coor_vert1 = 600, 200  # escribir las coordenadas en pixeles del punto final\n",
      "\n",
      "\n",
      "#el n\u00famero de puntos de esa l\u00ednea lo escribimos en pixeles\n",
      "num=round(sqrt((coor_vert0-coor_vert1)**2+(coor_hori0-coor_hori1)**2))  \n",
      "x, y = linspace(coor_vert0, coor_vert1, num), linspace(coor_hori0, coor_hori1, num)\n",
      "# extraemos los valores de la l\u00ednea empleando una interpolaci\u00f3n c\u00fabica\n",
      "zi = scipy.ndimage.map_coordinates(iRonchi, vstack((x,y)))\n",
      "#pintamos la l\u00ednea sobre la imagen \n",
      "fig = figure(figsize(7,7))\n",
      "figure(figsize(7,7))\n",
      "imshow(iRonchi)\n",
      "plot([coor_hori0, coor_hori1],[coor_vert0, coor_vert1], 'ro-')\n",
      "\n",
      "plugins.connect(fig, plugins.MousePosition(fontsize=14))\n",
      "mpld3.display(fig)"
     ],
     "language": "python",
     "metadata": {},
     "outputs": []
    },
    {
     "cell_type": "code",
     "collapsed": false,
     "input": [
      "#NO TOCAR. SOLO EJECUTAR\n",
      "\n",
      "fig=figure(figsize=(10,5))\n",
      "plot(zi);xlabel('pixeles')\n",
      "plugins.connect(fig, plugins.MousePosition(fontsize=14))\n",
      "mpld3.display(fig)"
     ],
     "language": "python",
     "metadata": {},
     "outputs": []
    },
    {
     "cell_type": "markdown",
     "metadata": {},
     "source": [
      "----------------------------------------------\n",
      "Una vez hecha la calibraci\u00f3n vamos a determinar el tama\u00f1o de las part\u00edculas fluorescentes *Nile Red*. Para ello primero vamos a cargar en una variable la imagen de las part\u00edculas. "
     ]
    },
    {
     "cell_type": "code",
     "collapsed": false,
     "input": [
      "mpld3.disable_notebook()\n",
      "\n",
      "from scipy.ndimage import imread\n",
      "ipart = imread('particulas40X.jpg',flatten=True)\n",
      "fig = figure()\n",
      "imshow(ipart,cmap='hot')\n",
      "plugins.connect(fig, plugins.MousePosition(fontsize=14))\n",
      "mpld3.display(fig)"
     ],
     "language": "python",
     "metadata": {},
     "outputs": []
    },
    {
     "cell_type": "markdown",
     "metadata": {},
     "source": [
      "**Pregunta 4** *(Conteste editando esta celda explicando en detalle el procedimiento seguido)*: \n",
      "\n",
      "Determinar el tama\u00f1o de las part\u00edculas fluorescentes *Nile Red*.\n",
      "\n",
      "De nuevo realizar el perfil de intensidad de una l\u00ednea de la imagen que donde se encuentra una part\u00edcula. Representar este perfil de intensidad en una gr\u00e1fica, y mover el cursor sobre esa gr\u00e1fica para obtener el di\u00e1metro de la part\u00edcula (d\u00e9 el valor de la anchura del perfil obtenido a media altura en p\u00edxeles). Utilizar el c\u00f3digo de las siguientes celdas en donde hay que introducir el nombre del fichero de las part\u00edculas y los valores de las coordenadas inicial y final de los puntos de la recta en p\u00edxeles. Para obtener el valor de la anchura real (en micras) utilizar la calibraci\u00f3n de la pregunta anterior. "
     ]
    },
    {
     "cell_type": "code",
     "collapsed": false,
     "input": [
      "# MODIFICAR EL NOMBRE DEL FICHERO QUE CONTIENE LA IMAGEN DE LAS PART\u00cdCULAS\n",
      "# ELEGIR LAS COORDENADAS DE LOS PUNTOS INICIAL Y FINAL QUE DETERMINAR EL PERFIL. LUEGO EJECUTAR\n",
      "\n",
      "import scipy.ndimage     #importa el modulo scipy.ndimage\n",
      "ipart = imread('particulas40X.jpg',flatten=True)\n",
      "\n",
      "#vamos a generar una l\u00ednea (dando las corredenadas de dos puntos) en la que se encuentre una part\u00edcula\n",
      "\n",
      "coor_hori0, coor_vert0 = 169, 225 # escribir las coordenadas en pixeles del punto inicial\n",
      "coor_hori1, coor_vert1 = 169, 275  # escribir las coordenadas en pixeles del punto final\n",
      "\n",
      "\n",
      "#el n\u00famero de puntos de esa l\u00ednea lo escribimos en pixeles\n",
      "num=round(sqrt((coor_vert0-coor_vert1)**2+(coor_hori0-coor_hori1)**2))  \n",
      "x, y = linspace(coor_vert0, coor_vert1, num), linspace(coor_hori0, coor_hori1, num)\n",
      "# extraemos los valores de la l\u00ednea empleando una interpolaci\u00f3n c\u00fabica\n",
      "zi = scipy.ndimage.map_coordinates(ipart, vstack((x,y)))\n",
      "#pintamos la l\u00ednea sobre la imagen \n",
      "fig = figure(figsize(7,7))\n",
      "imshow(ipart)\n",
      "plot([coor_hori0, coor_hori1],[coor_vert0, coor_vert1], 'ro-')\n",
      "plugins.connect(fig, plugins.MousePosition(fontsize=14))\n",
      "mpld3.display(fig)"
     ],
     "language": "python",
     "metadata": {},
     "outputs": []
    },
    {
     "cell_type": "code",
     "collapsed": false,
     "input": [
      "#NO TOCAR. SOLO EJECUTAR  Muestra el corte realizado y que se utilizar\u00e1 para calcular el tama\u00f1o de la part\u00edcula\n",
      "fig=figure(figsize=(10,5))\n",
      "plot(zi);xlabel('pixeles')\n",
      "plugins.connect(fig, plugins.MousePosition(fontsize=14))\n",
      "mpld3.display(fig)"
     ],
     "language": "python",
     "metadata": {},
     "outputs": []
    }
   ],
   "metadata": {}
  }
 ]
}