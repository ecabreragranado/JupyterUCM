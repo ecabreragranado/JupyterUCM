{
 "cells": [
  {
   "cell_type": "markdown",
   "metadata": {
    "collapsed": true
   },
   "source": [
    "# Biomedical Optics. Preliminary tasks. Lab Session 3 - Reflectance spectra of biological tissues"
   ]
  },
  {
   "cell_type": "markdown",
   "metadata": {
    "collapsed": false
   },
   "source": [
    "NAME AND FAMILY NAME:\n",
    "\n",
    "DEADLINE:\n",
    "\n",
    "Modify the cell by including the requested data."
   ]
  },
  {
   "cell_type": "markdown",
   "metadata": {
    "collapsed": false
   },
   "source": [
    "---\n",
    "\n",
    "\n",
    "Run this cell to upload the scientific calculus libraries (`%pylab inline`).\n"
   ]
  },
  {
   "cell_type": "code",
   "execution_count": 1,
   "metadata": {
    "collapsed": false
   },
   "outputs": [
    {
     "name": "stdout",
     "output_type": "stream",
     "stream": "stdout",
     "text": [
      "Populating the interactive namespace from numpy and matplotlib\n"
     ]
    }
   ],
   "source": [
    "%pylab inline"
   ]
  },
  {
   "cell_type": "markdown",
   "metadata": {
    "collapsed": false
   },
   "source": [
    "# Diffuse Reflectance Spectrum"
   ]
  },
  {
   "cell_type": "markdown",
   "metadata": {
    "collapsed": false
   },
   "source": [
    "In spectroscospy to get the local diffuse reflectance of a biological tissue, it  is iluminated with an optical fiber while the retrodiffused radiation is collected by another fiber at a distance $r$ from the first one, see the figure.\n",
    "\n",
    "![Diffuse Reflectance](reflectanciadifusa.png)\n",
    "\n",
    "Keeping in mind the diffusion equation, we can calculate the diffuse reflectance measured by the detection fiber as:\n",
    "\n",
    "$$ R_d =  Cte \\; T_{epi} \\;  \\left[ \n",
    "\\frac{ z_0 \\left( 1+ \\mu_{eff} \\rho_1  \\right)}{4 \\pi \\rho_1^3} e^{-\\mu_{eff}\\rho_1} \n",
    "+ \\frac{  \\left( z_0 + 4 A D  \\right) \\left(1 + \\mu_{eff} \\rho_2 \\right) }{4 \\pi \\rho_2^3}  e^{-\\mu_{eff} \\rho_2} \\right] $$\n",
    "\n",
    "\n",
    "where $Cte$ is a global normalization constant. $\\mu_{eff}=\\sqrt{3\\mu_a(\\mu_a+\\mu_s')}$ is the radiation effective extinction coefficient when propagating along the biological tissue, where $\\mu_s'$ is the reduced scattering coefficient, and $\\mu_a$ is the absorption coefficient (all in cm$^{-1}$). $D = 1/(3(\\mu_a + \\mu_s'))$ is the diffusion coefficient. $z_0=1/(\\mu_a+\\mu_s')$ is the radiation penetration depth into the tissue, that is considered in the diffusion model as the distance within the tissue at which the source of light is. By knowing the distance between the ilumination and detection fibers $r$ (cm), the distances between the detector and the two sources (the one inside the tissue and the virtual one outside of it considered for boundary conditions) are:\n",
    "\n",
    "$$\\rho_1=\\sqrt{z_0^2 + r^2},$$\n",
    "$$\\rho_2 = \\sqrt{ \\left(z_0 + 4 A D \\right)^2 + r^2 }.$$\n",
    "\n",
    "$A$ is related to the refractive index variation at the interface between the tissue and the external medium: $A = (1 + R_{eff})/(1 - R_{eff})$, with $R_{eff} = - 1.440 / n_r^2 + 0.71 / n_r + 0.668 + 0.0636 n_r  $, being $n_r$ the tissue refractive index normalized by the external one. $T_{epi}$ is the transmittance of the epidermis which takes into account the melanin absorption\n",
    "\n",
    "$$T_{epi} = e^{ - Mel \\; \\mu_{a \\; mel} \\;  L_{epi} }$$  \n",
    "\n",
    "\n",
    "where $Mel$ is the epidermis melanin content, $L_{epi}=0.006*2$ cm is the propagation path of the light when entering and leaving the epidermis (by considering 60 $\\mu$m of epidermis), and last, $\\mu_{a \\; mel}$ is the melanine absorption coefficient (cm$^{-1}$):\n",
    "\n",
    "$$ \\mu_{a \\; mel} (cm^{-1})= \\frac{6.6 \\times 10^{11}} { [\\lambda(nm)]^{3.33}}$$ \n",
    "\n",
    "The reduced scaterring coefficient $\\mu_{s}' = a (\\mu_{s \\; Mie}' + \\mu_{s \\; Ray.}')$ results from a combination of the Mie and Rayleigh scattering coefficients (cm$^{-1}$):\n",
    "\n",
    "$$ \\mu_{s \\; Mie}' (cm^{-1}) = 4.59 \\times 10^3 \\; [\\lambda(nm)]^{-0.913}$$\n",
    "$$ \\mu_{s \\; Ray.}' (cm^{-1})= 1.74 \\times 10^{12} \\; [\\lambda(nm)]^{-4}$$\n",
    "\n",
    "while $a$ is a constant which modifies the scattering amplitude. \n",
    "\n",
    "The absroption coefficient (cm$^{-1}$) is mainly due to the hemoglobin and partially to the water:\n",
    "\n",
    "$$\\mu_a  = B \\; \\left( S \\; \\mu_{a \\; oxi} + ( 1 - S ) \\; \\mu_{a \\; desoxi}  \\right) + W \\; \\mu_{a \\; water}$$ \n",
    "\n",
    "where $B$ is the blood volume fraction in the tissue, $S$ is the blood oxygenation level, $\\mu_{a \\; oxi}$ and $\\mu_{a \\; desoxi}$ are the absorption coefficients of the oxyhemoglobin and the desoxyhemoglobin in blood, respectively,  $W$ is the water volume fraction in the tissue and $\\mu_{a \\; water}$ the water absorption coefficient.\n"
   ]
  },
  {
   "cell_type": "markdown",
   "metadata": {
    "collapsed": false
   },
   "source": [
    "**Exercise 1**\n",
    "\n",
    "**Plot the spectrum of the absorption coefficient of the hemoglobin, the oxihemoglobin y the water within the range 450- 800 nm. The associated files are called: water450-800nm.DAT, hemoglobina450-800nm.DAT and oxihemoglobina450-800nm.DAT and they are already uploaded in the current directory. This files contain two columns: first one for the wavelength in nm, and second one for the absorption coefficient in cm^-1. Discuss the spectral region where the largest absorption arises in every case.**\n"
   ]
  },
  {
   "cell_type": "markdown",
   "metadata": {
    "collapsed": false
   },
   "source": [
    "**Exercise 2**\n",
    "\n",
    "**Plot the spectrum of the absorption coefficient of the melanin within the range 450- 800 nm.  Discuss the wavelength range where the largest absorption arises.**\n",
    "\n",
    "$$ \\mu_{a \\; mel} (cm^{-1})= \\frac{6.6 \\times 10^{11}} { [\\lambda(nm)]^{3.33}}$$ "
   ]
  },
  {
   "cell_type": "markdown",
   "metadata": {
    "collapsed": false
   },
   "source": [
    "**Exercise 3**\n",
    "\n",
    "**Plot the spectrum of the reduced scattering coefficient $\\mu_{s}' = a (\\mu_{s \\; Mie}' + \\mu_{s \\; Ray.}')$ by considering a =1 within the range 450-800 nm. Plot in the same graphic the Mie and Rayleigh contributions. Discuss the wavelength range where the largest scattering, and particularly the largest Mie and Rayleigh contributions, arise.** \n",
    "\n",
    "$$ \\mu_{s \\; Mie}' (cm^{-1}) = \\frac{ 4.59 \\times 10^3}{ [\\lambda(nm)]^{0.913}}$$\n",
    "$$ \\mu_{s \\; Ray.}' (cm^{-1})= \\frac{1.74 \\times 10^{12}}{[\\lambda(nm)]^{4}}$$\n"
   ]
  },
  {
   "cell_type": "markdown",
   "metadata": {
    "collapsed": false
   },
   "source": [
    "Now we plot the theoretical function that calculates the previously given diffuse reflectance $R_d$. To do that we will use the following parameter set: \n",
    "\n",
    " - **r**:  distance (cm) between the ilumination and detection fibers. Typical value ~ 0.04cm\n",
    " \n",
    " - **W**:  water volume fraction of the tissue. Typical value ~ 0.65\n",
    "\n",
    " - **n_r**:  external and tissue refractive indexes. Typial value ~ 1.4\n",
    " \n",
    "The remaining parameters: **B**, **S**, **Mel**, **a**, and **Cte** are used as fitting parameters. This means the fitting procedure is based on the variation of these parameters until we obtain a theoretical curve that approaches as much as possible to the experimental one. Thus, we will obtain final values for them. In order to start with the fitting we need to define their initial values.:\n",
    "\n",
    "  - **a**: constant to vary the scattering total amplitude. Starting value 1.\n",
    "  \n",
    " - **Cte**: global constant of the theoretical diffuse reflectance. Starting value 0.1.\n"
   ]
  },
  {
   "cell_type": "markdown",
   "metadata": {
    "collapsed": false
   },
   "source": [
    "**Exercise 5**\n",
    "\n",
    "**Read the paper \"Rapid and accurate estimation of blood saturation, melanin content, and epidermis thickness from spectral diffuse reflectance\", Dmitry Yudovsky and Laurent Pilon, Applied Optics vol. 49, pags. 1707-1719. that you can find the this directory. From the paper, obtain the typical order of magnitude of the following parameters (see Table 1 of the paper).**\n",
    " \n",
    " - **B**:  blood volume fraction in the tissue. Typical values\n",
    " \n",
    " - **S**:  oxygenation level. Typical values\n",
    "\n",
    " - **Mel**:  melanin content in the epidermis. Typical values \n"
   ]
  },
  {
   "cell_type": "markdown",
   "metadata": {
    "collapsed": false
   },
   "source": [
    "**Exercise 6**\n",
    "\n",
    "**Plot the diffuse reflectance function for a typical parameter set.**"
   ]
  },
  {
   "cell_type": "code",
   "execution_count": 30,
   "metadata": {
    "collapsed": false
   },
   "outputs": [
   ],
   "source": [
    "# MODIFY THIS CELL AND RUN IT\n",
    "\n",
    "r = 0.04    # cm, source-detector fibers distance\n",
    "W = 0.65  #  water in tissue\n",
    "n_r = 1.4    # tissue refractive index divided by external refractive index\n",
    "\n",
    "Cte = 0.01       # Constante global de la reflectancia difusa teórica\n",
    "a= 1             # Constant to scale scattering amplitude.\n",
    "Lepi =0.006*2    # cm, epidermis length\n",
    "\n",
    "B =     # Blood volume fraction\n",
    "S =      # Oxygenation level\n",
    "Mel =    # Melanin in epidermis\n",
    "\n",
    "\n",
    "R_eff = - 1.440/n_r**2 + 0.710/n_r + 0.668 + 0.0636*n_r   \n",
    "A = (1 + R_eff)/(1 - R_eff)\n",
    "Tepi = exp(-Mel*muamel*Lepi) \n",
    "mua  = B*(S*muaoxy + (1-S)*muadeoxy) + W*muawater \n",
    "mueff = sqrt(3*mua*(mua+musp))\n",
    "D=1/(3*(mua+musp))\n",
    "z0 = 1.0/(mua + musp)\n",
    "r1 = sqrt(z0**2 + r**2)\n",
    "r2 = sqrt((z0 + 4*A*D)**2 + r**2)\n",
    "RD = Cte*Tepi*(((z0*(1+mueff*r1))/(4*pi*r1**3))*exp(-mueff*r1) + \n",
    "               ((z0+4*A*D)*(1+mueff*r2)/(4*pi*r2**3))*exp(-mueff*r2)) "
   ]
  },
  {
   "cell_type": "markdown",
   "metadata": {
    "collapsed": false
   },
   "source": [
    "**Exercise 7**\n",
    "\n",
    "**Discuss which characteristic feature of this curve could be associated with the presence of oxygen in blood.**"
   ]
  },
  {
   "cell_type": "code",
   "execution_count": 0,
   "metadata": {
    "collapsed": false
   },
   "outputs": [
   ],
   "source": [
   ]
  }
 ],
 "metadata": {
  "kernelspec": {
   "display_name": "Python 3 (old Anaconda 3)",
   "language": "python",
   "name": "anaconda3"
  },
  "language_info": {
   "codemirror_mode": {
    "name": "ipython",
    "version": 3
   },
   "file_extension": ".py",
   "mimetype": "text/x-python",
   "name": "python",
   "nbconvert_exporter": "python",
   "pygments_lexer": "ipython3",
   "version": "3.5.5"
  },
  "name": "",
  "signature": "sha256:ac25d5684caceb35fa6411f9df411a5606411715cd6533de00918fcb988ad325"
 },
 "nbformat": 4,
 "nbformat_minor": 0
}