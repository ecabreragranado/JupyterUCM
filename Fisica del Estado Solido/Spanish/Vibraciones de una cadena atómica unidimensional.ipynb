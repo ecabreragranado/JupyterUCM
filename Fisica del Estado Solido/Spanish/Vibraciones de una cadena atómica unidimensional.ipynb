{
 "cells": [
  {
   "cell_type": "markdown",
   "metadata": {
    "collapsed": false
   },
   "source": [
    "# Vibraciones de una cadena atómica unidimensional"
   ]
  },
  {
   "cell_type": "markdown",
   "metadata": {
    "collapsed": false
   },
   "source": [
    "# Autores: Elena Díaz y Francisco Dominguez-Adame - Universidad Complutense de Madrid"
   ]
  },
  {
   "cell_type": "markdown",
   "metadata": {
    "collapsed": false
   },
   "source": [
    "Consideremos una cadena atómica unidimensional infinitamente larga. Si $V(|x_n-x_\\ell|)\\ $ es el potencial de interacción entre los átomos $n$ y $\\ell$, que se encuentran en las posiciones $x_n$ y $x_\\ell$, respectivamente, entonces el Hamiltoniano clásico de la cadena es\n",
    "\n",
    "$$\n",
    "H=\\sum_n \\frac{1}{2}m\\dot{x}_{n}^{2} + \\sum_n \\sum_{\\ell \\neq n} \\frac{1}{2} V(|x_n-x_\\ell|)\n",
    "$$\n",
    "\n",
    "Vamos a considerar que los desplazamientos atómicos respecto a la posición de equilibrio son pequeños. Por tanto, podemos escribir que\n",
    "\n",
    "$$\n",
    "x_{n} = na + u_{n} \n",
    "\\qquad\n",
    "|u_{n}| \\ll a\n",
    "$$\n",
    "\n",
    "donde $a$ es el parámetro de red. Esta aproximación nos permite desarrollar el potencial en serie de Taylor y despreciar los términos de orden cúbico y superiores. Para ello, por brevedad de notación definimos $z_{n\\ell}=u_{n}-u_{\\ell}\\ $ de manera que\n",
    "\n",
    "$$\n",
    "V(|x_n-x_\\ell|) \\simeq V(|n-\\ell|a)+z_{n\\ell}\\frac{\\partial V}{\\partial z_{n\\ell}} + \\frac{1}{2}z_{n\\ell}^2\\frac{\\partial^2 V}{\\partial z_{n\\ell}^2}\n",
    "$$\n",
    "\n",
    "donde todas las derivadas se evalúan en $z_{n\\ell}=0\\ $. El término de orden cero proporciona la energía potencial de la cadena en equilibrio mientras que el término lineal en los desplazamientos respecto al equilibrio corresponde a la fuerza entre los átomos en dicha posición. La fuerza total sobre un átomo en la posición de equilibrio es nula, por lo que no tenemos que considerarlo. Por tanto\n",
    "\n",
    "$$\n",
    "H=\\sum_n \\frac{1}{2}m\\dot{u}_{n}^{2} + H_0+\\sum_n \\sum_{\\ell \\neq n} \\frac{1}{4} K(|n-\\ell|)(u_{n}-u_{\\ell})^2\n",
    "$$\n",
    "\n",
    "donde $H_0$ es la energía en equilibrio y $K(|n-\\ell|)$ es la derivada segunda del potencial de interacción cuando la separación entre los átomos es $|n-\\ell|a\\ $.\n",
    "\n",
    "A partir de ahora vamos a considerar sólo la interacción entre vecinos próximos y segundos vecinos nada más. Sean $K_1\\equiv K(a)\\ $ y $K_2 \\equiv K(2a)\\ $ de manera\n",
    "que aproximadamente el Hamiltoniano clásico sería\n",
    "\n",
    "$$\n",
    "H=H_0+\\sum_{n} \\left{\\frac{1}{2}m\\dot{u}_{n}^{2} +\\frac{1}{4} K_1 \\Big[\\Big(u_n-u_{n+1}\\Big)^2+\\Big(u_n-u_{n-1}\\Big)^2\\Big]\n",
    "+\\frac{1}{4} K_2 \\Big[\\Big(u_n-u_{n+2}\\Big)^2+\\Big(u_n-u_{n-2}\\Big)^2\\Big]\\right}\n",
    "$$\n",
    "\n",
    "Las ecuaciones del movimiento son entonces las siguientes\n",
    "\n",
    "$$\n",
    "m\\ddot{u}_n=K_1\\Big(u_{n+1}+u_{n-1}-2u_n\\Big)+K_2\\Big(u_{n+2}+u_{n-2}-2u_n\\Big)\n",
    "$$\n"
   ]
  },
  {
   "cell_type": "markdown",
   "metadata": {
    "collapsed": false
   },
   "source": [
    "# Relación de dispersión"
   ]
  },
  {
   "cell_type": "markdown",
   "metadata": {
    "collapsed": false
   },
   "source": [
    "Para encontrar la relación de dispersión proponemos una solución de la forma\n",
    "\n",
    "$$\n",
    "u_n=Ae^{i(nka-\\omega t)}\n",
    "$$\n",
    "\n",
    "y tras sustuir en la ecuación de movmiento encontramos la relación de dispersión\n",
    "\n",
    "$$\n",
    "\\omega^2 =4\\omega_1^2\\Big(\\sin^2(ka/2)+\\frac{K_2}{K_1}\\sin^2(ka)\\Big)\n",
    "$$\n",
    "\n",
    "donde por brevedad hemos definido\n",
    "\n",
    "$$\n",
    "\\omega_1^2=\\frac{K_1}{m}\n",
    "$$"
   ]
  },
  {
   "cell_type": "markdown",
   "metadata": {
    "collapsed": false
   },
   "source": [
    "# Densidad de modos"
   ]
  },
  {
   "cell_type": "markdown",
   "metadata": {
    "collapsed": false
   },
   "source": [
    "Cuando se imponen condiciones periódicas de contorno se encuentra que los valores permitidos de $k$ son $k=j(2\\pi/L)\\ $ donde $j$ es un número entero y $L$\n",
    "es la longitud de la cadena. Por tanto, la separación entre dos valores consecutivos de $k$ es $2\\pi/L\\ $, de manera que la densidad de modos en el espacio de\n",
    "momentos es la inversa de esa cantidad $N(k)=L/2\\pi\\ $. La densidad de modos será entonces tal que \n",
    "\n",
    "$$\n",
    "N(\\omega)d\\omega=N(k)dk=(L/2\\pi)dk\\ ,\n",
    "$$ \n",
    "\n",
    "de manera que la densidad de modos por unidad de longitud resulta ser\n",
    "\n",
    "$$\n",
    "n(\\omega)\\equiv \\frac{1}{L}N(\\omega)=\\frac{1}{2\\pi} \\frac{1}{d\\omega/dk}\n",
    "$$\n",
    "\n",
    "Es decir, podemos obtener la densidad de modos por unidad de longitud directamente a partir de la relación de dispersión"
   ]
  },
  {
   "cell_type": "markdown",
   "metadata": {
    "collapsed": false
   },
   "source": [
    "# Cálculo y representación de la relación de dispersión y la densidad de modos de vibración de una cadena de átomos unidimensional"
   ]
  },
  {
   "cell_type": "markdown",
   "metadata": {
    "collapsed": false
   },
   "source": [
    "# Observar cómo varían la relación de dispersión y la densidad de modos para diferentes valores del cociente $K_2/K_1$. Razonar qué ocurre cuando $K_2>>K_1$"
   ]
  },
  {
   "cell_type": "code",
   "execution_count": 1,
   "metadata": {
    "collapsed": false
   },
   "outputs": [
    {
     "name": "stdout",
     "output_type": "stream",
     "stream": "stdout",
     "text": [
      "Populating the interactive namespace from numpy and matplotlib\n"
     ]
    },
    {
     "data": {
      "text/plain": [
       "<matplotlib.patches.Polygon at 0x29bddd0>"
      ]
     },
     "execution_count": 1,
     "metadata": {
     },
     "output_type": "execute_result"
    },
    {
     "output_type": "display_data",
     "png": "[encoded data removed]",
     "text": [
      "<matplotlib.figure.Figure at 0x1b37850>"
     ]
    }
   ],
   "source": [
    "%pylab inline\n",
    "m=1. # masa de los átomos de la red\n",
    "a=1. # constante de red\n",
    "K1=1. # constante de acoplamiento a primeros vecinos\n",
    "K2=1.# constante de acoplamiento a segundos vecinos\n",
    "k=linspace(-1.*pi,1.*pi,51)\n",
    "N=size(k)\n",
    "frec2=4.*(sin(k*a/2)**2+(K2/K1)*(sin(k*a))**2) # cuadrado de las frecuencias de vibracion permitidas en la red en unidades de sqrt(K1/m)\n",
    "frec=sqrt(4.*(sin(k*a/2)**2+(K2/K1)*(sin(k*a))**2)) # frecuencias de vibracion permitidas en la red en unidades de sqrt(K1/m)\n",
    "\n",
    "# Cálculo de la densidad de modos de vibración a través de la derivada de la relación de dispersión\n",
    "w=empty(N-1)\n",
    "nw=empty(N-1)\n",
    "for j in range (1,N):\n",
    "    w[j-1]=(frec[j]+frec[j-1])/2\n",
    "    nw[j-1]=absolute(((k[j]-k[j-1])/(frec[j]-frec[j-1])))\n",
    "\n",
    "W=empty(N-1)\n",
    "NW=empty(N-1)\n",
    "index=argsort(w)\n",
    "for j in range(0,N-1):\n",
    "    W[j]=w[index[j]]\n",
    "    NW[j]=nw[index[j]]\n",
    "\n",
    "    \n",
    "figsize(14,4)\n",
    "subplot(121)\n",
    "# Relación de dispersion en la primera zona de Brillouin\n",
    "plot(k,sqrt(frec2))\n",
    "xlabel('ka',fontsize=20)\n",
    "ylabel('$\\omega/\\omega_1$',fontsize=20)\n",
    "title('Relacion de Dispersion en la primera zona de Brillouin',fontsize=14)\n",
    "\n",
    "# Densidad de modos de vibración \n",
    "ax2=subplot(122)\n",
    "scatter(NW,W)\n",
    "axis([0,20, 0, W[size(W)-1]+0.2]);\n",
    "ylabel('$\\omega/\\omega_1$',fontsize=20)\n",
    "xlabel('$D(\\omega)$ [u.a]',fontsize=20)\n",
    "title('Densidad de modos',fontsize=20)\n",
    "# region sombreada\n",
    "b1=0\n",
    "b2=amax(W)\n",
    "verts = [(0,b1)] + list(zip(NW,W))+[(0,b2)]\n",
    "poly = Polygon(verts)\n",
    "ax2.add_patch(poly)\n",
    "\n",
    "\n"
   ]
  },
  {
   "cell_type": "code",
   "execution_count": 0,
   "metadata": {
    "collapsed": false
   },
   "outputs": [
   ],
   "source": [
   ]
  }
 ],
 "metadata": {
  "kernelspec": {
   "display_name": "SageMath (stable)",
   "name": "sagemath"
  },
  "language_info": {
   "codemirror_mode": {
    "name": "ipython",
    "version": 2
   },
   "file_extension": ".py",
   "mimetype": "text/x-python",
   "name": "python",
   "nbconvert_exporter": "python",
   "pygments_lexer": "ipython2",
   "version": "2.7.14"
  },
  "name": ""
 },
 "nbformat": 4,
 "nbformat_minor": 0
}