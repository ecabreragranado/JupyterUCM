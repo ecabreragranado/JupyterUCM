{
 "cells": [
  {
   "cell_type": "markdown",
   "metadata": {
    "collapsed": false
   },
   "source": [
    "# Introduction\n",
    "\n",
    "We have seen how the diffraction determines that the irradiance in a screen located after an opening, will not have the spatial distribution fixed by the geometric shadow of said opening. The beam opens and shows maximum and minimum on the screen. This observation can be interpreted by applying the Huygens-Fresnel principle, that is, calculating the interference of the secondary waves emitted by each point of the wave front that the aperture allows to pass.\n",
    "\n",
    "We have also seen previously that in the particular case of a circular opening, the distribution of irradiance on the screen is known as Airy disk, characterized by a central maximum where most of the energy is distributed and lateral lobes less and less intense . Due to this profile, the size of the Airy spot is usually specified by giving the diameter (or radius) of the first dark ring, or the angle subtended with the optical axis by this minimum from the opening if the sizeis expressed in angular units.\n",
    "\n",
    "This value of the angle that gives the position of the first minimum of the Airy disk follows the expression,\n",
    "\n",
    "$$ \\theta_1 = \\frac {1.22 \\lambda} {\\Phi} $$\n",
    "\n",
    "where $ \\lambda $ is the wavelength that illuminates the system and $ \\Phi $ is the diameter of the aperture.\n",
    "\n",
    "![Airy Function](640px-Airy_pattern_scaled.svg.png)\n",
    "\n",
    "----------\n",
    "\n",
    "This distribution of irradiance caused by a circular aperture takes great importance when introducing the effects of diffraction on the formation of the image of an optical system. Indeed, every optical system has a finite transversal dimension, normally given by the size of the included lenses or diaphragms. This finite size causes the beam coming from an object from which one wants to form its image to be cut at its entrance to the system, thus appearing the diffraction effects discussed in this topic. The result is that the prediction made by Geometric Optics for a perfect optical system by which the image of a point is a point is no longer valid for diffraction. By including this effects, the image of a point will be a smear of diffraction. On the other hand, and given that most of the lenses and diaphragms used have a circular shape, this spot will be the Airy disk discussed above."
   ]
  },
  {
   "cell_type": "markdown",
   "metadata": {
    "collapsed": false
   },
   "source": [
    "# Limitation on the resolution of two specific objects nearby\n",
    "\n",
    "We can easily understand that, if the image of a point is not another point due to diffraction, but is a spatial distribution of irradiance with a certain extension, the images of two nearby objects can overlap each other in the image plane, resulting in a slightly larger stain. In this way, we may not be able to distinguish the images of those two nearby points. In other words, the fact that diffraction imposes a certain size on the image of an object point given by an optical system, limits the ability of the system to solve two nearby object points.\n",
    "\n",
    "\n",
    "## Rayleigh criterion\n",
    "\n",
    "Although distinguishing between two superimposed images can be somewhat subjective, a criterion has been developed to discriminate if two images are sufficiently separated from each other so that we can say that the system solves those two points. This criterion is called ** Rayleigh criterion ** and according to it * two images are resolved if, at least, the separation between the maxima of the Airy spots is equal to the radius of the first minimum *.\n",
    "\n",
    "The following code calculates the images given by a lens of two points near objects. The distance between these points, the wavelength, the focal length of the lens or the distance to the lens can be modified. In the figure, a profile of the irradiance in the image plane is shown next to the reference that marks the separation imposed by the Rayleigh criterion so that two points are resolved. Also on the right is the 2D image of what we would observe on the screen."
   ]
  },
  {
   "cell_type": "code",
   "execution_count": 7,
   "metadata": {
    "collapsed": false
   },
   "outputs": [
    {
     "data": {
      "image/png": "[encoded data removed]"
     },
     "metadata": {
      "image/png": {
       "height": 481,
       "width": 1063
      }
     }
    }
   ],
   "source": [
    "import numpy as np\n",
    "import matplotlib.pyplot as plt\n",
    "% matplotlib inline\n",
    "from scipy.special import j1\n",
    "\n",
    "# Parameters\n",
    "############\n",
    "fprime = 300 # focal lens\n",
    "Da = 2 # mm\n",
    "Dobj = 3000 # distance from the lens to the two points objects\n",
    "d = 1 # separation between points objects\n",
    "Lambda = 5.5e-4\n",
    "k = 2 * np.pi / Lambda\n",
    "################\n",
    "# Calculations\n",
    "###############\n",
    "\n",
    "theta = np.arctan (d / Dobj)\n",
    "sprime = (-Dobj * fprime) / (- Dobj + fprime) # distance lens-screen\n",
    "x0 = sprime * (d / Dobj)\n",
    "x = np.linspace(-2*x0,2*x0,350)  # distance to the axis on the screen\n",
    "\n",
    "#Cut in 1D\n",
    "I0 = 1 # mW / cm ^ 2\n",
    "Icirc1 = I0 * (j1 (k * 0.5 * Da * (x-x0 / 2) / sprime) / (k * 0.5 * Da * (x-x0 / 2) / sprime)) ** 2\n",
    "Icirc2 = I0 * (j1 (k * 0.5 * Da * (x + x0 / 2) / sprime) / (k * 0.5 * Da * (x + x0 / 2) / sprime)) ** 2\n",
    "Icirc = Icirc1 + Icirc2\n",
    "rayleigh = 1.22 * sprime * Lambda / Da - x0 / 2\n",
    "fig, ax = plt.subplots (1,2, figsize = (18,8), frameon = False)\n",
    "\n",
    "ax [0] .plot (x, Icirc1, label = 'Image 1')\n",
    "ax [0] .plot (x, Icirc2, label = 'Image 2')\n",
    "ax [0] .plot (x, Icirc, label = 'Total')\n",
    "ax [0] .vlines (rayleigh, 0, np.amax (Icirc), label = 'Separ min Rayleigh')\n",
    "ax [0] .spines ['right']. set_visible (False)\n",
    "ax [0] .spines ['top']. set_visible (False)\n",
    "\n",
    "ax [0] .legend ()\n",
    "ax [0] .set_xlabel (\"x (mm)\")\n",
    "ax [0] .set_ylabel (\"I (u.a.)\");\n",
    "\n",
    "\n",
    "#In 2D\n",
    "[X, Y] = np.meshgrid (x, x)\n",
    "R1 = np.sqrt ((X + x0 / 2) ** 2 + Y ** 2)\n",
    "R2 = np.sqrt ((X-x0 / 2) ** 2 + Y ** 2)\n",
    "Icirc1 = I0 * (j1 (k * 0.5 * Da * R1 / sprime) / (k * 0.5 * Da * R1 / sprime)) ** 2\n",
    "Icirc2 = I0 * (j1 (k * 0.5 * Da * R2 / sprime) / (k * 0.5 * Da * R2 / sprime)) ** 2\n",
    "Icirctot = Icirc1 + Icirc2\n",
    "ax [1] .pcolormesh (x, x, Icirctot, cmap = 'hot')\n",
    "ax [1] .set_xlabel ('x (mm)')\n",
    "ax [1] .set_ylabel ('y (mm)');"
   ]
  },
  {
   "cell_type": "markdown",
   "metadata": {
    "collapsed": false
   },
   "source": [
    "### Issues\n",
    "\n",
    "Modify the parameters of the previous code, re-executing the cell to answer the following questions:\n",
    "\n",
    "1. Modify the separation between the object points to observe a situation in which the points are not solved by the lens and another in which if they are.\n",
    "\n",
    "2. If we start from a situation where two object points are not resolved, how would we have to modify $ \\lambda $ to get them resolved?\n",
    "\n",
    "3. We could get to move from a situation in which two object points are not resolved to another in which thay are resolved by only varying the lens focal length\n",
    "\n",
    "4. How would the code change if instead of a lens in air we consider that behind the lens there is a medium with a certain refractive index?"
   ]
  }
 ],
 "metadata": {
  "kernelspec": {
   "display_name": "Python 3 (Anaconda)",
   "language": "python",
   "name": "anaconda3"
  },
  "language_info": {
   "codemirror_mode": {
    "name": "ipython",
    "version": 3
   },
   "file_extension": ".py",
   "mimetype": "text/x-python",
   "name": "python",
   "nbconvert_exporter": "python",
   "pygments_lexer": "ipython3",
   "version": "3.5.4"
  }
 },
 "nbformat": 4,
 "nbformat_minor": 0
}