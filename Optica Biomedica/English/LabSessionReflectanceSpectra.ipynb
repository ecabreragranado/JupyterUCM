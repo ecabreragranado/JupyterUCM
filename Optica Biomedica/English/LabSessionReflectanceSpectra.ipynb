{
 "cells": [
  {
   "cell_type": "markdown",
   "metadata": {
    "collapsed": false
   },
   "source": [
    "# Biomedical Optics. Lab Session - Reflectance spectra of biological tissues"
   ]
  },
  {
   "cell_type": "markdown",
   "metadata": {
    "collapsed": false
   },
   "source": [
    "NAME AND FAMILY NAME:\n",
    "\n",
    "DEADLINE:\n",
    "\n",
    "Please, edit this cell to include the requested data."
   ]
  },
  {
   "cell_type": "markdown",
   "metadata": {
    "collapsed": false
   },
   "source": [
    "---\n",
    "\n",
    "Run this cell to upload the scientific calculus libraries (`%pylab inline`).\n"
   ]
  },
  {
   "cell_type": "code",
   "execution_count": 0,
   "metadata": {
    "collapsed": false
   },
   "outputs": [
   ],
   "source": [
    "%pylab inline"
   ]
  },
  {
   "cell_type": "markdown",
   "metadata": {
    "collapsed": false
   },
   "source": [
    "# Task 1. Determine the light penetration depth into biological tissues "
   ]
  },
  {
   "cell_type": "markdown",
   "metadata": {
    "collapsed": false
   },
   "source": [
    "# T1.1. Reflectance spectrum of the chromophore"
   ]
  },
  {
   "cell_type": "markdown",
   "metadata": {
    "collapsed": false
   },
   "source": [
    "**Plot of the reflectance spectra.**\n",
    "Plot the reflectane spectrum of a tinted paper (that simulates a skin chromophore) in the same graphic that the spectum of a white paper in the range of wavelenghts from 425 to 900 nm.\n",
    "\n",
    "In the following code cell, you should use the names of the datafiles of such spectra, that must be previously uploaded from the cloud to the student's directory. "
   ]
  },
  {
   "cell_type": "code",
   "execution_count": 0,
   "metadata": {
    "collapsed": false
   },
   "outputs": [
   ],
   "source": [
    "# MODIFY THE FILES NAME IN THIS CELL AND RUN\n",
    "filenamepapel = 'green.txt'   #file of tinted paper\n",
    "filenameblanco = 'control.txt'  #file of the control white paper"
   ]
  },
  {
   "cell_type": "code",
   "execution_count": 0,
   "metadata": {
    "collapsed": false
   },
   "outputs": [
   ],
   "source": [
    "# DON'T MODIFY THIS CELL, JUST RUN IT\n",
    "\n",
    "import StringIO\n",
    "s = open(filenamepapel).read().replace(',','.')\n",
    "data = loadtxt(StringIO.StringIO(s))\n",
    "\n",
    "lambdapapel = data[:,0]\n",
    "reflectancepapel = data[:,1]/100\n",
    "\n",
    "s = open(filenameblanco).read().replace(',','.')\n",
    "data = loadtxt(StringIO.StringIO(s))\n",
    "\n",
    "lambdablanco = data[:,0]\n",
    "reflectanceblanco = data[:,1]/100\n",
    "\n",
    "\n",
    "fig=figure(figsize=(7,5))\n",
    "plot(lambdapapel,reflectancepapel,'ro')\n",
    "plot(lambdablanco,reflectanceblanco,'ko')\n",
    "legend(('tinted','white'),loc='lower right') \n",
    "xlabel('wavelength (nm)')\n",
    "ylabel('Reflectance')\n",
    "xlim(425,900);"
   ]
  },
  {
   "cell_type": "markdown",
   "metadata": {
    "collapsed": false
   },
   "source": [
    "# Exercise 1"
   ]
  },
  {
   "cell_type": "markdown",
   "metadata": {
    "collapsed": false
   },
   "source": [
    "**Reflectance spectra analysis.**\n",
    "\n",
    "Establish a relationship between the color of the paper with the range of wavelengths where the reflectance is largest. Answer this question in this cell."
   ]
  },
  {
   "cell_type": "markdown",
   "metadata": {
    "collapsed": false
   },
   "source": [
    "# T1.2. Reflectance spectrum of a chromophore covered by a biological tissue"
   ]
  },
  {
   "cell_type": "markdown",
   "metadata": {
    "collapsed": false
   },
   "source": [
    "**Plot of the reflectance spectra.**\n",
    "Three plots are shown:  \n",
    "\n",
    " - reflectance spectrum of a white paper with and without the biological tissue (beef layer) between 425 and 900nm \n",
    " \n",
    " - reflectance spectrum of a chromophore (tinted paper) with and without the biological tissue (beef layer) between 425 and 900nm. \n",
    " \n",
    " - reflectance spectrum of a chromophore (tinted paper) on top of the white paper, both covered by the biological tissue (beef layer) between 425 and 900nm. \n",
    " \n",
    "In the following code cell write the files name of the data obtained for the white and tinted paper, both covered by the beef layer.\n",
    "These files have been previously uploaded into the student's directory.\n"
   ]
  },
  {
   "cell_type": "code",
   "execution_count": 0,
   "metadata": {
    "collapsed": false
   },
   "outputs": [
   ],
   "source": [
    "# MODIFY ONLY THE DATAFILE NAME IN THIS CELL AND RUN IT\n",
    "filenamepapelfilete1 = 'greensteak.txt'  #filename of the tinted paper with biological tissue\n",
    "filenameblancofilete1 = 'controlsteak.txt' #filename of the control white paper with biological tissue"
   ]
  },
  {
   "cell_type": "code",
   "execution_count": 0,
   "metadata": {
    "collapsed": false
   },
   "outputs": [
   ],
   "source": [
    "# DON'T MODIFY THIS CELL, JUST RUN IT\n",
    "\n",
    "import StringIO\n",
    "s = open(filenameblancofilete1).read().replace(',','.')\n",
    "data = loadtxt(StringIO.StringIO(s))\n",
    "lambdablancofilete1 = data[:,0]\n",
    "reflectanceblancofilete1 = data[:,1]/100\n",
    "\n",
    "s = open(filenamepapelfilete1).read().replace(',','.')\n",
    "data = loadtxt(StringIO.StringIO(s))\n",
    "lambdapapelfilete1 = data[:,0]\n",
    "reflectancepapelfilete1 = data[:,1]/100\n",
    "\n",
    "\n",
    "fig=figure(figsize=(14,7))\n",
    "\n",
    "subplot(1,3,1)\n",
    "plot(lambdablanco,reflectanceblanco,'ko',label='white')\n",
    "plot(lambdablancofilete1,reflectanceblancofilete1,'k+',label='white+steak.')\n",
    "xlabel('Wavelength (nm)')\n",
    "ylabel('Reflectance')\n",
    "title('White Paper')\n",
    "xlim(425,900)\n",
    "ylim(0,1)\n",
    "legend(loc='lower right')\n",
    "\n",
    "subplot(1,3,2)\n",
    "plot(lambdapapel,reflectancepapel,'ro',label='tinted')\n",
    "plot(lambdapapelfilete1,reflectancepapelfilete1,'r+',label='tinted+steak.')\n",
    "xlabel('Wavelength (nm)')\n",
    "ylabel('Reflectance')\n",
    "title('Tinted Paper')\n",
    "xlim(425,900) \n",
    "ylim(0,)\n",
    "legend(loc='lower right')\n",
    "\n",
    "subplot(1,3,3)\n",
    "plot(lambdapapelfilete1,reflectancepapelfilete1,'r+',label='tinted+steak.')\n",
    "plot(lambdablancofilete1,reflectanceblancofilete1,'k+',label='white+steak.')\n",
    "xlabel('Wavelength (nm)');ylabel('Reflectance');xlim(425,900);ylim(0,);legend(loc='lower right')"
   ]
  },
  {
   "cell_type": "markdown",
   "metadata": {
    "collapsed": false
   },
   "source": [
    "# Exercise 2"
   ]
  },
  {
   "cell_type": "markdown",
   "metadata": {
    "collapsed": false
   },
   "source": [
    "**Analysis of the reflectance spectrum of the control sample.**\n",
    "\n",
    "Explain how the spectrum of the white paper has changed due to be covered by the beef steak. Discuss the wavelength range at which the absorption peaks of the hemoglobin (from the beef) are observed. Answer these questions in this cell."
   ]
  },
  {
   "cell_type": "markdown",
   "metadata": {
    "collapsed": false
   },
   "source": [
    "# Exercise 3\n"
   ]
  },
  {
   "cell_type": "markdown",
   "metadata": {
    "collapsed": false
   },
   "source": [
    "**Analysis of the reflectance spectrum of the tinted paper.**\n",
    "\n",
    "A) Explain how the spectrum of the tinted paper has changed due to be covered by the beef steak. \n",
    "\n",
    "B) ¿Is there any common feature between the spectra of the tinted paper with and without the beef steak? Notice that this issue will allow us to determine of part if the reflected light is due to the chromophore (tinted paper), hidden by the tissue. \n",
    "\n",
    "C) Compare the spectra of the white and the tinted paper, both covered by the beef steak and explain if part of the reflected light is due to \n",
    "to the chromophore (tinted paper). \n",
    "\n",
    "Answer these questions in this cell.\n"
   ]
  },
  {
   "cell_type": "markdown",
   "metadata": {
    "collapsed": false
   },
   "source": [
    "# T1.3. Reflectance spectrum of the chromophore covered by two or more biological tissue layers"
   ]
  },
  {
   "cell_type": "markdown",
   "metadata": {
    "collapsed": false
   },
   "source": [
    "**Plot of the reflectance spectra.**\n",
    "The following plots will be shown:  \n",
    "\n",
    " - reflectance spectrum of a white paper without and with any of the biological tissue layers under consideration between 425 and 900nm \n",
    " \n",
    " - reflectance spectrum of a chromophore (tinted paper) without and with any of the biological tissue layers under consideration between 425 and 900nm. \n",
    "  \n",
    "  - reflectance spectrum of the white and the tinted paper, both with two layers of the biological tissue between 425 and 900nm. \n",
    "  \n",
    "  - reflectance spectrum of the white and the tinted paper, both with three layers of the biological tissue between 425 and 900nm. \n",
    "  \n",
    "  - reflectance spectrum of the white and the tinted paper, both with four layers of the biological tissue between 425 and 900nm. \n",
    " \n",
    "In the following code cell write the files name of the data obtained for the white and tinted paper, both covered by two beef layers.\n",
    "These files have been previously uploaded into the student's directory. \n",
    "If the student has enough time to measure the spectra of samples with more than two beef layers, modify the code to include such data in the notebook.\n"
   ]
  },
  {
   "cell_type": "code",
   "execution_count": 0,
   "metadata": {
    "collapsed": false
   },
   "outputs": [
   ],
   "source": [
    "# MODIFY THIS CELL AND RUN\n",
    "filenamepapelfilete2 = 'greensteak2.txt'   #filename of the tinted paper covered by two layers of beef\n",
    "filenameblancofilete2 = 'controlsteak2.txt'   #filename of the control white paper covered by two layers of beef"
   ]
  },
  {
   "cell_type": "code",
   "execution_count": 0,
   "metadata": {
    "collapsed": false
   },
   "outputs": [
   ],
   "source": [
    "# DON'T MODIFY THIS CELL, JUST RUN IT\n",
    "\n",
    "import StringIO\n",
    "\n",
    "s = open(filenameblancofilete2).read().replace(',','.')\n",
    "data = loadtxt(StringIO.StringIO(s))\n",
    "lambdablancofilete2 = data[:,0]\n",
    "reflectanceblancofilete2 = data[:,1]/100\n",
    "\n",
    "s = open(filenamepapelfilete2).read().replace(',','.')\n",
    "data = loadtxt(StringIO.StringIO(s))\n",
    "lambdapapelfilete2 = data[:,0]; reflectancepapelfilete2 = data[:,1]/100\n",
    "\n",
    "fig=figure(figsize=(14,7))\n",
    "subplot(2,2,1)\n",
    "plot(lambdablanco,reflectanceblanco,'ko',label='white')\n",
    "plot(lambdablancofilete1,reflectanceblancofilete1,'k+',label='white+1steak.')\n",
    "plot(lambdablancofilete2,reflectanceblancofilete2,'k.',label='white+2steak.')\n",
    "xlabel('Wavelength (nm)');ylabel('Reflectance');title('White paper');xlim(425,900);ylim(0,);legend(loc='upper right')\n",
    "\n",
    "subplot(2,2,2)\n",
    "plot(lambdapapel,reflectancepapel,'ro',label='tinted.')\n",
    "plot(lambdapapelfilete1,reflectancepapelfilete1,'r+',label='tinted.+1steak.')\n",
    "plot(lambdapapelfilete2,reflectancepapelfilete2,'r.',label='tinted.+2steak.')\n",
    "xlabel('Wavelength (nm)');ylabel('Reflectance');title('Tinted paper');xlim(425,900);ylim(0,)\n",
    "legend(loc='upper center')\n",
    "\n",
    "subplot(2,2,3)\n",
    "plot(lambdapapelfilete2,reflectancepapelfilete2,'r.',label='tinted.+2steak.')\n",
    "plot(lambdablancofilete2,reflectanceblancofilete2,'k.',label='white+2steak.')\n",
    "xlabel('Wavelength (nm)');ylabel('Reflectance');title('2 steak');xlim(425,900);ylim(0,);legend(loc='lower right')"
   ]
  },
  {
   "cell_type": "markdown",
   "metadata": {
    "collapsed": false
   },
   "source": [
    "# Exercise 4"
   ]
  },
  {
   "cell_type": "markdown",
   "metadata": {
    "collapsed": false
   },
   "source": [
    "**Reflectance spectra analysis.**\n",
    "\n",
    "In view of these results, indicate how many beef layers we must include in the sample in order to miss the chromphore (tinted paper) features.\n",
    "Justify your answer. Explain how one could estimate qualitatively the radiation penetration depth. Answer these questions in this cell.\n"
   ]
  },
  {
   "cell_type": "markdown",
   "metadata": {
    "collapsed": false
   },
   "source": [
    "# Tarea 2. Determine the blood oxygenation level"
   ]
  },
  {
   "cell_type": "markdown",
   "metadata": {
    "collapsed": false
   },
   "source": [
    "# T2.1. Diffuse reflectance spectrum: fitting of the lab data"
   ]
  },
  {
   "cell_type": "markdown",
   "metadata": {
    "collapsed": false
   },
   "source": [
    "**Plot the reflectance spectrum.**\n",
    "\n",
    "Plot one of the measured spectra in the wavelength range between 450 and 800 nm.\n",
    " \n",
    "In the following code cell write the files name of the obtained data. These files have been previously uploaded into the student's directory."
   ]
  },
  {
   "cell_type": "code",
   "execution_count": 0,
   "metadata": {
    "collapsed": false
   },
   "outputs": [
   ],
   "source": [
    "# MODIFY THE FILENAME IN THIS CELL ONLY AND RUN\n",
    "filenameRefDif = 'MRD.txt'"
   ]
  },
  {
   "cell_type": "code",
   "execution_count": 0,
   "metadata": {
    "collapsed": false
   },
   "outputs": [
   ],
   "source": [
    "# DON'T MODIFY THIS CELL, JUST RUN IT\n",
    "\n",
    "import StringIO\n",
    "lambda_start = 450\n",
    "lambda_end = 800\n",
    "s = open(filenameRefDif).read().replace(',','.')\n",
    "datos = loadtxt(StringIO.StringIO(s))\n",
    "\n",
    "lambdaRefDif = datos[:,0]\n",
    "RefDif = datos[:,1]/100\n",
    "ind_start = [i for (i, val) in enumerate(lambdaRefDif) if val==lambda_start]\n",
    "ind_end = [i for (i, val) in enumerate(lambdaRefDif) if val==lambda_end]\n",
    "lambdaRefDif = lambdaRefDif[ind_start[0]:ind_end[0]+1]\n",
    "RefDif = RefDif[ind_start[0]:ind_end[0]+1]\n",
    "\n",
    "plot(lambdaRefDif,RefDif,'ok')\n",
    "xlabel('$\\lambda$ (nm)')\n",
    "ylabel('Diffuse Reflectance')"
   ]
  },
  {
   "cell_type": "markdown",
   "metadata": {
    "collapsed": false
   },
   "source": [
    "**Theoretical fitting.**\n",
    "\n",
    "Let's try to fit the experimental data to the following theoretical reflectance calculated by the diffusion equation:\n",
    "\n",
    "\n",
    "$$ R_d =  Cte \\; T_{epi} \\;  \\left[ \n",
    "\\frac{ z_0 \\left( 1+ \\mu_{eff} \\rho_1  \\right)}{4 \\pi \\rho_1^3} e^{-\\mu_{eff}\\rho_1} \n",
    "+ \\frac{  \\left( z_0 + 4 A D  \\right) \\left(1 + \\mu_{eff} \\rho_2 \\right) }{4 \\pi \\rho_2^3}  e^{-\\mu_{eff} \\rho_2} \\right] $$\n",
    "\n",
    "where $Cte$ is a global normalization constant. $\\mu_{eff}=\\sqrt{3\\mu_a(\\mu_a+\\mu_s')}$ is the radiation effective extinction coefficient when propagating along the biological tissue, where $\\mu_s'$ is the reduced scattering coefficient, and $\\mu_a$ is the absorption coefficient (all in cm$^{-1}$). $D = 1/(3(\\mu_a + \\mu_s'))$ is the diffusion coefficient. $z_0=1/(\\mu_a+\\mu_s')$ is the radiation penetration depth into the tissue, that is considered in the diffusion model as the distance within the tissue at which the source of light is. By knowing the distance between the ilumination and detection fibers $r$ (cm), the distances between the detector and the two sources (the one inside the tissue and the virtual one outside of it considered for boundary conditions) are:\n",
    "\n",
    "$$\\rho_1=\\sqrt{z_0^2 + r^2},$$\n",
    "$$\\rho_2 = \\sqrt{ \\left(z_0 + 4 A D \\right)^2 + r^2 }.$$\n",
    "\n",
    "$A$ is related to the refractive index variation at the interface between the tissue and the external medium: $A = (1 + R_{eff})/(1 - R_{eff})$, with $R_{eff} = - 1.440 / n_r^2 + 0.71 / n_r + 0.668 + 0.0636 n_r  $, being $n_r$ the tissue refractive index normalized by the external one. $T_{epi}$ is the transmittance of the epidermis which takes into account the melanin absorption\n",
    "\n",
    "$$T_{epi} = e^{ - Mel \\; \\mu_{a \\; mel} \\;  L_{epi} }$$  \n",
    "\n",
    "\n",
    "where $Mel$ is the epidermis melanin content, $L_{epi}=0.006*2$ cm is the propagation path of the light when entering and leaving the epidermis (by considering 60 $\\mu$m of epidermis), and last, $\\mu_{a \\; mel}$ is the melanine absorption coefficient (cm$^{-1}$):\n",
    "\n",
    "$$ \\mu_{a \\; mel} (cm^{-1})= \\frac{6.6 \\times 10^{11}} { [\\lambda(nm)]^{3.33}}$$ \n",
    "\n",
    "The reduced scaterring coefficient $\\mu_{s}' = a (\\mu_{s \\; Mie}' + \\mu_{s \\; Ray.}')$ results from a combination of the Mie and Rayleigh scattering coefficients (cm$^{-1}$):\n",
    "\n",
    "$$ \\mu_{s \\; Mie}' (cm^{-1}) = 4.59 \\times 10^3 \\; [\\lambda(nm)]^{-0.913}$$\n",
    "$$ \\mu_{s \\; Ray.}' (cm^{-1})= 1.74 \\times 10^{12} \\; [\\lambda(nm)]^{-4}$$\n",
    "\n",
    "while $a$ is a constant which modifies the scattering amplitude. \n",
    "\n",
    "The absroption coefficient (cm$^{-1}$) is mainly due to the hemoglobin and partially to the water:\n",
    "\n",
    "$$\\mu_a  = B \\; \\left( S \\; \\mu_{a \\; oxi} + ( 1 - S ) \\; \\mu_{a \\; desoxi}  \\right) + W \\; \\mu_{a \\; water}$$ \n",
    "\n",
    "where $B$ is the blood volume fraction in the tissue, $S$ is the blood oxygenation level, $\\mu_{a \\; oxi}$ and $\\mu_{a \\; desoxi}$ are the absorption coefficients of the oxyhemoglobin and the desoxyhemoglobin in blood, respectively,  $W$ is the water volume fraction in the tissue and $\\mu_{a \\; water}$ the water absorption coefficient.\n",
    "\n",
    "    \n",
    "In the following cell, the mentioned absorption (hemoglobin, water and melanine) and scattering  (Mie and Rayleigh) coefficients will be plotted in semilogarithm scale . "
   ]
  },
  {
   "cell_type": "code",
   "execution_count": 0,
   "metadata": {
    "collapsed": false
   },
   "outputs": [
   ],
   "source": [
    "# DON'T MODIFY THIS CELL, JUST RUN IT\n",
    "\n",
    "# Reduced scattering coefficients Mie and Rayleigh, cm^-1\n",
    "Mie = 4.59e3*lambdaRefDif**-0.913\n",
    "Ray = 1.74e12*lambdaRefDif**-4\n",
    "# Absorption coefficient of interior of melanosome, cm^-1  \n",
    "muamel = 6.6e11*lambdaRefDif**-3.33 \n",
    "# Absorption coefficient of hemoglobin and water, cm^-1 \n",
    "datos = loadtxt('oxihemoglobina450-800nm.DAT')\n",
    "muaoxy = datos[:,1];\n",
    "datos = loadtxt('hemoglobina450-800nm.DAT')\n",
    "muadeoxy = datos[:,1]\n",
    "datos = loadtxt('agua450-800nm.DAT')\n",
    "muawater = datos[:,1]\n",
    "fig = figure(figsize=(13,6))\n",
    "semilogy(lambdaRefDif,Mie,'c',label='$\\mu_{s \\; Mie}^{\\prime}$')\n",
    "semilogy(lambdaRefDif,Ray,'y',label='$\\mu_{s \\; Ray.}^{\\prime}$')\n",
    "semilogy(lambdaRefDif,muamel,'k',label='$\\mu_{a \\; mel}$')\n",
    "semilogy(lambdaRefDif,muaoxy,'r',label='$\\mu_{a \\; oxy}$')\n",
    "semilogy(lambdaRefDif,muadeoxy,'g',label='$\\mu_{a \\; deoxy}$')\n",
    "semilogy(lambdaRefDif,muawater,'b',label='$\\mu_{a \\; water}$')\n",
    "xlabel('$\\lambda$ (nm)')\n",
    "ylabel('Scattering and Absorption Coefficients (cm$^{-1}$)')\n",
    "legend(loc='lower left')"
   ]
  },
  {
   "cell_type": "markdown",
   "metadata": {
    "collapsed": false
   },
   "source": [
    "In order to fit the experimental curve according to the theoretical function for the diffuse reflectance obtained by using the diffusion equation, we need to define first some parameters in the code.\n",
    "\n",
    " - **r**:  distance (cm) between the ilumination and detection fibers (check the fibers size)\n",
    " \n",
    " - **W**:  water volume fraction of the tissue. Typical values are ~ 0.65\n",
    "\n",
    " - **n_r**:  external and tissue refractive indexes. Tissue index ~ 1.4.\n",
    " \n",
    "The remaining parameters: **B**, **S**, **Mel**, **a**, and **Cte** are used as fitting parameters. This means the fitting procedure is based on the variation of these parameters until we obtain a theoretical curve that approaches as much as possible to the experimental one. Thus, we will obtain final values for them. In order to start with the fitting we need to define their initial values.:\n",
    "\n",
    " - **B**:  blood volume fraction in the tissue. Typical values ~ 0.001 (0.1%) - 0.07 (7%).\n",
    " \n",
    " - **S**:  oxygenation level. Typical values ~ 0 y 1.\n",
    "\n",
    " - **Mel**:  melanin content in the epidermis. Typical values ~ 0.01 (1%) - 0.2 (20%).\n",
    "\n",
    " - **a**: constant to vary the scattering total amplitude. Starting value 1.\n",
    "  \n",
    " - **Cte**: global constant of the theoretical diffuse reflectance. Starting value 0.1.\n",
    " \n",
    "----------\n",
    " \n",
    "Notice that the oxygenation level is determined by the absorption peaks depth within the range  542 nm and 576 nm, and therefore we will fit the central part of the spectrum to get it. In the following cell we define new variables related to all the previously presented magnitudes for the range (510-610nm). These will be referred by the subscript `_ajuste`. **Thus, these new variable will be the input for the function `curve_fit` in order to perform the fitting**.\n",
    " "
   ]
  },
  {
   "cell_type": "code",
   "execution_count": 0,
   "metadata": {
    "collapsed": false
   },
   "outputs": [
   ],
   "source": [
    "# MODIFY THIS CELL AND RUN\n",
    "\n",
    "r = 0.04    # cm, source-detector fibers distance\n",
    "W = 0.65  #  water in tissue\n",
    "n_r = 1.4    # tissue refractive index divided by external refractive index\n",
    "\n",
    "# Initial parameters values\n",
    "B_ini = 0.01    # Blood volume fraction\n",
    "S_ini = 0.5      # Oxygenation level\n",
    "Mel_ini = 0.05     # Melanin in epidermis\n",
    "a_ini = 1.0  # Constant to scale scattering amplitude.\n",
    "Cte_ini = 0.1   # Constant of the theoretical diffuse reflectance\n",
    "\n",
    "params_ini = [B_ini,S_ini,Mel_ini,a_ini,Cte_ini]\n",
    "\n",
    "# Experimental data and auxiliary variables for the fitting\n",
    "nini = 60\n",
    "nfin = 190\n",
    "lambda_ajuste = lambdaRefDif[nini:-nfin]\n",
    "RefDif_ajuste = RefDif[nini:-nfin]\n",
    "muaoxy_ajuste = muaoxy[nini:-nfin]\n",
    "muadeoxy_ajuste = muadeoxy[nini:-nfin]\n",
    "muawater_ajuste = muawater[nini:-nfin]\n",
    "muamel_ajuste = muamel[nini:-nfin]\n",
    "Mie_ajuste = Mie[nini:-nfin]\n",
    "Ray_ajuste = Ray[nini:-nfin]"
   ]
  },
  {
   "cell_type": "markdown",
   "metadata": {
    "collapsed": false
   },
   "source": [
    "In the following cell we define the function that reproduces the following relationship \n",
    "\n",
    "$$ R_d =  Cte \\; T_{epi} \\;  \\left[ \n",
    "\\frac{ z_0 \\left( 1+ \\mu_{eff} \\rho_1  \\right)}{4 \\pi \\rho_1^3} e^{-\\mu_{eff}\\rho_1} \n",
    "+ \\frac{  \\left( z_0 + 4 A D  \\right) \\left(1 + \\mu_{eff} \\rho_2 \\right) }{4 \\pi \\rho_2^3}  e^{-\\mu_{eff} \\rho_2} \\right] $$\n",
    "\n",
    "This function is provided in advance and it will be called with the name: `funcion_modelo`. The function `curve_fit` is also included in the notebook to be used in Exercise 5."
   ]
  },
  {
   "cell_type": "code",
   "execution_count": 0,
   "metadata": {
    "collapsed": false
   },
   "outputs": [
   ],
   "source": [
    "# DON'T MODIFY THIS CELL, JUST RUN IT\n",
    "\n",
    "Lepi = 0.0060*2 # cm, light propagation distance within the epidermis\n",
    "\n",
    "# Boundary interface condition: internal reflexion (Fresnel formulae)\n",
    "R_eff = 0.668 + 0.0636*n_r + 0.710/n_r - 1.440/n_r**2; \n",
    "A = (1 + R_eff)/(1 - R_eff)\n",
    "\n",
    "def fun_modelo(lambdas,B,S,Mel,a,Cte): \n",
    "    musp = a*(Mie_ajuste + Ray_ajuste)  \n",
    "    Tepi = exp(-Mel*muamel_ajuste*Lepi) \n",
    "    mua  = B*(S*muaoxy_ajuste + (1.0-S)*muadeoxy_ajuste) + W*muawater_ajuste \n",
    "    mueff = sqrt(3*mua*(mua+musp))\n",
    "    D=1.0/(3*(mua+musp))\n",
    "    z0 = 1.0/(mua + musp)\n",
    "    r1 = sqrt(z0**2 + r**2)\n",
    "    r2 = sqrt((z0 + 4*A*D)**2 + r**2)\n",
    "    if((Mel>0.0)):\n",
    "        RD = Cte*Tepi*(((z0*(1+mueff*r1))/(4*pi*r1**3))*exp(-mueff*r1) +\n",
    "                       ((z0+4*A*D)*(1+mueff*r2)/(4*pi*r2**3))*exp(-mueff*r2))         \n",
    "    else:\n",
    "        RD = 1e7*ones(shape(lambdas))\n",
    "    return RD\n",
    "\n",
    "from scipy.optimize import curve_fit"
   ]
  },
  {
   "cell_type": "markdown",
   "metadata": {
    "collapsed": false
   },
   "source": [
    "# Exercise 5"
   ]
  },
  {
   "cell_type": "markdown",
   "metadata": {
    "collapsed": false
   },
   "source": [
    "**Fitting of the experimental data to the theoretical model**\n",
    "\n",
    "In the previous cell, we have defined the model function for the diffuse reflectance (`fun_modelo`) and uploaded the fitting function `curve_fit`. By using the initial parameters, create a new cell where, \n",
    "\n",
    "* Perform the fitting by using this model function (Warning: use the fitting variables `lambda_ajuste` and `RefDif_ajuste`). \n",
    "\n",
    "* Show the optimal values.\n",
    "\n",
    "* Plot the theoretical model together with the experimental data"
   ]
  },
  {
   "cell_type": "markdown",
   "metadata": {
    "collapsed": false
   },
   "source": [
    "# Exercise 6"
   ]
  },
  {
   "cell_type": "markdown",
   "metadata": {
    "collapsed": false
   },
   "source": [
    "**Fitting analysis**\n",
    "\n",
    "¿Are the obtained fitting parameters reasonable? Justify the answer. "
   ]
  },
  {
   "cell_type": "markdown",
   "metadata": {
    "collapsed": false
   },
   "source": [
    "# T2.2. Diffuse reflectance spectrum and oxygenation level"
   ]
  },
  {
   "cell_type": "markdown",
   "metadata": {
    "collapsed": false
   },
   "source": [
    "In order to analyze the relevance of the oxygenation level (parámetro **S**) on the diffuse reflectance, we will present the theoretical function of the diffuse reflectance **Rd** by using the previous fitting parameters together with another results where the value **S** is changed dynamically."
   ]
  },
  {
   "cell_type": "code",
   "execution_count": 0,
   "metadata": {
    "collapsed": false
   },
   "outputs": [
   ],
   "source": [
    "from IPython.html.widgets import interact,fixed\n",
    "\n",
    "def fun_modelo_total(lambdas,B,S,Mel,a,Cte):   \n",
    "    musp = a*(Mie + Ray)  \n",
    "    Tepi = exp(-Mel*muamel*Lepi) \n",
    "    mua  = B*(S*muaoxy + (1.0-S)*muadeoxy) + W*muawater \n",
    "    mueff = sqrt(3*mua*(mua+musp))\n",
    "    D=1.0/(3*(mua+musp))\n",
    "    z0 = 1.0/(mua + musp)\n",
    "    r1 = sqrt(z0**2 + r**2)\n",
    "    r2 = sqrt((z0 + 4*A*D)**2 + r**2)\n",
    "    RD = Cte*Tepi*(((z0*(1+mueff*r1))/(4*pi*r1**3))*exp(-mueff*r1) +\n",
    "                   ((z0+4*A*D)*(1+mueff*r2)/(4*pi*r2**3))*exp(-mueff*r2))\n",
    "    return RD\n",
    "\n",
    "def ajuste_manual(lambdas,B,S,Mel,a,Cte):\n",
    "    RD_orig = fun_modelo_total(lambdas,B_opt,S_opt,Mel_opt,a_opt,Cte_opt)\n",
    "    RD_nuevo = fun_modelo_total(lambdas,B,S,Mel,a,Cte)\n",
    "    plot(lambdas,RD_orig,color='blue',linewidth=2,label='S original');\n",
    "    plot(lambdas,RD_nuevo,color='r',linewidth=2,label='S new');\n",
    "    legend(loc=1)\n",
    "\n",
    "interact(ajuste_manual,lambdas=fixed(lambdaRefDif),\n",
    "         B=fixed(B_opt),S=(0.2,1,0.05),Mel=fixed(Mel_opt),\n",
    "         a=fixed(a_opt),Cte=fixed(Cte_opt));"
   ]
  },
  {
   "cell_type": "markdown",
   "metadata": {
    "collapsed": false
   },
   "source": [
    "# Exercise 8"
   ]
  },
  {
   "cell_type": "markdown",
   "metadata": {
    "collapsed": false
   },
   "source": [
    "**Analyze the results in view of this plot**. Answer the question in this cell.\n"
   ]
  },
  {
   "cell_type": "markdown",
   "metadata": {
    "collapsed": false
   },
   "source": [
    "# T2.3. Diffuse reflectance spectrum and scattering amplitude"
   ]
  },
  {
   "cell_type": "markdown",
   "metadata": {
    "collapsed": false
   },
   "source": [
    "In order to analyze the effect of the constant varying the scattering amplitude (**a**) on the diffuse reflectance, we will present the theoretical function of the diffuse reflectance **Rd** by using the previous fitting parameters together with another results where the value **a** is changed dynamically. "
   ]
  },
  {
   "cell_type": "code",
   "execution_count": 0,
   "metadata": {
    "collapsed": false
   },
   "outputs": [
   ],
   "source": [
    "from IPython.html.widgets import interact,fixed\n",
    "\n",
    "def fun_modelo_total(lambdas,B,S,Mel,a,Cte):   \n",
    "    musp = a*(Mie + Ray)  \n",
    "    Tepi = exp(-Mel*muamel*Lepi) \n",
    "    mua  = B*(S*muaoxy + (1.0-S)*muadeoxy) + W*muawater \n",
    "    mueff = sqrt(3*mua*(mua+musp))\n",
    "    D=1.0/(3*(mua+musp))\n",
    "    z0 = 1.0/(mua + musp)\n",
    "    r1 = sqrt(z0**2 + r**2)\n",
    "    r2 = sqrt((z0 + 4*A*D)**2 + r**2)\n",
    "    RD = Cte*Tepi*(((z0*(1+mueff*r1))/(4*pi*r1**3))*exp(-mueff*r1) +\n",
    "                   ((z0+4*A*D)*(1+mueff*r2)/(4*pi*r2**3))*exp(-mueff*r2))\n",
    "    return RD\n",
    "\n",
    "def ajuste_manual(lambdas,B,S,Mel,a,Cte):\n",
    "    RD_orig = fun_modelo_total(lambdas,B_opt,S_opt,Mel_opt,a_opt,Cte_opt)\n",
    "    RD_nuevo = fun_modelo_total(lambdas,B,S,Mel,a,Cte)\n",
    "    plot(lambdas,RD_orig,color='blue',linewidth=2,label='a original');\n",
    "    plot(lambdas,RD_nuevo,color='r',linewidth=2,label='a new');\n",
    "    legend(loc=1)\n",
    "\n",
    "interact(ajuste_manual,lambdas=fixed(lambdaRefDif),\n",
    "         B=fixed(B_opt),S=fixed(S_opt),Mel=fixed(Mel_opt),\n",
    "         a=(0.4,1.2,0.1),Cte=fixed(Cte_opt));"
   ]
  },
  {
   "cell_type": "markdown",
   "metadata": {
    "collapsed": false
   },
   "source": [
    "# Exercise 8"
   ]
  },
  {
   "cell_type": "markdown",
   "metadata": {
    "collapsed": false
   },
   "source": [
    "**Analysis the results in view of the previous plot**. Answer the question in this cell."
   ]
  },
  {
   "cell_type": "markdown",
   "metadata": {
    "collapsed": false
   },
   "source": [
    "# T2.4. Diffuse reflectance spectrum and melanin content"
   ]
  },
  {
   "cell_type": "markdown",
   "metadata": {
    "collapsed": false
   },
   "source": [
    "In order to analyze the effect of the melanine content in the epidermis (**Mel**) on the diffuse reflectance, we will present the theoretical function of the diffuse reflectance **Rd** by using the previous fitting parameters together with another results where the value **Mel** is changed dynamically. "
   ]
  },
  {
   "cell_type": "code",
   "execution_count": 0,
   "metadata": {
    "collapsed": false
   },
   "outputs": [
   ],
   "source": [
    "from IPython.html.widgets import interact,fixed\n",
    "\n",
    "def fun_modelo_total(lambdas,B,S,Mel,a,Cte):   \n",
    "    musp = a*(Mie + Ray)  \n",
    "    Tepi = exp(-Mel*muamel*Lepi) \n",
    "    mua  = B*(S*muaoxy + (1.0-S)*muadeoxy) + W*muawater \n",
    "    mueff = sqrt(3*mua*(mua+musp))\n",
    "    D=1.0/(3*(mua+musp))\n",
    "    z0 = 1.0/(mua + musp)\n",
    "    r1 = sqrt(z0**2 + r**2)\n",
    "    r2 = sqrt((z0 + 4*A*D)**2 + r**2)\n",
    "    RD = Cte*Tepi*(((z0*(1+mueff*r1))/(4*pi*r1**3))*exp(-mueff*r1) + \n",
    "                   ((z0+4*A*D)*(1+mueff*r2)/(4*pi*r2**3))*exp(-mueff*r2))\n",
    "    return RD\n",
    "\n",
    "def ajuste_manual(lambdas,B,S,Mel,a,Cte):\n",
    "    RD_orig = fun_modelo_total(lambdas,B_opt,S_opt,Mel_opt,a_opt,Cte_opt)\n",
    "    RD_nuevo = fun_modelo_total(lambdas,B,S,Mel,a,Cte)\n",
    "    plot(lambdas,RD_orig,color='blue',linewidth=2,label='Mel original');\n",
    "    plot(lambdas,RD_nuevo,color='r',linewidth=2,label='Mel new');\n",
    "    legend(loc=1)\n",
    "\n",
    "interact(ajuste_manual,lambdas=fixed(lambdaRefDif),\n",
    "         B=fixed(B_opt),S=fixed(S_opt),Mel=(0.01,0.2,0.02),\n",
    "         a=fixed(a_opt),Cte=fixed(Cte_opt));"
   ]
  },
  {
   "cell_type": "markdown",
   "metadata": {
    "collapsed": false
   },
   "source": [
    "# Exercise 9"
   ]
  },
  {
   "cell_type": "markdown",
   "metadata": {
    "collapsed": false
   },
   "source": [
    "**Analysis the results in view of the previous plot**. Answer the question in this cell."
   ]
  },
  {
   "cell_type": "markdown",
   "metadata": {
    "collapsed": false
   },
   "source": [
    "---------"
   ]
  }
 ],
 "metadata": {
  "kernelspec": {
   "display_name": "SageMath (stable)",
   "name": "sagemath"
  },
  "language_info": {
   "codemirror_mode": {
    "name": "ipython",
    "version": 2
   },
   "file_extension": ".py",
   "mimetype": "text/x-python",
   "name": "python",
   "nbconvert_exporter": "python",
   "pygments_lexer": "ipython2",
   "version": "2.7.14"
  },
  "name": "",
  "signature": "sha256:5bbf359f25df881231750095c07685375856d17e4dea1ad80b319ea9d21b11e4"
 },
 "nbformat": 4,
 "nbformat_minor": 0
}