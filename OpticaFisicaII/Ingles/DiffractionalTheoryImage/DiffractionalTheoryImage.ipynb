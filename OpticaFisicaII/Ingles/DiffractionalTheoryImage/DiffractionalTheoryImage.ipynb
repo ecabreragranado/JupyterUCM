{
 "cells": [
  {
   "cell_type": "markdown",
   "metadata": {
    "collapsed": false
   },
   "source": [
    "# Introduction"
   ]
  },
  {
   "cell_type": "markdown",
   "metadata": {
    "collapsed": false
   },
   "source": [
    "The Geometric Optics (GO) provides very useful tools to analyze optical systems. However, the model of propagation of light by means of rays does not include the effects due to the wave character of the light. In particular, the OG predicts for a stigmatic system that the image of a point O located in the object plane is another point O 'located in the image plane. This image does not exactly correspond to reality. In perfect optical systems (free of aberrations), it is found that the image of a point is an extensive spot, due to the diffraction suffered by the light wave. This effect happens whenever the light passes through an optical system that partially obstructs the wave fronts due to the presence of diaphragms or because of the finite size of the lenses.\n",
    "\n",
    "The simplest example of diffraction is the passage of light through a circular aperture. In this case, a composite circular stain can be seen on a screen behind the lens.\n",
    "by different rings, and called Airy spot. The angle subtended by the first minimum irradiance is where D is the diameter of the aperture and $ \\lambda $ is the wavelength of the light. Due to the widespread use of circular lenses and diaphragms, this figure will appear as an O 'image of an object point O in a system free of aberrations, thus moving away from the predictions of the GO and limiting the resolution of two object points very close to each other. .\n",
    "\n",
    "![Airy stain](283px-Airy-pattern.svg.png)\n",
    "\n",
    "This representative case allows to show that diffraction will play an important role in the formation of the image. When we take into account these effects in the calculation of the image given by an optical system we speak of diffraction theory of the image.\n",
    "\n",
    "When analyzing the formation of the image of large objects, two alternative approaches can be followed:\n",
    "\n",
    "1. The image of the extended object is formed by the composition of the images of each of the points that make up the object. In this approach, the fundamental element that allows us to obtain the global image given by the system is the image of a single object point. This image is called the Point Dispersion Function (PSF). Knowing this information, we can reconstruct the whole image.\n",
    "\n",
    "2. The extended object can be decomposed into sinusoidal frames or networks of different period and different orientation. The image results from the composition of all the images corresponding to each of these frames. In other words, the response of the system in the frequency space is analyzed. This approach will lead us to define the Optical Transfer Function (OTF), the Modulation Transfer Function (MTF) and the Phase Transfer Function (PTF)."
   ]
  },
  {
   "cell_type": "markdown",
   "metadata": {
    "collapsed": false
   },
   "source": [
    "# Point Spread Function (PSF)"
   ]
  },
  {
   "cell_type": "markdown",
   "metadata": {
    "collapsed": false
   },
   "source": [
    "The Point Spread Function (PSF) of an optical system provides the image of a point object given by that system. Knowing what image we obtain from a single point, we can deduce the global image of an extended object. The deduction of the irradiance in the image we obtain when considering a specific object is not complicated and can be consulted in more specialized books such as  [Introduction to Fourier Optics de Joseph W. Goodman](http://cisne.sim.ucm.es/search~S6*spi?/Xintroduction+to+fourier+optics&SORT=D/Xintroduction+to+fourier+optics&SORT=D&SUBKEY=introduction+to+fourier+optics/1%2C32%2C32%2CB/frameset&FF=Xintroduction+to+fourier+optics&SORT=D&1%2C1%2C)\n",
    "\n",
    "The main result is that the Point Dispersion Function is proportional to the square of the Fourier transform of the pupil function of our optical system. That is to say,\n",
    "\n",
    "$$ PSF (x, y) \\propto | FT [P (x, y)] | ^ 2 $$\n",
    "\n",
    "where the pubic function, for the case of a single lens, takes the value 1 inside the lens, and 0 outside it. This operation gives us for this case that the PSF is the function of Airy, which is already known within the framework of the diffraction produced by a circular opening.\n",
    "\n",
    "A consequence of the above is that diffraction imposes a final resolution limit for optical systems. Even in a system completely free of aberrations, the image of a point is not a point, but a more or less extensive spot, depending on the diameter of the lens. When the images of two very close points overlap, they can not be distinguished, there being a minimum angle of resolution to discriminate two point object points. The criterion most commonly used to decide whether two nearby points are resolvable by an optical system is the so-called Rayleigh criterion.\n",
    "\n",
    "If instead of a point object we have a large object, each point of the object will give rise to a diffraction spot in the image. We can interpret it as if each point of the image given by the Geometric Optics was replaced by the PSF of the system, resulting in a detriment to the quality of the image.\n",
    "\n",
    "If the object is represented by its irradiance distribution O (x, y), the irradiance in a point of the image plane I (u, v) will be obtained by adding the contribution of all the images of each of the points of the object. When considering incoherent illumination, this sum is made on the irradiances resulting from the image of each point of the observation plane.\n",
    "\n",
    "$$ I (u, v) = O (x_0, y_0) PSF (u - x_0, v -y_0) + O (x_1, y_1) PSF (u - x_1, v -y_1) + \\ldots $$\n",
    "\n",
    "\n",
    "or what is the same, and given that the irradiance distribution is a continuous function,\n",
    "\n",
    "$$ I (u, v) = \\int \\int O (x, y) PSF (u-x, v-y) dxdy $$\n",
    "\n",
    "This operation is called convolution. Therefore, given the PSF of an optical system, we can find the image of any extended object.\n",
    "\n",
    "![Convolution with PSF](Convolution_Illustrated_eng.png)"
   ]
  },
  {
   "cell_type": "markdown",
   "metadata": {
    "collapsed": false
   },
   "source": [
    "# Modulation Transfer Function (MTF)"
   ]
  },
  {
   "cell_type": "markdown",
   "metadata": {
    "collapsed": false
   },
   "source": [
    "We can characterize an optical system not only by the given image of a point object, but\n",
    "analyzing how different spatial frequencies are transmitted through the system. Yes\n",
    "we know this information, and we calculate the decomposition in frequencies of the extended object\n",
    "O (x, y) (through its Fourier transform), we can also obtain its image.\n",
    "To understand this approach, let's see what happens with the image given by an optical system of a\n",
    "sinusoidal object, whose irradiance is represented as follows,\n",
    "\n",
    "$$ O (x, y) = 1 + m \\cos (2 \\pi (ax + by)) $$\n",
    "\n",
    "where $ m \\le 1 $. This factor represents the amplitude of the modulation, or what is the same, the contrast\n",
    "of the object, defined by,\n",
    "\n",
    "$$ C_ {object} = \\frac {O_ {max} - O_ {min}} {O_ {max} + O_ {min}} $$\n",
    "\n",
    "On the other hand, a and b are the spatial frequencies in the directions of the X axis and Y axis\n",
    "respectively. The total frequency will be $ \\sqrt {a ^ 2 + b ^ 2} $. The image predicted by the OG of this object\n",
    "it will consist of the same function affected only by the increase factor of the system. Yes\n",
    "we consider the effects of diffraction, the image will be given by the convolution of the PSF of the\n",
    "system with the function O (x, y),\n",
    "\n",
    "$$ I (u, v) = \\int \\int dxdy [1+ \\frac {C_ {object}} {2} \\exp (i 2 \\pi (ax + by)) + \\frac {C_ {object}} {2} \\exp (-i 2 \\pi (ax + by))] PSF (u-x, v-y) $$\n",
    " \n",
    "If we change the variable $ \\chi = u-x $, $ d \\chi = -dx $ and $ \\psi = v- and $, $ d \\psi = -dy $, considering that the PSF is normalized to unit area and regrouping some terms, we finally get the expression,\n",
    "\n",
    "$$ I (u, v) = 1 + \\frac {C_ {object}} {2} \\exp (i2 \\pi (au + bv)) \\int \\int d \\chi d \\psi PSF (\\chi, \\psi) \\exp (-i2 \\pi (a \\chi + b \\psi)) + \\ldots +\n",
    " \\frac {C_ {object}} {2} \\exp (-i (2 \\pi (au + bv)) ∫∫ d \\chi d \\psi PSF (\\chi, \\psi) exp (i2 \\pi (a \\chi + b \\psi)) $$\n",
    "\n",
    "In the first part of this expression, we can see that we have the Fourier transform of\n",
    "the PSF of the system. This function is called Optical Transfer Function (OTF). In\n",
    "In our case, this function is evaluated in the spatial frequencies a and b. The second part of\n",
    "the expression shows the conjugate complex of the OTF, since this function is a complex function.\n",
    "If we write it separating its module and its phase\n",
    "\n",
    " $$ OTF = |OTF| \\exp (i \\Phi_ {OTF}) $$\n",
    "\n",
    "the previous equation is,\n",
    "\n",
    "\n",
    "$$ I (u, v) = 1 + \\frac {C_ {object}} {2} \\exp (i2 \\pi (au + bv)) |OTF| \\exp (i \\Phi_ {OTF}) + \\frac {C_ {object}} {2} \\exp (-i2 \\pi (au + bv)) |OTF| \\exp (-i \\Phi_ {OTF}) $$\n",
    "\n",
    "Which can be finally rewritten as,\n",
    "\n",
    "$$ I (u, v) = 1 + C_ {object} |OTF (a, b) | \\cos (2 \\pi (au + bv) + \\Phi_ {OTF}) $$\n",
    "\n",
    "The previous result shows us that the image of a cosine object is once again a function\n",
    "cosine. The module of the OTF modifies the contrast of the image, which happens to be\n",
    "$ C_ {image} = C_ {object} |OTF| $ while the phase of the OTF produces a shift of the phase of the object. To the\n",
    "The OTF module is called the Modulation Transfer Function (MTF), and it gives us\n",
    "information on how the optical system modifies the contrast of the image as a function of spatial frequency. On the other hand, the phase is called Phase Transfer Function (PTF), and it tells us how to modify the phase of the object, that is, how the image moves with respect to the object.\n",
    "\n",
    "The figure below shows the effect of two different MTFs on the quality of the image. Keep in mind that the OTF and the PSF are two different ways of describing the same process, the formation of the image by means of an optical system. A wider PSF will have a narrower MTF and therefore a lower cutting frequency. That is, the system will be unable to reproduce the higher frequencies, associated with the details of the image.\n",
    "\n",
    "![MTF](500px-Illustration_of_the_optical_transfer_function_and_its_relation_to_image_quality..svg.png)"
   ]
  },
  {
   "cell_type": "markdown",
   "metadata": {
    "collapsed": false
   },
   "source": [
    "# Aberrations and polynomials of Zernike"
   ]
  },
  {
   "cell_type": "markdown",
   "metadata": {
    "collapsed": false
   },
   "source": [
    "In the previous development it has been assumed that if the object O is an ideal point, the wave front\n",
    "emerging from the pupil output of the optical system is a spherical wavefront that converges in\n",
    "the point O 'image predicted by the OG. In this case it is said that the system is only limited\n",
    "by the diffraction. However, the presence of aberrations can greatly modify this\n",
    "description, and therefore the PSF and the OTF of the system.\n",
    "\n",
    "One may wonder how we can treat aberrations within the diffraction theory of\n",
    "image. That is, how to analyze aberrations including the wave nature of light. Yes,\n",
    "as we have said, for a perfect system in the presence of a specific object the front of\n",
    "emergent waves is a spherical wave, in the presence of aberrations the wave front will move away\n",
    "in this ideal way. In this way, we can characterize the aberrations of the system by means of\n",
    "a function W (x, y) that gives us the separation at all points of the exit pupil between the front of\n",
    "Real waves and the ideal spherical wave front. Specifically, W (x, y) measures the difference\n",
    "in optical path between a ray passing through a point (x, y) of the exit pupil of the system and the\n",
    "paraxial ray passing through that same point of the exit pupil (see figure).\n",
    "\n",
    "![wave aberration](wave_ab.jpg)\n",
    "\n",
    "This optical path difference will result in a phase difference between the actual wave front and\n",
    "the ideal $ \\phi = i k W (x, y) $. We can therefore define a generalized pupil function that includes\n",
    "size and characteristics of the exit pupil, as well as this additional phase,\n",
    "\n",
    "$$ P_ {Gen} (x, y) = P (x, y) \\exp \\left (ik W (x, y) \\right) $$\n",
    "\n",
    "In this way all the expressions deduced above are still valid by replacing the\n",
    "pupil function P (x, y) by the generalized pupil function P $ Gen (x, y), which is a complex variable.\n",
    "\n",
    "Once we have seen how to introduce aberrations in the diffraction theory of the image, we have to\n",
    "describe the aberration function W (x, y) as well as introduce different magnitudes that allow us\n",
    "measure the quality of the image formed by a system.\n",
    "There are different metrics to quantify the image quality of an optical system. Maybe the most\n",
    "simple is one that measures in multiples of the wavelength the greatest separation between the front\n",
    "of aberrated waves and the ideal. However, although simple, this metric is of limited utility to the\n",
    "give little information about the real wave front. For example a small defect can result in a\n",
    "high value of this separation, while its effect on the image will be very limited.\n",
    "In the present practice we will explore two widely used metrics, the dispersion\n",
    "quadratic mean (RMS) of the wavefront and the Strehl ratio."
   ]
  },
  {
   "cell_type": "markdown",
   "metadata": {
    "collapsed": false
   },
   "source": [
    "# RMS"
   ]
  },
  {
   "cell_type": "markdown",
   "metadata": {
    "collapsed": false
   },
   "source": [
    "The root mean square $ \\sigma $ gives a global measure of the wave aberration. In effect, its expression is as follows,\n",
    "\n",
    "$$ \\sigma ^ 2 = <W ^ 2 (\\rho, \\theta) - <W (\\rho, \\theta)> ^ 2> = \\frac {1} {A} \\int \\int | W (\\rho , \\theta) - <W (\\rho, \\theta)> ^ 2 | d ^ 2 \\rho $$\n",
    " \n",
    "\n",
    "As we can see, it uses the values of the aberration function at every point. This magnitude gives us a statistical measure of the distance to the ideal wave front."
   ]
  },
  {
   "cell_type": "markdown",
   "metadata": {
    "collapsed": false
   },
   "source": [
    "# The Strehl ratio"
   ]
  },
  {
   "cell_type": "markdown",
   "metadata": {
    "collapsed": false
   },
   "source": [
    "The Strehl ratio provides a metric of the image quality based on the comparison\n",
    "between the image obtained by the real system and the one that would theoretically be obtained in the absence of\n",
    "aberrations It is defined by the quotient between the maximum of the PSF of the system with aberrations and the\n",
    "maximum of the PSF of the same system but in the absence of aberrations. That is to say,\n",
    "\n",
    "$$ Strehl = \\frac{max(PSF_{real})} {max(PSF_{ideal})} $$\n",
    "\n",
    "In the case that the aberrations of the system do not degrade the image much, it can be demonstrated that both magnitudes are related by the expression,\n",
    "\n",
    "$$ Strehl = \\exp [- (2 \\pi RMS / \\lambda) ^ 2] $$"
   ]
  },
  {
   "cell_type": "markdown",
   "metadata": {
    "collapsed": false
   },
   "source": [
    "# Zernike polynomials"
   ]
  },
  {
   "cell_type": "markdown",
   "metadata": {
    "collapsed": false
   },
   "source": [
    "The description of the function W (x, y) is normally performed by a serial expansion of\n",
    "polynomials, each of which is attributed to a type of aberration. Due to the circular symmetry\n",
    "of most optical systems usually these polynomials are expressed in coordinates\n",
    "polar ($ \\ rho, \\ theta $). In addition, and with a view to characterizing the optical quality of the image, it is\n",
    "convenient to use a base of polynomials in which the calculation of the previously seen metrics\n",
    "be simple These conditions are met for the Zernike polynomials.\n",
    "\n",
    "Although the full expression may seem difficult (see for example on [this page](http://scien.stanford.edu/pages/labsite/2003/psych221/projects/03/pmaeda/index.html)), its final form it is not. In the Table presented below you can see what expressions they take, while the figure shown in this section allows us to see the surfaces they define.\n",
    "\n",
    "<table border=\"1\">\n",
    "<tr>\n",
    "<td>**j**</td>\n",
    "<td>**n**</td>\n",
    "<td>**m**</td>\n",
    "<td>**Zernike expression**</td>\n",
    "<td>**Type of aberration**</td>\n",
    "</tr>\n",
    "\n",
    "<tr>\n",
    "<td>0</td>\n",
    "<td>0</td>\n",
    "<td>0</td>\n",
    "<td>1</td>\n",
    "<td>Constant term</td>\n",
    "</tr>\n",
    "\n",
    "<tr>\n",
    "<td>1</td>\n",
    "<td>1</td>\n",
    "<td>-1</td>\n",
    "<td>$2 \\rho \\sin(\\theta)$</td>\n",
    "<td>Tilt</td>\n",
    "</tr>\n",
    "\n",
    "<tr>\n",
    "<td>2</td>\n",
    "<td>1</td>\n",
    "<td>1</td>\n",
    "<td>$2 \\rho \\cos(\\theta)$</td>\n",
    "<td>Tilt</td>\n",
    "</tr>\n",
    "\n",
    "<tr>\n",
    "<td>3</td>\n",
    "<td>2</td>\n",
    "<td>-2</td>\n",
    "<td>$\\sqrt{6}\\rho^2 \\sin(2 \\theta)$</td>\n",
    "<td>Astigmatism</td>\n",
    "</tr>\n",
    "\n",
    "<tr>\n",
    "<td>4</td>\n",
    "<td>2</td>\n",
    "<td>0</td>\n",
    "<td>$\\sqrt{3}(2\\rho^2 -1)$</td>\n",
    "<td>Blur</td>\n",
    "</tr>\n",
    "\n",
    "<tr>\n",
    "<td>5</td>\n",
    "<td>2</td>\n",
    "<td>2</td>\n",
    "<td>$\\sqrt{6}\\rho^2 \\cos(2 \\theta)$</td>\n",
    "<td>Astigmatism</td>\n",
    "</tr>\n",
    "\n",
    "<tr>\n",
    "<td>6</td>\n",
    "<td>3</td>\n",
    "<td>-3</td>\n",
    "<td>$\\sqrt{8}\\rho^3 \\sin(3 \\theta)$</td>\n",
    "<td>Trefoil</td>\n",
    "</tr>\n",
    "\n",
    "<tr>\n",
    "<td>7</td>\n",
    "<td>3</td>\n",
    "<td>-1</td>\n",
    "<td>$\\sqrt{8}(3\\rho^3 - 2\\rho) \\sin(\\theta)$</td>\n",
    "<td>Coma</td>\n",
    "</tr>\n",
    "\n",
    "<tr>\n",
    "<td>8</td>\n",
    "<td>3</td>\n",
    "<td>1</td>\n",
    "<td>$\\sqrt{8}(3\\rho^3 - 2\\rho) \\cos(\\theta)$</td>\n",
    "<td>Coma</td>\n",
    "</tr>\n",
    "\n",
    "<tr>\n",
    "<td>9</td>\n",
    "<td>3</td>\n",
    "<td>3</td>\n",
    "<td>$\\sqrt{8}\\rho^3 \\cos(3 \\theta)$</td>\n",
    "<td>Trefoil</td>\n",
    "</tr>\n",
    "\n",
    "<tr>\n",
    "<td>10</td>\n",
    "<td>4</td>\n",
    "<td>-4</td>\n",
    "<td>$\\sqrt{10}\\rho^4 \\sin(4\\theta)$</td>\n",
    "<td>Quadrafoil</td>\n",
    "</tr>\n",
    "\n",
    "<tr>\n",
    "<td>11</td>\n",
    "<td>4</td>\n",
    "<td>-2</td>\n",
    "<td>$\\sqrt{10}(4\\rho^4 - 3\\rho^2) \\sin(2\\theta)$</td>\n",
    "<td>Secondary astigamtism</td>\n",
    "</tr>\n",
    "\n",
    "<tr>\n",
    "<td>12</td>\n",
    "<td>4</td>\n",
    "<td>0</td>\n",
    "<td>$\\sqrt{5}(6\\rho^4 - 6\\rho^2 +1)$</td>\n",
    "<td>Spherical</td>\n",
    "</tr>\n",
    "<tr>\n",
    "<td>13</td>\n",
    "<td>4</td>\n",
    "<td>2</td>\n",
    "<td>$\\sqrt{10}(4\\rho^4 - 3\\rho^2) \\cos(2\\theta)$</td>\n",
    "<td>Secondary astigmatism</td>\n",
    "</tr>\n",
    "\n",
    "<tr>\n",
    "<td>14</td>\n",
    "<td>4</td>\n",
    "<td>4</td>\n",
    "<td>$\\sqrt{10}\\rho^4 \\cos(4\\theta)$</td>\n",
    "<td>Quadrafoil</td>\n",
    "\n",
    "</table> \n",
    "\n",
    "Apart from the values of n and m, the Zernike polynomials can be denoted with only a subscript j. The\n",
    "relationship between j and the pair (n, m) is given by the following expression,\n",
    "\n",
    "$$j = \\frac{n(n+2) + m}{2}$$\n",
    "\n",
    "![Zernike polynomials](500px-ZernikePolynome6.svg.png)\n",
    "\n",
    "\n",
    "These polynomials form a complete orthogonal base in the unit circle. This means that\n",
    "any function in the plane can be developed as a sum of Zernike polynomials.\n",
    "Also, its mean is zero and its variance ($ \\sigma ^ 2 $) is equal to 1. These last two properties have\n",
    "As a consequence, the calculation of the RMS is very simple with these polynomials. Indeed,\n",
    "can show that if the aberration function $ W (\\rho, \\theta) $ has a type development,\n",
    "\n",
    "$$ W (\\rho, \\theta) = c_0 Z_0 + c_1 Z_1 + c_2 Z_2 + \\ldots = \\sum_i c_i Z_i $$\n",
    "\n",
    "the calculation of the RMS will be given only by the expression, $ RMS = \\sqrt {\\sum_i c_i ^ 2} $.\n",
    "\n",
    "In the development of $ W (\\rho, \\theta) $, the coefficients $ c_i $ have units of length and are called\n",
    "aberration coefficients.\n",
    "\n",
    "To know more:\n",
    "\n",
    "[Page from the Stanford University on Zernike Polynomials](http://scien.stanford.edu/pages/labsite/2003/psych221/projects/03/pmaeda/index.html)\n",
    "\n",
    "[Page of Wofram Mathworld on the properties of the Zernike Polynomials](http://mathworld.wolfram.com/ZernikePolynomial.html)"
   ]
  }
 ],
 "metadata": {
  "kernelspec": {
   "display_name": "Python 3 (Anaconda)",
   "language": "python",
   "name": "anaconda3"
  },
  "language_info": {
   "codemirror_mode": {
    "name": "ipython",
    "version": 3
   },
   "file_extension": ".py",
   "mimetype": "text/x-python",
   "name": "python",
   "nbconvert_exporter": "python",
   "pygments_lexer": "ipython3",
   "version": "3.5.4"
  },
  "name": "",
  "signature": "sha256:10e653bb8e0cba5ea3e10c00e9bbabed99cef2dde0650bada69600ad2984dd57"
 },
 "nbformat": 4,
 "nbformat_minor": 0
}