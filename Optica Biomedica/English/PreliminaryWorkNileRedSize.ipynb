{
 "cells": [
  {
   "cell_type": "markdown",
   "metadata": {
    "collapsed": false
   },
   "source": [
    "# Biomedical Optics. Preliminary Work. Lab Session - Determination of the Nile Red-like particles"
   ]
  },
  {
   "cell_type": "markdown",
   "metadata": {
    "collapsed": false
   },
   "source": [
    "NAME AND FAMILY NAME:\n",
    "\n",
    "DEADLINE:\n",
    "\n",
    "Modify the cell by including the requested data.\n"
   ]
  },
  {
   "cell_type": "markdown",
   "metadata": {
    "collapsed": false
   },
   "source": [
    "---\n",
    "\n",
    "Run this cell to upload the scientific calculus libraries (%pylab inline).\n"
   ]
  },
  {
   "cell_type": "code",
   "execution_count": 0,
   "metadata": {
    "collapsed": false
   },
   "outputs": [
   ],
   "source": [
    "%pylab inline"
   ]
  },
  {
   "cell_type": "markdown",
   "metadata": {
    "collapsed": false
   },
   "source": [
    "# Basic concepts on fluorescent microscopy"
   ]
  },
  {
   "cell_type": "markdown",
   "metadata": {
    "collapsed": false
   },
   "source": [
    "The absorption of radiation by a medium involves a transition between two energy states\n",
    "of the atom or molecule that interacts with light. For the case of absorption by a molecule, the levels involved correspond to electronic states (when the frequency of the light absorbed corresponds to the visible and ultraviolet), vibrational (if the frequency of the absorbed radiation corresponds to the middle and near infrared) or rotational (sicorresponds to the far infrared and microwave).\n",
    "Once the atom or molecule is excited to a level\n",
    "of higher energy, it can release energy through the emission of light.\n",
    "The emission of light by the medium when deexcited from an electronic energy level is called luminescence. The following figure shows a scheme of the processes that give rise to fluorescence by way\n",
    "of a level diagram. At first, the molecule is excited, by interaction with incident light,\n",
    "to one of the vibrational levels of the higher electronic states S$_1$,\n",
    "S$_2$ in the figure. From that level, the molecule normally experiences a de-excitation by\n",
    "non-radiative processes (that is, they do not involve the emission of photons) up to the level\n",
    "lower vibrational of the first electronic level excited S$ _1 $. This process occurs very quickly, with times shorter than ns.\n",
    "From this state, the molecule can lose energy by emitting light to end in a final state which is one of the vibrational levels of the electronic fundamental state. This emission is what is known as fluorescence and occurs at a typical time of ns. It is called in turn\n",
    "as a fluorophore, a molecule capable of emitting light through this process. As one can\n",
    "observe, in the process of fluorescence there are involved electronic states which are closer in energy\n",
    "than those that connect the absorption of incident light. Therefore, fluorescence\n",
    "radiation will have a lower frequency than the radiation that has excited the molecule. Indeed, it is called Stokes' shift to the difference in frequency between the maxima of the emission and absorption bands of the molecule.\n",
    "\n",
    "![jablonski](Jablonskifluorescence.png) | ![stokes](Stokes_shift-_Rh6G.png)\n",
    "-----------------------|------------\n",
    "\n",
    "When the molecule is in the lowest state of the first electronic level S$_1$, it can be\n",
    "get to give another process of energy transfer that does not involve the emission of a photon. This\n",
    "transition is called *Intercrossed System* and is denoted in the figure above by the acronym *IC*.\n",
    "It consists of the transition of the molecule to another state called Triplet (T$_1$ in the figure)\n",
    "where the spin of the electron changes. The fundamental consequence of this change is that relaxation\n",
    "of the molecule from the triplet state to the ground state happens to occur in much longer times\n",
    "(of the millisecond order). The emission that occurs in this relaxation process is\n",
    "called *Phosphorescence* to distinguish it from relaxation from the excited singlet state that gives rise to an emission in much faster times (and that is what we call Fluorescence).\n",
    "\n",
    "To measure the fluorescence a camera or a photodiode is usually placed in the direction\n",
    "perpendicular to the beam used to excite the sample. In this way the\n",
    "contribution to the radiation captured from the incident beam is minimized, leaving only the fluorescence. Furthermore suitable filters are used in order to completely eliminate the radiation of other unwanted wavelengths (which can reach the photodiode or camera by scattering or reflections).\n",
    "\n",
    "Fluorescence measurements are important for the study of biological tissues and materials. When measuring fluorescence, we obtain information on the structure of the molecular levels under study and its interaction with the surrounding environment. In addition, the fluorescence images present a high contrast, allowing to discriminate the location of molecules at the intracellular level. On the other hand, we can use certain fluorophores to mark, for example, certain non-fluorescent proteins. By knowing the fluorescence of these fluorophores, we can locate and follow the evolution of these proteins.\n",
    "\n",
    "Of the main characteristics that define the fluorescence of a substance, perhaps the **quantum yield** and the **decay time** of the fluorescence are the most important. The quantum yield is the ratio between the number of photons emitted and the number of photons absorbed, and gives us an idea of the number of molecules that are de-excited by emission, giving rise to fluorescence, compared to the number that are de-excited by non-radiative processes . These non-radiative processes can be, for example, collisions with environmental molecules or resonant energy transfer (RET). In the first case, the molecule undergoes a collision with another of its environment that leads it to lose the acquired energy and return it to the ground state. In the case of RET, energy loss occurs when the emission spectrum of the fluorophore overlaps with the absorption spectrum of another nearby molecule. In this case, and without emission from the fluorophore, an energy transfer occurs between the two molecules through electrical interaction (dipole-dipole).\n",
    "The decay time gives us an idea of the time the molecule has to interact with its environment while being at the excited level. That is why being able to record the evolution over time of the fluorescence signal, we can obtain information on both processes, some taken place in the molecule that take place at that time and other associated to the environment. For example, we can observe if the molecule rotates during the emission process.\n",
    "\n",
    "For a further study,\n",
    "\n",
    "\n",
    "\n",
    "[clip about fluorescent microscopy](http://www.youtube.com/embed/iPrZ84kHH2U)\n",
    "\n",
    "[clip about fluorescence](http://www.youtube.com/embed/CcssdJf0pKQ)\n",
    "\n",
    "[Tutorial about fluorescence](http://media.invitrogen.com.edgesuite.net/tutorials/1Intro/player.html)\n",
    "\n",
    "[Tutorial about excitation and emission spectra](http://media.invitrogen.com.edgesuite.net/tutorials/2Spectra/player.html)\n"
   ]
  },
  {
   "cell_type": "markdown",
   "metadata": {
    "collapsed": false
   },
   "source": [
    "**Exercise 1**\n",
    "\n",
    "Explain:\n",
    "\n",
    "A) ¿what is the excitation and the emission spectra of a fluorescent particle?\n",
    "\n",
    "B) ¿what is the experimental procedure to measure any of them?\n",
    "\n",
    "Answer the questions in this cell"
   ]
  },
  {
   "cell_type": "markdown",
   "metadata": {
    "collapsed": false
   },
   "source": [
    "**Exercise 2** \n",
    "\n",
    "Explain the role played by any of the considered filters: excitation, dichroic, and emission filters in a  fluorescent microscope. Answer the questions in this cell"
   ]
  },
  {
   "cell_type": "markdown",
   "metadata": {
    "collapsed": false
   },
   "source": [
    "---------------\n",
    "We will design a fluorescence microscope choosing the appropriate filters to excite and record the emission of different fluorophores. In practice we will use three fluorophores:\n",
    "\n",
    "- *Nile Red*: fluorescent micrometric particles (from the company Invitrogen, reference F8825) dissolved in distilled water. They fluoresce in red when excited by green radiation. As a source of excitation we will use a high power LED from the company Thorlabs whose maximum emission is at λ = 530 nm (Model: M530L3-Green).\n",
    "\n",
    "- *Proflavine*: (from the company Sigma-Aldrich, reference 131105-5G) dissolved in distilled water. Fluoresce in green (with its maximum at λ = 512 nm) when excited with blue. As a source of excitation we will use a high power LED from the company Thorlabs whose maximum emission is at λ = 455 nm (Model: M455L2-Royal Blue).\n",
    "\n",
    "- *ProtoporphyrinIX*: (from the company Sigma-Aldrich, reference P8293-1G) dissolved in a mixture of N, N-dimethylformamide and 50% ethanol. Fluoresce in red (with its maximum at λ = 633 nm) when excited in UV-blue. As a source of excitation we will use a high power LED from the company LedEngin whose maximum emission is at λ = 390 nm (Model: LZ1-10UA00)."
   ]
  },
  {
   "cell_type": "markdown",
   "metadata": {
    "collapsed": false
   },
   "source": [
    "# Nile Red fluorophore"
   ]
  },
  {
   "cell_type": "markdown",
   "metadata": {
    "collapsed": false
   },
   "source": [
    "Let's upload the file of the excitation spectrum of the *Nile Red-like particles*: **excitacion_NILE_RED.txt**. First column is the wavlength and second one is the relative intensity of the excitation spectrum. In a similar way let's upload the file of their emission spectrum, **emision_NILE_RED.txt**; First column is the wavlength and second one is the relative intensity of the emission spectrum. The following code cells perform these operations."
   ]
  },
  {
   "cell_type": "code",
   "execution_count": 0,
   "metadata": {
    "collapsed": false
   },
   "outputs": [
   ],
   "source": [
    "exci_nilered = loadtxt('excitacion_NILE_RED.txt') # upload the file of the excitation spectrum in the variable exci_nilered\n",
    "long_onda_exc = exci_nilered[:,0] # first column\n",
    "intens_exc = exci_nilered[:,1] # second column\n",
    "emi_nilered = loadtxt('emision_NILE_RED.txt') # upload the file of the emission spectrum in the variable  emi_nilered\n",
    "long_onda_emi = emi_nilered[:,0] # first column\n",
    "intens_emi = emi_nilered[:,1] # second column"
   ]
  },
  {
   "cell_type": "markdown",
   "metadata": {
    "collapsed": false
   },
   "source": [
    "Plot both spectra"
   ]
  },
  {
   "cell_type": "code",
   "execution_count": 0,
   "metadata": {
    "collapsed": false
   },
   "outputs": [
   ],
   "source": [
    "import mpld3     # the library `mpld3` allows us to show figures with an automatic zoom option\n",
    "from mpld3 import plugins\n",
    "mpld3.enable_notebook()\n",
    "\n",
    "fig=figure(figsize=(7,4))\n",
    "fill_between(long_onda_exc,intens_exc,0,alpha = 0.2)\n",
    "fill_between(long_onda_emi,intens_emi,0,color='r',alpha = 0.2)\n",
    "xlabel('Wavelength (nm)')\n",
    "ylabel('Normalized spectrum')\n",
    "text(630,50,'Emission');\n",
    "text(500,60,'Excitation');\n",
    "plugins.connect(fig, plugins.MousePosition(fontsize=14))\n",
    "mpld3.display(fig)"
   ]
  },
  {
   "cell_type": "markdown",
   "metadata": {
    "collapsed": false
   },
   "source": [
    "**Exercise 3**:\n",
    "\n",
    "From the previous figure, indicate the Stokes' shift of the spectrum and the wavelength range at which both spectra overlap. Answer this question in this cell"
   ]
  },
  {
   "cell_type": "markdown",
   "metadata": {
    "collapsed": false
   },
   "source": [
    "---------------\n",
    "Let's upload now the file of the spectrum of the iluminating radiation source M530L3 from Throlabs, **M530L3.txt**. The latter takes values within 0 and 1, so it has to be multiplied by 100 to be observed together with the previous spectra."
   ]
  },
  {
   "cell_type": "code",
   "execution_count": 0,
   "metadata": {
    "collapsed": false
   },
   "outputs": [
   ],
   "source": [
    "espect_fuente = loadtxt('M530L3.txt')\n",
    "long_onda_fuente = espect_fuente[:,0]\n",
    "intens_norm_fuente = 100.0*espect_fuente[:,1]\n",
    "mpld3.disable_notebook()\n",
    "figsize(7,4)\n",
    "plot(long_onda_fuente,intens_norm_fuente,'g')\n",
    "fill_between(long_onda_exc,intens_exc,0,alpha = 0.2)\n",
    "fill_between(long_onda_emi,intens_emi,0,color='r',alpha = 0.2)\n",
    "xlabel(r'$\\lambda$ (nm)')\n",
    "ylabel('Normalized spectrum')\n",
    "axis([400,750,0,100]);"
   ]
  },
  {
   "cell_type": "markdown",
   "metadata": {
    "collapsed": false
   },
   "source": [
    "Let's take into account the following filters to select the most appropiate one to measure the fluorescent signal.\n",
    "\n",
    "In the lab we have 9 filters whose references (*Part number*) are the following:\n",
    "\n",
    "- Semrock, part number FF01-520/35-25. Fichero **FF01-520_35.txt**\n",
    "- Semrock, part number FF01-593/40. Fichero **FF01-593_40.txt**\n",
    "- Semrock, part number FF01-452/45-25. Fichero **FF01-452_45.txt**\n",
    "- Semrock, part number FF01-550/88-25. Fichero **FF01-550_88.txt**\n",
    "- Newport, part number 10LF10-633. Fichero **10LF10-633.txt**\n",
    "- Chroma, part number BLP01-594R-25. Fichero **BLP01-594R.txt**\n",
    "- Chroma, part number BLP01-514R-25. Fichero **BLP01-514R.txt**\n",
    "- Semrock, part number Di02-R442, Fichero **Di02-R442.txt**\n",
    "- Semrock, part number FF562-Di03. Fichero **FF563-di03.txt**\n",
    "- Semrock, part number 485dclp. Fichero **485dclp.txt**\n",
    "\n",
    "**Exercise 4**\n",
    "\n",
    "Now we show the website link from the company Semrock, specialized in filters for all kind of applications. Find in this website some of the mentioned filters and write their price.\n",
    "\n",
    "\n",
    "[Semrock's website](http://www.semrock.com/filters.aspx)"
   ]
  },
  {
   "cell_type": "markdown",
   "metadata": {
    "collapsed": false
   },
   "source": [
    " ***********\n",
    "**Exercise 5**\n",
    "\n",
    "Upload the spectral files of the transmittances of these filters and represent them. The first column corresponds to the wavelength in nanometers and the second column corresponds to the transmittance. Indicate within these, what excitation, emission and dichroic filter you would choose for the particles *Nile Red* (For this, indicate the *Part number* that appears above) by arguing the made choice. Answer this question in this cell.\n",
    "\n",
    "Excitation filter:\n",
    "\n",
    "Emission filter:\n",
    "\n",
    "Dichroic filter:"
   ]
  },
  {
   "cell_type": "markdown",
   "metadata": {
    "collapsed": false
   },
   "source": [
    "*******\n",
    "We will check the effect of the chosen filters on the previously loaded spectra. In the next code cell write the names of the chosen files as excitation, emission and dichroic filters in exercise 5. The following code shows the data of the transmittance file vs the wavelength of each selected filter together with the source spectra, and those of excitation and emission of the particles.\n",
    "\n",
    "Enter in the next code cell the names of the files chosen as excitation, emission and dichroic filters. \n"
   ]
  },
  {
   "cell_type": "code",
   "execution_count": 0,
   "metadata": {
    "collapsed": false
   },
   "outputs": [
   ],
   "source": [
    "filtro_exc = loadtxt('name_chosen_excitation_filter.txt')\n",
    "long_onda_fexc = filtro_exc[:,0]\n",
    "espec_exc = 100*filtro_exc[:,1]\n",
    "\n",
    "filtro_emi = loadtxt('name_chosen_emission_filter.txt')\n",
    "long_onda_femi = filtro_emi[:,0]\n",
    "espec_emi = 100.0*filtro_emi[:,1]\n",
    "\n",
    "filtro_dic = loadtxt('name_chosen_dichroic_filter.txt')\n",
    "long_onda_fdic = filtro_dic[:,0]\n",
    "espec_dic = 100.0*filtro_dic[:,1]\n",
    "\n",
    "fig = figure()\n",
    "figsize(7,4)\n",
    "plot(long_onda_fuente,intens_norm_fuente,'g')\n",
    "fill_between(long_onda_exc,intens_exc,0,color='g',alpha = 0.2)\n",
    "fill_between(long_onda_emi,intens_emi,0,color='r',alpha = 0.2)\n",
    "xlabel(r'$\\lambda$ (nm)')\n",
    "ylabel('Normalized spectrum')\n",
    "text(630,50,'Emission');\n",
    "text(500,60,'Excitation');\n",
    "title('NILE RED')\n",
    "plot(long_onda_fexc,espec_exc,'b')\n",
    "plot(long_onda_femi,espec_emi,'r')\n",
    "plot(long_onda_fdic,espec_dic,'black')\n",
    "xlabel(r'$\\lambda$ (nm)')\n",
    "ylabel('Normalized spectrum')\n",
    "axis([400,750,0,100]);"
   ]
  },
  {
   "cell_type": "markdown",
   "metadata": {
    "collapsed": false
   },
   "source": [
    "# Proflavine"
   ]
  },
  {
   "cell_type": "markdown",
   "metadata": {
    "collapsed": false
   },
   "source": [
    "**Exercise 6**\n",
    "\n",
    "- Upload the excitation spectrum file **excitation_PROFLAVINA.txt** and the emission file **emission_PROFLAVINA.txt** from the *proflavine*.\n",
    "- Represent it together with the emission spectrum of the source that will be used to excite it, **M455L3.txt**.\n",
    "- Choose which of the available filters is the most appropriate to see the fluorescence of proflavine.\n",
    "- Represent the transmittances of the chosen filters together with the emission and excitation spectra of the proflavine and the emission of the source."
   ]
  },
  {
   "cell_type": "markdown",
   "metadata": {
    "collapsed": false
   },
   "source": [
    "**Exercise 7**\n",
    "\n",
    "Indicate the value of the Stokes' shift in the case of proflavine and in what range of wavelengths there is overlap between the two spectra. Justify the choice of filters. Answer this question in this cell\n"
   ]
  },
  {
   "cell_type": "markdown",
   "metadata": {
    "collapsed": false
   },
   "source": [
    "# Protoporphyrin IX"
   ]
  },
  {
   "cell_type": "markdown",
   "metadata": {
    "collapsed": false
   },
   "source": [
    "**Exercise 8**\n",
    "\n",
    "- Upload the file of the excitation spectrum **excitation_PROTOPORFIRINA.txt** and of emission **emission_PROTOPORFIRINA.txt** of the *protoporphyrin*.\n",
    "- Represent it together with the emission spectrum of the lighting source that will be used to excite it, **LZ1-10UA00.txt**.\n",
    "- Choose which of the available filters is the most appropriate (if any or if necessary) to see the fluorescence of protoporphyrin. Represent the transmittances of the filters chosen together with the emission and excitation spectra of the protoporphyrin and the emission of the source.\n"
   ]
  },
  {
   "cell_type": "markdown",
   "metadata": {
    "collapsed": false
   },
   "source": [
    "**Exercise 9**\n",
    "\n",
    "\n",
    "Indicate the value of the Stokes' shift in the case of protoporphyrin and in what wavelength range overlap occurs between the two spectra. Justify the choice of filters. Answer this question in this cell\n"
   ]
  },
  {
   "cell_type": "code",
   "execution_count": 0,
   "metadata": {
    "collapsed": false
   },
   "outputs": [
   ],
   "source": [
   ]
  }
 ],
 "metadata": {
  "kernelspec": {
   "display_name": "Python 3 (old Anaconda 3)",
   "language": "python",
   "name": "anaconda3"
  },
  "language_info": {
   "codemirror_mode": {
    "name": "ipython",
    "version": 3
   },
   "file_extension": ".py",
   "mimetype": "text/x-python",
   "name": "python",
   "nbconvert_exporter": "python",
   "pygments_lexer": "ipython3",
   "version": "3.5.5"
  },
  "name": "",
  "signature": "sha256:88ec480874ce5420c59b5e16bc9adcf78df53e01ad4c625814df2306d62669ed"
 },
 "nbformat": 4,
 "nbformat_minor": 0
}