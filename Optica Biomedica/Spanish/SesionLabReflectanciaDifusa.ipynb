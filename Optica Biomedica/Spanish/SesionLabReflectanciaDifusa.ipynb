{
 "metadata": {
  "name": "",
  "signature": "sha256:5bbf359f25df881231750095c07685375856d17e4dea1ad80b319ea9d21b11e4"
 },
 "nbformat": 3,
 "nbformat_minor": 0,
 "worksheets": [
  {
   "cells": [
    {
     "cell_type": "heading",
     "level": 1,
     "metadata": {},
     "source": [
      "\u00d3ptica Biom\u00e9dica. Pr\u00e1ctica 3"
     ]
    },
    {
     "cell_type": "markdown",
     "metadata": {},
     "source": [
      "NOMBRE Y APELLIDOS:\n",
      "\n",
      "FECHA LIMITE DE ENTREGA:\n",
      "\n",
      "Modificar esta celda incluyendo la informaci\u00f3n solicitada"
     ]
    },
    {
     "cell_type": "markdown",
     "metadata": {},
     "source": [
      "---\n",
      "\n",
      "Ejecutar la siguiente celda para cargar el m\u00f3dulo de c\u00e1lculo cient\u00edfico (`%pylab inline`).\n"
     ]
    },
    {
     "cell_type": "code",
     "collapsed": false,
     "input": [
      "%pylab inline"
     ],
     "language": "python",
     "metadata": {},
     "outputs": []
    },
    {
     "cell_type": "heading",
     "level": 2,
     "metadata": {},
     "source": [
      "Tarea 1. Determinar la profundidad de penetraci\u00f3n de la luz en tejidos biol\u00f3gicos "
     ]
    },
    {
     "cell_type": "heading",
     "level": 3,
     "metadata": {},
     "source": [
      "T1.1. Espectro de reflectancia del crom\u00f3foro"
     ]
    },
    {
     "cell_type": "markdown",
     "metadata": {},
     "source": [
      "**Representaci\u00f3n gr\u00e1fica de los espectros de reflectancia.**\n",
      "Se representar\u00e1 en la misma gr\u00e1fica el espectro de reflectancia de un papel tintando (que simula un crom\u00f3foro de la piel) junto con el espectro de reflectancia de un papel blanco en el rango de longitudes de onda de 425 a 900 nm.\n",
      "\n",
      "En la siguiente celda de c\u00f3digo escribir el nombre de los ficheros de datos correspondientes al papel tintado y al papel blanco. Dichos ficheros habr\u00e1n sido importados a la nube previamente en el directorio del alumno. "
     ]
    },
    {
     "cell_type": "code",
     "collapsed": false,
     "input": [
      "# MODIFICAR SOLO EL NOMBRE DEL FICHERO EN ESTA CELDA Y EJECUTAR\n",
      "filenamepapel = 'verde.txt'   #nombre del fichero del papel tintado\n",
      "filenameblanco = 'patron.txt'  #nombre del fichero del papel blanco"
     ],
     "language": "python",
     "metadata": {},
     "outputs": []
    },
    {
     "cell_type": "code",
     "collapsed": false,
     "input": [
      "# NO TOCAR ESTA CELDA, SOLO EJECUTAR\n",
      "\n",
      "import StringIO\n",
      "s = open(filenamepapel).read().replace(',','.')\n",
      "data = loadtxt(StringIO.StringIO(s))\n",
      "\n",
      "lambdapapel = data[:,0]\n",
      "reflectancepapel = data[:,1]/100\n",
      "\n",
      "s = open(filenameblanco).read().replace(',','.')\n",
      "data = loadtxt(StringIO.StringIO(s))\n",
      "\n",
      "lambdablanco = data[:,0]\n",
      "reflectanceblanco = data[:,1]/100\n",
      "\n",
      "\n",
      "fig=figure(figsize=(7,5))\n",
      "plot(lambdapapel,reflectancepapel,'ro')\n",
      "plot(lambdablanco,reflectanceblanco,'ko')\n",
      "legend(('crom','blanco'),loc='lower right') \n",
      "xlabel('Longitud de onda (nm)')\n",
      "ylabel('Reflectancia')\n",
      "xlim(425,900);"
     ],
     "language": "python",
     "metadata": {},
     "outputs": []
    },
    {
     "cell_type": "heading",
     "level": 4,
     "metadata": {},
     "source": [
      "Ejercicio 1"
     ]
    },
    {
     "cell_type": "markdown",
     "metadata": {},
     "source": [
      "**An\u00e1lisis de los espectros de reflectancia.**\n",
      "\n",
      "Relacionar la regi\u00f3n de longitudes de onda de mayor reflectancia con el color del papel. Escribir en esta celda la respuesta."
     ]
    },
    {
     "cell_type": "heading",
     "level": 3,
     "metadata": {},
     "source": [
      "T1.2. Espectro de reflectancia del crom\u00f3foro cubierto por una l\u00e1mina de tejido"
     ]
    },
    {
     "cell_type": "markdown",
     "metadata": {},
     "source": [
      "**Representaci\u00f3n gr\u00e1fica de los espectros de reflectancia.**\n",
      "Se representar\u00e1n tres gr\u00e1ficas:  \n",
      "\n",
      " - espectro de reflectancia del papel blanco con y sin la capa de tejido (l\u00e1mina de ternera) entre 425 y 900nm. \n",
      " \n",
      " - espectro de reflectancia del crom\u00f3foro (papel tintado) con y sin la capa de tejido (l\u00e1mina de ternera) entre 425 y 900nm. \n",
      " \n",
      " - espectro de reflectancia del crom\u00f3foro y del papel blanco ambos con el tejido superpuesto entre 425 y 900nm.\n",
      "\n",
      "En la siguiente celda de c\u00f3digo escribir el nombre de los ficheros de datos correspondientes al papel tintado y al papel blanco con 1 l\u00e1mina de ternera. Dichos ficheros habr\u00e1n sido importado a la nube previamente en el directorio del alumno. "
     ]
    },
    {
     "cell_type": "code",
     "collapsed": false,
     "input": [
      "# MODIFICAR SOLO EL NOMBRE DEL FICHERO EN ESTA CELDA Y EJECUTAR\n",
      "filenamepapelfilete1 = 'verdefilete1.txt'  #nombre del fichero del papel tintado con 1 l\u00e1mina de ternera\n",
      "filenameblancofilete1 = 'patronfilete1.txt' #nombre del fichero del papel blanco con 1 l\u00e1mina de ternera "
     ],
     "language": "python",
     "metadata": {},
     "outputs": []
    },
    {
     "cell_type": "code",
     "collapsed": false,
     "input": [
      "# NO TOCAR, SOLO EJECUTAR\n",
      "\n",
      "import StringIO\n",
      "s = open(filenameblancofilete1).read().replace(',','.')\n",
      "data = loadtxt(StringIO.StringIO(s))\n",
      "lambdablancofilete1 = data[:,0]\n",
      "reflectanceblancofilete1 = data[:,1]/100\n",
      "\n",
      "s = open(filenamepapelfilete1).read().replace(',','.')\n",
      "data = loadtxt(StringIO.StringIO(s))\n",
      "lambdapapelfilete1 = data[:,0]\n",
      "reflectancepapelfilete1 = data[:,1]/100\n",
      "\n",
      "\n",
      "fig=figure(figsize=(14,7))\n",
      "\n",
      "subplot(1,3,1)\n",
      "plot(lambdablanco,reflectanceblanco,'ko',label='blanco')\n",
      "plot(lambdablancofilete1,reflectanceblancofilete1,'k+',label='blanco+1filet.')\n",
      "xlabel('Longitud de onda (nm)')\n",
      "ylabel('Reflectancia')\n",
      "title('Papel blanco')\n",
      "xlim(425,900)\n",
      "ylim(0,1)\n",
      "legend(loc='lower right')\n",
      "\n",
      "subplot(1,3,2)\n",
      "plot(lambdapapel,reflectancepapel,'ro',label='crom.')\n",
      "plot(lambdapapelfilete1,reflectancepapelfilete1,'r+',label='crom.+1filet.')\n",
      "xlabel('Longitud de onda (nm)')\n",
      "ylabel('Reflectancia')\n",
      "title('Papel tintado')\n",
      "xlim(425,900) \n",
      "ylim(0,)\n",
      "legend(loc='lower right')\n",
      "\n",
      "subplot(1,3,3)\n",
      "plot(lambdapapelfilete1,reflectancepapelfilete1,'r+',label='crom.+1filet.')\n",
      "plot(lambdablancofilete1,reflectanceblancofilete1,'k+',label='blanco+1filet.')\n",
      "xlabel('Longitud de onda (nm)');ylabel('Reflectancia');xlim(425,900);ylim(0,);legend(loc='lower right')"
     ],
     "language": "python",
     "metadata": {},
     "outputs": []
    },
    {
     "cell_type": "heading",
     "level": 4,
     "metadata": {},
     "source": [
      "Ejercicio 2"
     ]
    },
    {
     "cell_type": "markdown",
     "metadata": {},
     "source": [
      "**An\u00e1lisis del espectro de reflectancia de la muestra patr\u00f3n.**\n",
      "\n",
      "Explicar c\u00f3mo se ha modificado el espectro de reflectancia del papel de color blanco cuando se coloca sobre \u00e9l una l\u00e1mina de ternera. Discutir en qu\u00e9 rango de longitudes de onda se observan los picos de absorci\u00f3n debidos a la hemoglobina que contiene el filete. Escribir en esta celda la respuesta."
     ]
    },
    {
     "cell_type": "heading",
     "level": 4,
     "metadata": {},
     "source": [
      "Ejercicio 3"
     ]
    },
    {
     "cell_type": "markdown",
     "metadata": {},
     "source": [
      "**An\u00e1lisis del espectro de reflectancia del papel tintado.**\n",
      "\n",
      "A) Explicar c\u00f3mo se ha modificado el espectro de reflectancia del papel tintado cuando se coloca sobre \u00e9l una l\u00e1mina de ternera. Escribir en esta celda la respuesta. \n",
      "\n",
      "B) \u00bfHay alguna caracter\u00edstica del espectro del papel tintado que se mantenga cuando colocamos sobre \u00e9l la l\u00e1mina de ternera? Esta caracter\u00edstica nos permitir\u00eda determinar si parte de la luz reflejada proviene del crom\u00f3foro (papel tintado) oculto tras el tejido. Escribir en esta celda la respuesta.\n",
      "\n",
      "C) Comparando los espectros correspondientes al papel blanco y al tintado (crom\u00f3foro) cuando est\u00e1n cubiertos por la l\u00e1mina de ternera, explicar si parte de la luz reflejada proviene del crom\u00f3foro (papel tintado). Escribir en esta celda la respuesta."
     ]
    },
    {
     "cell_type": "markdown",
     "metadata": {},
     "source": [
      "----------------"
     ]
    },
    {
     "cell_type": "heading",
     "level": 3,
     "metadata": {},
     "source": [
      "T1.3. Espectro de reflectancia del crom\u00f3foro cubierto por dos o mas capas de tejido"
     ]
    },
    {
     "cell_type": "markdown",
     "metadata": {},
     "source": [
      "**Representaci\u00f3n gr\u00e1fica de los espectros de reflectancia.**\n",
      "Se representar\u00e1n las siguiente gr\u00e1ficas:  \n",
      "\n",
      " - espectro de reflectancia del papel blanco sin tejido y con cada una de las capas de tejido interpuestas entre 425 y 900nm.\n",
      " \n",
      " - espectro de reflectancia del crom\u00f3foro (papel tintado) sin tejido y con cada una de las capas de tejido interpuestas entre 425 y 900nm. \n",
      " \n",
      " - espectro de reflectancia del crom\u00f3foro y del papel blanco ambos con dos l\u00e1minas de tejido  entre 425 y 900nm\n",
      " \n",
      " - espectro de reflectancia del crom\u00f3foro y del papel blanco ambos con tres l\u00e1minas de tejido  entre 425 y 900nm\n",
      " \n",
      " - espectro de reflectancia del crom\u00f3foro y del papel blanco ambos con cuatro l\u00e1minas de tejido  entre 425 y 900nm\n",
      "\n",
      "En la siguiente celda de c\u00f3digo escribir el nombre de los ficheros de datos correspondientes al papel tintado y al papel blanco con 2 l\u00e1minas de ternera. Dichos ficheros habr\u00e1n sido importado a la nube previamente en el directorio del alumno. \n",
      "Si el alumno ha medido la reflectancia con un n\u00famero mayor de capas de tejido, debe a\u00f1adir las celdas de c\u00f3digo necesarias para poder representar la reflectancia de todas las capas medidas."
     ]
    },
    {
     "cell_type": "code",
     "collapsed": false,
     "input": [
      "# MODIFICAR CELDA Y EJECUTAR\n",
      "filenamepapelfilete2 = 'verdefilete2.txt'   #nombre del fichero del papel tintado con 2 l\u00e1minas de ternera\n",
      "filenameblancofilete2 = 'patronfilete2.txt'   #nombre del fichero del papel blanco con 2 l\u00e1minas de ternera"
     ],
     "language": "python",
     "metadata": {},
     "outputs": []
    },
    {
     "cell_type": "code",
     "collapsed": false,
     "input": [
      "# NO TOCAR, SOLO EJECUTAR\n",
      "\n",
      "import StringIO\n",
      "\n",
      "s = open(filenameblancofilete2).read().replace(',','.')\n",
      "data = loadtxt(StringIO.StringIO(s))\n",
      "lambdablancofilete2 = data[:,0]\n",
      "reflectanceblancofilete2 = data[:,1]/100\n",
      "\n",
      "s = open(filenamepapelfilete2).read().replace(',','.')\n",
      "data = loadtxt(StringIO.StringIO(s))\n",
      "lambdapapelfilete2 = data[:,0]; reflectancepapelfilete2 = data[:,1]/100\n",
      "\n",
      "fig=figure(figsize=(14,7))\n",
      "subplot(2,2,1)\n",
      "plot(lambdablanco,reflectanceblanco,'ko',label='blanco')\n",
      "plot(lambdablancofilete1,reflectanceblancofilete1,'k+',label='blanco+1filet.')\n",
      "plot(lambdablancofilete2,reflectanceblancofilete2,'k.',label='blanco+2filet.')\n",
      "xlabel('Longitud de onda (nm)');ylabel('Reflectancia');title('Papel blanco');xlim(425,900);ylim(0,);legend(loc='upper right')\n",
      "\n",
      "subplot(2,2,2)\n",
      "plot(lambdapapel,reflectancepapel,'ro',label='crom.')\n",
      "plot(lambdapapelfilete1,reflectancepapelfilete1,'r+',label='crom.+1filet.')\n",
      "plot(lambdapapelfilete2,reflectancepapelfilete2,'r.',label='crom.+2filet.')\n",
      "xlabel('Longitud de onda (nm)');ylabel('Reflectancia');title('Papel tintado');xlim(425,900);ylim(0,)\n",
      "legend(loc='upper center')\n",
      "\n",
      "subplot(2,2,3)\n",
      "plot(lambdapapelfilete2,reflectancepapelfilete2,'r.',label='crom.+2filet.')\n",
      "plot(lambdablancofilete2,reflectanceblancofilete2,'k.',label='blanco+2filet.')\n",
      "xlabel('Longitud de onda (nm)');ylabel('Reflectancia');title('2 filetes');xlim(425,900);ylim(0,);legend(loc='lower right')"
     ],
     "language": "python",
     "metadata": {},
     "outputs": []
    },
    {
     "cell_type": "heading",
     "level": 4,
     "metadata": {},
     "source": [
      "Ejercicio 4"
     ]
    },
    {
     "cell_type": "markdown",
     "metadata": {},
     "source": [
      "**An\u00e1lisis de los espectros de reflectancia.**\n",
      "\n",
      "A la vista de los resultados, indicar qu\u00e9 n\u00famero de l\u00e1minas de ternera debemos colocar para perder la informaci\u00f3n del crom\u00f3foro (papel tintado). Justificar la respuesta. Explicar c\u00f3mo podr\u00eda estimarse de forma cualitativa la profundidad de penetraci\u00f3n de la radiaci\u00f3n.\n",
      "Escribir en esta celda la respuesta. "
     ]
    },
    {
     "cell_type": "markdown",
     "metadata": {},
     "source": [
      "--------------"
     ]
    },
    {
     "cell_type": "heading",
     "level": 2,
     "metadata": {},
     "source": [
      "Tarea 2. Determinar el grado de oxigenaci\u00f3n de la sangre"
     ]
    },
    {
     "cell_type": "heading",
     "level": 3,
     "metadata": {},
     "source": [
      "T2.1. Espectro de reflectancia difusa medido en el laboratorio y su ajuste"
     ]
    },
    {
     "cell_type": "markdown",
     "metadata": {},
     "source": [
      "**Representaci\u00f3n gr\u00e1fica del espectro de reflectancia medido.**\n",
      "\n",
      "Representar uno de los espectros de reflectancia experimentales medidos en su caso particular en el rango de longitudes de onda de 450 a 800 nm.\n",
      "\n",
      "En la siguiente celda de c\u00f3digo escribir el nombre del fichero de datos correspondiente. Dicho fichero habr\u00e1 sido importado a la nube previamente en el directorio del alumno. "
     ]
    },
    {
     "cell_type": "code",
     "collapsed": false,
     "input": [
      "# MODIFICAR SOLO EL NOMBRE DEL FICHERO EN ESTA CELDA Y EJECUTAR\n",
      "filenameRefDif = 'MRDcuello2.txt'"
     ],
     "language": "python",
     "metadata": {},
     "outputs": []
    },
    {
     "cell_type": "code",
     "collapsed": false,
     "input": [
      "# NO TOCAR, SOLO EJECUTAR\n",
      "\n",
      "import StringIO\n",
      "lambda_start = 450\n",
      "lambda_end = 800\n",
      "s = open(filenameRefDif).read().replace(',','.')\n",
      "datos = loadtxt(StringIO.StringIO(s))\n",
      "\n",
      "lambdaRefDif = datos[:,0]\n",
      "RefDif = datos[:,1]/100\n",
      "ind_start = [i for (i, val) in enumerate(lambdaRefDif) if val==lambda_start]\n",
      "ind_end = [i for (i, val) in enumerate(lambdaRefDif) if val==lambda_end]\n",
      "lambdaRefDif = lambdaRefDif[ind_start[0]:ind_end[0]+1]\n",
      "RefDif = RefDif[ind_start[0]:ind_end[0]+1]\n",
      "\n",
      "plot(lambdaRefDif,RefDif,'ok')\n",
      "xlabel('$\\lambda$ (nm)')\n",
      "ylabel('Reflectancia Difusa')"
     ],
     "language": "python",
     "metadata": {},
     "outputs": []
    },
    {
     "cell_type": "markdown",
     "metadata": {},
     "source": [
      "**Ajuste de los datos a la reflectancia te\u00f3rica.**\n",
      "\n",
      "Vamos a ajustar los datos experimentales a la reflectancia te\u00f3rica calculada con la ecuaci\u00f3n de difusi\u00f3n:\n",
      "\n",
      "\n",
      "$$ R_d =  Cte \\; T_{epi} \\;  \\left[ \n",
      "\\frac{ z_0 \\left( 1+ \\mu_{eff} \\rho_1  \\right)}{4 \\pi \\rho_1^3} e^{-\\mu_{eff}\\rho_1} \n",
      "+ \\frac{  \\left( z_0 + 4 A D  \\right) \\left(1 + \\mu_{eff} \\rho_2 \\right) }{4 \\pi \\rho_2^3}  e^{-\\mu_{eff} \\rho_2} \\right] $$\n",
      "\n",
      "donde $Cte$ es una constante global de normalizaci\u00f3n. $\\mu_{eff}=\\sqrt{3\\mu_a(\\mu_a+\\mu_s')}$ es el coeficiente de extinci\u00f3n efectivo de la radiaci\u00f3n al propagarse en el tejido, donde $\\mu_s'$ es el coeficiente de scattering reducido, y $\\mu_a$ es el coeficiente de absorci\u00f3n (todos en cm$^{-1}$). $D = 1/(3(\\mu_a + \\mu_s'))$ es el coeficiente de difusi\u00f3n. $z_0=1/(\\mu_a+\\mu_s')$ es la longitud de penetraci\u00f3n de la radiaci\u00f3n en el tejido, que es considerada en el modelo de difusi\u00f3n como la distancia en el interior del tejido a la cual se situa la fuente de luz. Sabiendo que la distancia entre las fibras de iluminaci\u00f3n y detecci\u00f3n es $r$ (en cm), las distancias entre el detector y las dos fuentes, la que se coloca en el interior del tejido y la imaginaria negativa que se coloca fuera para ajustar la condici\u00f3n de contorno y extender el problema a un medio infinito, son:\n",
      "\n",
      "$$\\rho_1=\\sqrt{z_0^2 + r^2},$$\n",
      "$$\\rho_2 = \\sqrt{ \\left(z_0 + 4 A D \\right)^2 + r^2 }.$$\n",
      "\n",
      "$A$ est\u00e1 relacionado con el cambio de \u00edndice de refracci\u00f3n en la frontera, entre el tejido y el medio externo: $A = (1 + R_{eff})/(1 - R_{eff})$, con $R_{eff} = - 1.440 / n_r^2 + 0.71 / n_r + 0.668 + 0.0636 n_r  $, siendo $n_r$ el \u00edndice de refracci\u00f3n del tejido normalizado por el \u00edndice del medio externo. $T_{epi}$ es la transmitancia de la epidermis que tiene en cuenta la absorci\u00f3n de la melanina\n",
      "\n",
      "$$T_{epi} = e^{ - Mel \\; \\mu_{a \\; mel} \\;  L_{epi} }$$  \n",
      "\n",
      "\n",
      "donde $Mel$ es el contenido de melanina en la epidermis, $L_{epi}=0.006*2$ cm es el camino recorrido por la luz en la epidermis al entrar y salir de ella (considerando 60 $\\mu$m de epidermis), y por \u00faltimo $\\mu_{a \\; mel}$ es el coeficiente de absorci\u00f3n de la melanina (en  cm$^{-1}$):\n",
      "\n",
      "$$ \\mu_{a \\; mel} (cm^{-1})= \\frac{6.6 \\times 10^{11}} { [\\lambda(nm)]^{3.33}}$$ \n",
      "\n",
      "El coeficiente de scattering reducido $\\mu_{s}' = a (\\mu_{s \\; Mie}' + \\mu_{s \\; Ray.}')$ es una combinaci\u00f3n de scattering Mie y \n",
      "Rayleigh (en cm$^{-1}$):\n",
      "\n",
      "$$ \\mu_{s \\; Mie}' (cm^{-1}) = 4.59 \\times 10^3 \\; [\\lambda(nm)]^{-0.913}$$\n",
      "$$ \\mu_{s \\; Ray.}' (cm^{-1})= 1.74 \\times 10^{12} \\; [\\lambda(nm)]^{-4}$$\n",
      "\n",
      "mientras que $a$ es una constante que var\u00eda la amplitud del scattering. \n",
      "\n",
      "El coeficiente de absorci\u00f3n (en cm$^{-1}$) es debido principalmente a la hemoglobina y en menor media al agua:\n",
      "\n",
      "$$\\mu_a  = B \\; \\left( S \\; \\mu_{a \\; oxi} + ( 1 - S ) \\; \\mu_{a \\; desoxi}  \\right) + W \\; \\mu_{a \\; water}$$ \n",
      "\n",
      "donde $B$ es la fracci\u00f3n de volumen de la sangre en el tejido, $S$ es el grado de oxigenaci\u00f3n de la sangre, $\\mu_{a \\; oxi}$ y $\\mu_{a \\; desoxi}$ son los coeficientes de absorci\u00f3n de la oxyhemoglobina y desoxyhemoglobina en la sangre, respectivamente,  $W$ es la fracci\u00f3n de volumen de agua en el tejido y $\\mu_{a \\; water}$ el coeficiente de absorci\u00f3n del agua.\n",
      "\n",
      "    \n",
      "En la siguiente celda de c\u00f3digo vamos a representar en escala semilogar\u00edtmica los coeficientes de absorci\u00f3n (hemoglobina, agua y melanina) y de scattering (Mie y Rayleigh) empleados."
     ]
    },
    {
     "cell_type": "code",
     "collapsed": false,
     "input": [
      "# NO TOCAR, SOLO EJECUTAR\n",
      "\n",
      "# Reduced scattering coefficients Mie and Rayleigh, cm^-1\n",
      "Mie = 4.59e3*lambdaRefDif**-0.913\n",
      "Ray = 1.74e12*lambdaRefDif**-4\n",
      "# Absorption coefficient of interior of melanosome, cm^-1  \n",
      "muamel = 6.6e11*lambdaRefDif**-3.33 \n",
      "# Absorption coefficient of hemoglobin and water, cm^-1 \n",
      "datos = loadtxt('oxihemoglobina450-800nm.DAT')\n",
      "muaoxy = datos[:,1];\n",
      "datos = loadtxt('hemoglobina450-800nm.DAT')\n",
      "muadeoxy = datos[:,1]\n",
      "datos = loadtxt('agua450-800nm.DAT')\n",
      "muawater = datos[:,1]\n",
      "fig = figure(figsize=(13,6))\n",
      "semilogy(lambdaRefDif,Mie,'c',label='$\\mu_{s \\; Mie}^{\\prime}$')\n",
      "semilogy(lambdaRefDif,Ray,'y',label='$\\mu_{s \\; Ray.}^{\\prime}$')\n",
      "semilogy(lambdaRefDif,muamel,'k',label='$\\mu_{a \\; mel}$')\n",
      "semilogy(lambdaRefDif,muaoxy,'r',label='$\\mu_{a \\; oxy}$')\n",
      "semilogy(lambdaRefDif,muadeoxy,'g',label='$\\mu_{a \\; deoxy}$')\n",
      "semilogy(lambdaRefDif,muawater,'b',label='$\\mu_{a \\; water}$')\n",
      "xlabel('$\\lambda$ (nm)')\n",
      "ylabel('Coeficientes de scatering y absorcion (cm$^{-1}$)')\n",
      "legend(loc='lower left')"
     ],
     "language": "python",
     "metadata": {},
     "outputs": []
    },
    {
     "cell_type": "markdown",
     "metadata": {},
     "source": [
      "Para realizar el ajuste de la curva experimental a la funci\u00f3n te\u00f3rica de la reflectancia difusa deducida a partir de la ecuaci\u00f3n de difusi\u00f3n necesitamos definir en la siguiente celda de c\u00f3digo el valor de varios par\u00e1metros: \n",
      "\n",
      " - **r**:  distancia (cm) entre la  fibra que ilumina y la fibra que recoge la luz difundida en el medio (comprobar el tama\u00f1o de las fibras que contiene la sonda)\n",
      " \n",
      " - **W**:  fracci\u00f3n de volumen de agua en los tejidos. El valor t\u00edpico del contenido de agua en los tejidos es de 0.65\n",
      "\n",
      " - **n_r**:  \u00edndice de refracci\u00f3n del tejido / \u00edndice del medio externo. El \u00edndice del tejido puede ser 1.4.\n",
      " \n",
      "El resto de par\u00e1metros: **B**, **S**, **Mel**, **a**, y **Cte** son usados como par\u00e1metros de ajuste, es decir, el ajuste de los datos experimentales a la funci\u00f3n te\u00f3rica se realizar\u00e1 variando dichos par\u00e1metros hasta conseguir que la curva te\u00f3rica se aproxime lo m\u00e1ximo posible a la curva experimental. As\u00ed obtendremos los valores finales de dichos par\u00e1metros. Para comenzar el ajuste necesitamos definir los valores iniciales de los par\u00e1metros de ajuste:\n",
      "\n",
      " - **B**:  fracci\u00f3n de volumen de sangre en el tejido. El rango de valores suele ser entre 0.001 (0.1%) y 0.07 (7%).\n",
      " \n",
      " - **S**:  grado de oxigenaci\u00f3n. Fracci\u00f3n de sangre oxigenada respecto del total. Valor entre 0 y 1.\n",
      "\n",
      " - **Mel**:  contenido de melanina en la epidermis. Es una fracci\u00f3n de volumen, el rango t\u00edpico puede ir desde 0.01 (1%) en pieles claras hasta m\u00e1s de 0.2 (20%) en pieles oscuras.\n",
      "\n",
      " - **a**: constante que var\u00eda la amplitud total del scattering. Vamos a empezar con un valor de 1.\n",
      "  \n",
      " - **Cte**: constante global de la reflectancia difusa te\u00f3rica. Vamos a empezar con un valor de 0.1.\n",
      " \n",
      "----------\n",
      " \n",
      "Sabiendo que el grado de oxigenaci\u00f3n de la sangre viene determinado fundamentalmente por la profundidad de los picos de absorci\u00f3n en torno a  542 nm y 576 nm, nos limitaremos a ajustar la parte central del espectro para obtener el grado de oxigenaci\u00f3n de la sangre. En la siguiente celda definimos por tanto nuevas variables seleccionando de las anteriores los valores correspondientes a este rango (510-610nm), y que se identifican por el sufijo `_ajuste`. **Ser\u00e1n por tanto estas variables las que tengamos que introducir en la funci\u00f3n `curve_fit` a la hora de realizar el ajuste**.\n",
      " "
     ]
    },
    {
     "cell_type": "code",
     "collapsed": false,
     "input": [
      "# MODIFICAR CELDA Y EJECUTAR\n",
      "\n",
      "r = 0.04    # cm, separaci\u00f3n fuente- detector de fibra\n",
      "W = 0.65  #  Contenido en agua del t\u00e9jido\n",
      "n_r = 1.4    # \u00edndice de refracci\u00f3n del tejido dividido por el del medio externo\n",
      "\n",
      "# Valores iniciales de los par\u00e1meteros\n",
      "B_ini = 0.01    # Fracci\u00f3n de volumen en sangre\n",
      "S_ini = 0.5      # Grado de oxigenaci\u00f3n \n",
      "Mel_ini = 0.05     # Contenido de melanina en la epidermis\n",
      "a_ini = 1.0  # Constante que escala la amplitud total del scattering del t\u00e9jido.\n",
      "Cte_ini = 0.1   # Constante global de la reflectancia difusa te\u00f3rica\n",
      "\n",
      "params_ini = [B_ini,S_ini,Mel_ini,a_ini,Cte_ini]\n",
      "\n",
      "# Datos experimentales y variables auxiliares para ajustar\n",
      "nini = 60\n",
      "nfin = 190\n",
      "lambda_ajuste = lambdaRefDif[nini:-nfin]\n",
      "RefDif_ajuste = RefDif[nini:-nfin]\n",
      "muaoxy_ajuste = muaoxy[nini:-nfin]\n",
      "muadeoxy_ajuste = muadeoxy[nini:-nfin]\n",
      "muawater_ajuste = muawater[nini:-nfin]\n",
      "muamel_ajuste = muamel[nini:-nfin]\n",
      "Mie_ajuste = Mie[nini:-nfin]\n",
      "Ray_ajuste = Ray[nini:-nfin]"
     ],
     "language": "python",
     "metadata": {},
     "outputs": []
    },
    {
     "cell_type": "markdown",
     "metadata": {},
     "source": [
      "En la siguiente celda definimos la funci\u00f3n modelo que reproduce la expresi\u00f3n \n",
      "\n",
      "$$ R_d =  Cte \\; T_{epi} \\;  \\left[ \n",
      "\\frac{ z_0 \\left( 1+ \\mu_{eff} \\rho_1  \\right)}{4 \\pi \\rho_1^3} e^{-\\mu_{eff}\\rho_1} \n",
      "+ \\frac{  \\left( z_0 + 4 A D  \\right) \\left(1 + \\mu_{eff} \\rho_2 \\right) }{4 \\pi \\rho_2^3}  e^{-\\mu_{eff} \\rho_2} \\right] $$\n",
      "\n",
      "Debido a que es algo m\u00e1s compleja que otras utilizadas en las pr\u00e1cticas, esta funci\u00f3n se proporciona, y tendr\u00e1 que ser utilizada en el ajuste con su nombre: `funcion_modelo`. Tambi\u00e9n se importa la funci\u00f3n `curve_fit` para poder ser utilizada en la resoluci\u00f3n del Ejercicio 5."
     ]
    },
    {
     "cell_type": "code",
     "collapsed": false,
     "input": [
      "# NO TOCAR, SOLO EJECUTAR\n",
      "\n",
      "Lepi = 0.0060*2 # cm, distancia recorrida por la luz dentro de la epidermis \n",
      "\n",
      "# Condici\u00f3n de frontera: reflexi\u00f3n interna (f\u00f3rmulas de Fresnel)\n",
      "R_eff = 0.668 + 0.0636*n_r + 0.710/n_r - 1.440/n_r**2; \n",
      "A = (1 + R_eff)/(1 - R_eff)\n",
      "\n",
      "def fun_modelo(lambdas,B,S,Mel,a,Cte): \n",
      "    musp = a*(Mie_ajuste + Ray_ajuste)  \n",
      "    Tepi = exp(-Mel*muamel_ajuste*Lepi) \n",
      "    mua  = B*(S*muaoxy_ajuste + (1.0-S)*muadeoxy_ajuste) + W*muawater_ajuste \n",
      "    mueff = sqrt(3*mua*(mua+musp))\n",
      "    D=1.0/(3*(mua+musp))\n",
      "    z0 = 1.0/(mua + musp)\n",
      "    r1 = sqrt(z0**2 + r**2)\n",
      "    r2 = sqrt((z0 + 4*A*D)**2 + r**2)\n",
      "    if((Mel>0.0)):\n",
      "        RD = Cte*Tepi*(((z0*(1+mueff*r1))/(4*pi*r1**3))*exp(-mueff*r1) +\n",
      "                       ((z0+4*A*D)*(1+mueff*r2)/(4*pi*r2**3))*exp(-mueff*r2))         \n",
      "    else:\n",
      "        RD = 1e7*ones(shape(lambdas))\n",
      "    return RD\n",
      "\n",
      "from scipy.optimize import curve_fit"
     ],
     "language": "python",
     "metadata": {},
     "outputs": []
    },
    {
     "cell_type": "heading",
     "level": 4,
     "metadata": {},
     "source": [
      "Ejercicio 5"
     ]
    },
    {
     "cell_type": "markdown",
     "metadata": {},
     "source": [
      "**Ajuste de los datos medidos al modelo te\u00f3rico**\n",
      "\n",
      "En la celda anterior hemos definido la funci\u00f3n modelo de la reflectancia difusa (`fun_modelo`). Tambi\u00e9n hemos cargado la funci\u00f3n de ajuste `curve_fit`. Utilizando los par\u00e1metros iniciales introducidos anteriormente, crea una nueva celda de c\u00f3digo en donde, \n",
      "\n",
      "* Realizar el ajuste de los datos experimentales utilizando esta funci\u00f3n modelo (Nota: utilizar para ajustar las variables `lambda_ajuste` y `RefDif_ajuste`). \n",
      "\n",
      "* Mostrar los valores de los par\u00e1metros \u00f3ptimos.\n",
      "\n",
      "* Mostrar en una gr\u00e1fica el modelo te\u00f3rico superpuesto a los datos experimentales"
     ]
    },
    {
     "cell_type": "heading",
     "level": 4,
     "metadata": {},
     "source": [
      "Ejercicio 6"
     ]
    },
    {
     "cell_type": "markdown",
     "metadata": {},
     "source": [
      "**An\u00e1lisis del ajuste**\n",
      "\n",
      "\u00bfSon razonables los valores de los par\u00e1metros de ajuste obtenidos? comentar los resultados. "
     ]
    },
    {
     "cell_type": "heading",
     "level": 3,
     "metadata": {},
     "source": [
      "T2.2. Espectro de reflectancia difusa y grado de oxigenaci\u00f3n de la sangre"
     ]
    },
    {
     "cell_type": "markdown",
     "metadata": {},
     "source": [
      "Para analizar la influencia del grado de oxigenaci\u00f3n de la sangre (par\u00e1metro **S**) en la reflectancia difusa vamos a representar la funci\u00f3n te\u00f3rica de la reflectancia difusa **Rd** empleando los par\u00e1metros del ajuste anterior junto con otra curva en la cual podemos cambiar el valor de **S** din\u00e1micamente."
     ]
    },
    {
     "cell_type": "code",
     "collapsed": false,
     "input": [
      "from IPython.html.widgets import interact,fixed\n",
      "\n",
      "def fun_modelo_total(lambdas,B,S,Mel,a,Cte):   \n",
      "    musp = a*(Mie + Ray)  \n",
      "    Tepi = exp(-Mel*muamel*Lepi) \n",
      "    mua  = B*(S*muaoxy + (1.0-S)*muadeoxy) + W*muawater \n",
      "    mueff = sqrt(3*mua*(mua+musp))\n",
      "    D=1.0/(3*(mua+musp))\n",
      "    z0 = 1.0/(mua + musp)\n",
      "    r1 = sqrt(z0**2 + r**2)\n",
      "    r2 = sqrt((z0 + 4*A*D)**2 + r**2)\n",
      "    RD = Cte*Tepi*(((z0*(1+mueff*r1))/(4*pi*r1**3))*exp(-mueff*r1) +\n",
      "                   ((z0+4*A*D)*(1+mueff*r2)/(4*pi*r2**3))*exp(-mueff*r2))\n",
      "    return RD\n",
      "\n",
      "def ajuste_manual(lambdas,B,S,Mel,a,Cte):\n",
      "    RD_orig = fun_modelo_total(lambdas,B_opt,S_opt,Mel_opt,a_opt,Cte_opt)\n",
      "    RD_nuevo = fun_modelo_total(lambdas,B,S,Mel,a,Cte)\n",
      "    plot(lambdas,RD_orig,color='blue',linewidth=2,label='S original');\n",
      "    plot(lambdas,RD_nuevo,color='r',linewidth=2,label='S nuevo');\n",
      "    legend(loc=1)\n",
      "\n",
      "interact(ajuste_manual,lambdas=fixed(lambdaRefDif),\n",
      "         B=fixed(B_opt),S=(0.2,1,0.05),Mel=fixed(Mel_opt),\n",
      "         a=fixed(a_opt),Cte=fixed(Cte_opt));"
     ],
     "language": "python",
     "metadata": {},
     "outputs": []
    },
    {
     "cell_type": "heading",
     "level": 4,
     "metadata": {},
     "source": [
      "Ejercicio 7"
     ]
    },
    {
     "cell_type": "markdown",
     "metadata": {},
     "source": [
      "**Interpretar el resultado a la vista de la gr\u00e1fica**. Escribir en esta celda la respuesta.\n"
     ]
    },
    {
     "cell_type": "heading",
     "level": 3,
     "metadata": {},
     "source": [
      "T2.3. Espectro de reflectancia difusa y amplitud del scattering"
     ]
    },
    {
     "cell_type": "markdown",
     "metadata": {},
     "source": [
      "Para analizar la influencia de la constante que var\u00eda la amplitud total del scattering (par\u00e1metro **a**) en la reflectancia difusa vamos a representar la funci\u00f3n te\u00f3rica de la reflectancia difusa **Rd** empleando los par\u00e1metros del ajuste junto con otra curva en la cual cambiamos el valor de **a** din\u00e1micamente."
     ]
    },
    {
     "cell_type": "code",
     "collapsed": false,
     "input": [
      "from IPython.html.widgets import interact,fixed\n",
      "\n",
      "def fun_modelo_total(lambdas,B,S,Mel,a,Cte):   \n",
      "    musp = a*(Mie + Ray)  \n",
      "    Tepi = exp(-Mel*muamel*Lepi) \n",
      "    mua  = B*(S*muaoxy + (1.0-S)*muadeoxy) + W*muawater \n",
      "    mueff = sqrt(3*mua*(mua+musp))\n",
      "    D=1.0/(3*(mua+musp))\n",
      "    z0 = 1.0/(mua + musp)\n",
      "    r1 = sqrt(z0**2 + r**2)\n",
      "    r2 = sqrt((z0 + 4*A*D)**2 + r**2)\n",
      "    RD = Cte*Tepi*(((z0*(1+mueff*r1))/(4*pi*r1**3))*exp(-mueff*r1) +\n",
      "                   ((z0+4*A*D)*(1+mueff*r2)/(4*pi*r2**3))*exp(-mueff*r2))\n",
      "    return RD\n",
      "\n",
      "def ajuste_manual(lambdas,B,S,Mel,a,Cte):\n",
      "    RD_orig = fun_modelo_total(lambdas,B_opt,S_opt,Mel_opt,a_opt,Cte_opt)\n",
      "    RD_nuevo = fun_modelo_total(lambdas,B,S,Mel,a,Cte)\n",
      "    plot(lambdas,RD_orig,color='blue',linewidth=2,label='a original');\n",
      "    plot(lambdas,RD_nuevo,color='r',linewidth=2,label='a nuevo');\n",
      "    legend(loc=1)\n",
      "\n",
      "interact(ajuste_manual,lambdas=fixed(lambdaRefDif),\n",
      "         B=fixed(B_opt),S=fixed(S_opt),Mel=fixed(Mel_opt),\n",
      "         a=(0.4,1.2,0.1),Cte=fixed(Cte_opt));"
     ],
     "language": "python",
     "metadata": {},
     "outputs": []
    },
    {
     "cell_type": "heading",
     "level": 4,
     "metadata": {},
     "source": [
      "Ejercicio 8"
     ]
    },
    {
     "cell_type": "markdown",
     "metadata": {},
     "source": [
      "**Interpretar el resultado a la vista de la gr\u00e1fica**. Escribir en esta celda la respuesta."
     ]
    },
    {
     "cell_type": "heading",
     "level": 3,
     "metadata": {},
     "source": [
      "T2.4. Espectro de reflectancia difusa y contenido de melanina"
     ]
    },
    {
     "cell_type": "markdown",
     "metadata": {},
     "source": [
      "Para analizar la influencia del contenido de melanina en la epidermis (par\u00e1metro **Mel**) en la reflectancia difusa vamos a representar la funci\u00f3n te\u00f3rica de la reflectancia difusa **Rd** empleando los par\u00e1metros del ajuste junto con otra curva en la cual cambiamos el valor de **Mel** din\u00e1micamente.\n"
     ]
    },
    {
     "cell_type": "code",
     "collapsed": false,
     "input": [
      "from IPython.html.widgets import interact,fixed\n",
      "\n",
      "def fun_modelo_total(lambdas,B,S,Mel,a,Cte):   \n",
      "    musp = a*(Mie + Ray)  \n",
      "    Tepi = exp(-Mel*muamel*Lepi) \n",
      "    mua  = B*(S*muaoxy + (1.0-S)*muadeoxy) + W*muawater \n",
      "    mueff = sqrt(3*mua*(mua+musp))\n",
      "    D=1.0/(3*(mua+musp))\n",
      "    z0 = 1.0/(mua + musp)\n",
      "    r1 = sqrt(z0**2 + r**2)\n",
      "    r2 = sqrt((z0 + 4*A*D)**2 + r**2)\n",
      "    RD = Cte*Tepi*(((z0*(1+mueff*r1))/(4*pi*r1**3))*exp(-mueff*r1) + \n",
      "                   ((z0+4*A*D)*(1+mueff*r2)/(4*pi*r2**3))*exp(-mueff*r2))\n",
      "    return RD\n",
      "\n",
      "def ajuste_manual(lambdas,B,S,Mel,a,Cte):\n",
      "    RD_orig = fun_modelo_total(lambdas,B_opt,S_opt,Mel_opt,a_opt,Cte_opt)\n",
      "    RD_nuevo = fun_modelo_total(lambdas,B,S,Mel,a,Cte)\n",
      "    plot(lambdas,RD_orig,color='blue',linewidth=2,label='Mel original');\n",
      "    plot(lambdas,RD_nuevo,color='r',linewidth=2,label='Mel nuevo');\n",
      "    legend(loc=1)\n",
      "\n",
      "interact(ajuste_manual,lambdas=fixed(lambdaRefDif),\n",
      "         B=fixed(B_opt),S=fixed(S_opt),Mel=(0.01,0.2,0.02),\n",
      "         a=fixed(a_opt),Cte=fixed(Cte_opt));"
     ],
     "language": "python",
     "metadata": {},
     "outputs": []
    },
    {
     "cell_type": "heading",
     "level": 4,
     "metadata": {},
     "source": [
      "Ejercicio 9"
     ]
    },
    {
     "cell_type": "markdown",
     "metadata": {},
     "source": [
      "**Interpretar el resultado a la vista de la gr\u00e1fica**. Escribir en esta celda la respuesta."
     ]
    },
    {
     "cell_type": "markdown",
     "metadata": {},
     "source": [
      "---------"
     ]
    }
   ],
   "metadata": {}
  }
 ]
}