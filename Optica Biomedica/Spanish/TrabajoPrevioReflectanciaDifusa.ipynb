{
 "cells": [
  {
   "cell_type": "markdown",
   "metadata": {
    "collapsed": false
   },
   "source": [
    "# Óptica Biomédica. Trabajo previo Práctica 3"
   ]
  },
  {
   "cell_type": "markdown",
   "metadata": {
    "collapsed": false
   },
   "source": [
    "NOMBRE Y APELLIDOS:\n",
    "\n",
    "FECHA DE ENTREGA:\n",
    "\n",
    "Modificar esta celda incluyendo la información solicitada"
   ]
  },
  {
   "cell_type": "markdown",
   "metadata": {
    "collapsed": false
   },
   "source": [
    "---\n",
    "\n",
    "Ejecutar la siguiente celda para cargar el módulo de cálculo científico (`%pylab inline`).\n"
   ]
  },
  {
   "cell_type": "code",
   "execution_count": 1,
   "metadata": {
    "collapsed": false
   },
   "outputs": [
    {
     "name": "stdout",
     "output_type": "stream",
     "stream": "stdout",
     "text": [
      "Populating the interactive namespace from numpy and matplotlib\n"
     ]
    }
   ],
   "source": [
    "%pylab inline"
   ]
  },
  {
   "cell_type": "markdown",
   "metadata": {
    "collapsed": false
   },
   "source": [
    "# Espectro de reflectancia difusa "
   ]
  },
  {
   "cell_type": "markdown",
   "metadata": {
    "collapsed": false
   },
   "source": [
    "En la espectroscopía de reflectancia difusa local se ilumina el tejido con una fibra óptica y se recoge la radiación retro-difundida con otra fibra situada a una distancia $r$ de la primera, tal como indica la figura.\n",
    "![ReflectanciaDifusa](reflectanciadifusa.png)\n",
    "\n",
    "Teniendo en cuenta la ecuación de difusión, podemos calcular la reflectancia difusa medida por la fibra de captación como:\n",
    "\n",
    "$$ R_d =  Cte \\; T_{epi} \\;  \\left[ \n",
    "\\frac{ z_0 \\left( 1+ \\mu_{eff} \\rho_1  \\right)}{4 \\pi \\rho_1^3} e^{-\\mu_{eff}\\rho_1} \n",
    "+ \\frac{  \\left( z_0 + 4 A D  \\right) \\left(1 + \\mu_{eff} \\rho_2 \\right) }{4 \\pi \\rho_2^3}  e^{-\\mu_{eff} \\rho_2} \\right] $$\n",
    "\n",
    "donde $Cte$ es una constante global de normalización. $\\mu_{eff}=\\sqrt{3\\mu_a(\\mu_a+\\mu_s')}$ es el coeficiente de extinción efectivo de la radiación al propagarse en el tejido, donde $\\mu_s'$ es el coeficiente de scattering reducido, y $\\mu_a$ es el coeficiente de absorción (todos en cm$^{-1}$). $D = 1/(3(\\mu_a + \\mu_s'))$ es el coeficiente de difusión. $z_0=1/(\\mu_a+\\mu_s')$ es la longitud de penetración de la radiación en el tejido, que es considerada en el modelo de difusión como la distancia en el interior del tejido a la cual se situa la fuente de luz. Sabiendo que la distancia entre las fibras de iluminación y detección es $r$ (en cm), las distancias entre el detector y las dos fuentes, la que se coloca en el interior del tejido (a una distancia $z_0$ de la frontera) y la imaginaria negativa que se coloca fuera (a una distancia $z_0 + 4D$ de la superficie) para ajustar la condición de contorno y extender el problema a un medio infinito, son:\n",
    "\n",
    "$$\\rho_1=\\sqrt{z_0^2 + r^2},$$\n",
    "$$\\rho_2 = \\sqrt{ \\left(z_0 + 4 A D \\right)^2 + r^2 }.$$\n",
    "\n",
    "$A$ está relacionado con el cambio de índice de refracción en la frontera, entre el tejido y el medio externo: $A = (1 + R_{eff})/(1 - R_{eff})$, con $R_{eff} = - 1.440 / n_r^2 + 0.71 / n_r + 0.668 + 0.0636 n_r  $, siendo $n_r$ el índice de refracción del tejido normalizado por el índice del medio externo. $T_{epi}$ es la transmitancia de la epidermis que tiene en cuenta la absorción de la melanina\n",
    "\n",
    "$$T_{epi} = e^{ - Mel \\; \\mu_{a \\; mel} \\;  L_{epi} }$$  \n",
    "\n",
    "\n",
    "donde $Mel$ es el contenido de melanina en la epidermis, $L_{epi}=0.006*2$ cm es el camino recorrido por la luz en la epidermis al entrar y salir de ella (considerando 60 $\\mu$m de epidermis), y por último $\\mu_{a \\; mel}$ es el coeficiente de absorción de la melanina (en  cm$^{-1}$):\n",
    "\n",
    "$$ \\mu_{a \\; mel} (cm^{-1})= \\frac{6.6 \\times 10^{11}} { [\\lambda(nm)]^{3.33}}$$ \n",
    "\n",
    "El coeficiente de scattering reducido $\\mu_{s}' = a (\\mu_{s \\; Mie}' + \\mu_{s \\; Ray.}')$ es una combinación de scattering Mie y \n",
    "Rayleigh (en cm$^{-1}$):\n",
    "\n",
    "$$ \\mu_{s \\; Mie}' (cm^{-1}) = 4.59 \\times 10^3 \\; [\\lambda(nm)]^{-0.913}$$\n",
    "$$ \\mu_{s \\; Ray.}' (cm^{-1})= 1.74 \\times 10^{12} \\; [\\lambda(nm)]^{-4}$$\n",
    "\n",
    "mientras que $a$ es una constante que varía la amplitud del scattering. \n",
    "\n",
    "El coeficiente de absorción (en cm$^{-1}$) es debido principalmente a la hemoglobina y en menor media al agua ya que mediremos en el visible:\n",
    "\n",
    "$$\\mu_a  = B \\; \\left( S \\; \\mu_{a \\; oxi} + ( 1 - S ) \\; \\mu_{a \\; desoxi}  \\right) + W \\; \\mu_{a \\; water}$$ \n",
    "\n",
    "donde $B$ es la fracción de volumen de la sangre en el tejido, $S$ es el grado de oxigenación de la sangre, $\\mu_{a \\; oxi}$ y $\\mu_{a \\; desoxi}$ son los coeficientes de absorción de la oxyhemoglobina y desoxyhemoglobina en la sangre, respectivamente,  $W$ es la fracción de volumen de agua en el tejido y $\\mu_{a \\; water}$ el coeficiente de absorción del agua."
   ]
  },
  {
   "cell_type": "markdown",
   "metadata": {
    "collapsed": false
   },
   "source": [
    "**Ejercicio 1**\n",
    "\n",
    "**Representar el espectro del coeficiente de absorción de la hemoglobina, la oxihemoglobina y el agua en el rango de 450 a 800 nm. Los ficheros de datos se llaman: agua450-800nm.DAT, hemoglobina450-800nm.DAT y oxihemoglobina450-800nm.DAT y están cargados en este mismo directorio. Estos ficheros tienen dos columnas: en la primera está la longitud de onda en nanómetros, y en la segunda, el coeficiente de absorción en cm-1. Comentar la región espectral donde se producen los máximos de absorción en cada caso.**\n"
   ]
  },
  {
   "cell_type": "markdown",
   "metadata": {
    "collapsed": false
   },
   "source": [
    "**Ejercicio 2**\n",
    "\n",
    "**Representar el espectro del coeficiente de absorción de la melanina en el rango entre 450 y 800 nm.  Comentar cuál es la región de máxima absorción.**\n",
    "\n",
    "$$ \\mu_{a \\; mel} (cm^{-1})= \\frac{6.6 \\times 10^{11}} { [\\lambda(nm)]^{3.33}}$$ "
   ]
  },
  {
   "cell_type": "markdown",
   "metadata": {
    "collapsed": false
   },
   "source": [
    "**Ejercicio 3**\n",
    "\n",
    "**Representar el espectro del coeficiente de scattering reducido $\\mu_{s}' = a (\\mu_{s \\; Mie}' + \\mu_{s \\; Ray.}')$ considerando a =1 en el rango entre 450 y 800 nm. Representar en la misma gráfica la contribución del scattering Mie y del scattering Rayleigh. Comentar cuál es la región donde se produce mayor scattering y donde domina cada una de las contribuciones (Mie y Rayleigh)**\n",
    "\n",
    "$$ \\mu_{s \\; Mie}' (cm^{-1}) = \\frac{ 4.59 \\times 10^3}{ [\\lambda(nm)]^{0.913}}$$\n",
    "$$ \\mu_{s \\; Ray.}' (cm^{-1})= \\frac{1.74 \\times 10^{12}}{[\\lambda(nm)]^{4}}$$\n"
   ]
  },
  {
   "cell_type": "markdown",
   "metadata": {
    "collapsed": false
   },
   "source": [
    "A continuación vamos a representar la función teórica que calcula la reflectancia difusa $R_d$ dada más arriba. Para ello vamos a utilizar los siguientes valores de los parámetros: \n",
    "\n",
    " - **r**:  distancia entre la  fibra que ilumina y la fibra que recoge la luz difundida en el medio. Consideramos 400 micras=0.04cm\n",
    " \n",
    " - **W**:  fracción de volumen de agua en los tejidos. El valor típico del contenido de agua en los tejidos es de 0.65\n",
    "\n",
    " - **n_r**:  índice de refracción del tejido / índice del medio externo. Considerar que el índice del tejido es 1.4.\n",
    " \n",
    " \n",
    "El resto de parámetros: **B**, **S**, **Mel**, **a**, y **Cte** se utilizarán en la práctica como parámetros de ajuste, es decir, el ajuste de la función teórica a los datos experimentales se realizará variando dichos parámetros hasta conseguir que la curva teórica se aproxime lo máximo posible a la curva experimental. Así obtendremos los valores finales de dichos parámetros. Antes de realizar la práctica vamos a representar la función reflectancia difusa $R_d$ teórica para unos valores de los parámetros razonables. \n",
    "\n",
    " - **Cte**: constante global de la reflectancia difusa teórica. Vamos a considerarla 0.01.  \n",
    " \n",
    " - **a**: constante que varía la amplitud total del scattering. Vamos a considerar un valor 1.\n",
    "\n",
    "\n"
   ]
  },
  {
   "cell_type": "markdown",
   "metadata": {
    "collapsed": false
   },
   "source": [
    "**Ejercicio 5**\n",
    "\n",
    "**Leer el artículo \"Rapid and accurate estimation of blood saturation, melanin content, and epidermis thickness from spectral diffuse reflectance\", Dmitry Yudovsky and Laurent Pilon, Applied Optics vol. 49, pags. 1707-1719. que podéis encontrar en este directorio. Anotar junto a cada uno de los siguientes parámetros cuál es el rango de valores que pueden tomar (ver Tabla 1 del artículo).**\n",
    "\n",
    " - **B**:  fracción de volumen de sangre en el tejido. Rango de valores\n",
    " \n",
    " - **S**:  grado de oxigenación. Fracción de sangre oxigenada respecto del total. Rango de valores\n",
    "\n",
    " - **Mel**:  contenido de melanina en la epidermis. Rango de valores\n"
   ]
  },
  {
   "cell_type": "markdown",
   "metadata": {
    "collapsed": false
   },
   "source": [
    "**Ejercicio 6**\n",
    "\n",
    "**Representar la función reflectancia difusa para valores razonables de los parámetros.**"
   ]
  },
  {
   "cell_type": "code",
   "execution_count": 30,
   "metadata": {
    "collapsed": false
   },
   "outputs": [
   ],
   "source": [
    "# MODIFICAR CELDA Y EJECUTAR\n",
    "r = 0.04         # cm, separación fibra fuente-fibra detector\n",
    "W = 0.65         # Contenido en agua del téjido\n",
    "n_r = 1.4        # índice de refracción del tejido dividido por el del medio externo\n",
    "Cte = 0.01       # Constante global de la reflectancia difusa teórica\n",
    "a= 1             # Constante que escala la amplitud total del scattering del tejido.\n",
    "Lepi =0.006*2    # cm, longitud de la epidermis\n",
    "\n",
    "B =     # Fracción de volumen en sangre\n",
    "S =       # Grado de oxigenación \n",
    "Mel =     # Contenido de melanina en la epidermis\n",
    "\n",
    "\n",
    "R_eff = - 1.440/n_r**2 + 0.710/n_r + 0.668 + 0.0636*n_r   \n",
    "A = (1 + R_eff)/(1 - R_eff)\n",
    "Tepi = exp(-Mel*muamel*Lepi) \n",
    "mua  = B*(S*muaoxy + (1-S)*muadeoxy) + W*muawater \n",
    "mueff = sqrt(3*mua*(mua+musp))\n",
    "D=1/(3*(mua+musp))\n",
    "z0 = 1.0/(mua + musp)\n",
    "r1 = sqrt(z0**2 + r**2)\n",
    "r2 = sqrt((z0 + 4*A*D)**2 + r**2)\n",
    "RD = Cte*Tepi*(((z0*(1+mueff*r1))/(4*pi*r1**3))*exp(-mueff*r1) + \n",
    "               ((z0+4*A*D)*(1+mueff*r2)/(4*pi*r2**3))*exp(-mueff*r2)) "
   ]
  },
  {
   "cell_type": "markdown",
   "metadata": {
    "collapsed": false
   },
   "source": [
    "**Ejercicio 7**\n",
    "\n",
    "**Describir que rasgo característico de este curva podrías asociar con la presencia de sangre oxigenada.**"
   ]
  }
 ],
 "metadata": {
  "kernelspec": {
   "display_name": "SageMath (stable)",
   "name": "sagemath"
  },
  "language_info": {
   "codemirror_mode": {
    "name": "ipython",
    "version": 2
   },
   "file_extension": ".py",
   "mimetype": "text/x-python",
   "name": "python",
   "nbconvert_exporter": "python",
   "pygments_lexer": "ipython2",
   "version": "2.7.14"
  },
  "name": "",
  "signature": "sha256:ac25d5684caceb35fa6411f9df411a5606411715cd6533de00918fcb988ad325"
 },
 "nbformat": 4,
 "nbformat_minor": 0
}