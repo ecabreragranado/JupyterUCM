{
 "cells": [
  {
   "cell_type": "markdown",
   "metadata": {
    "collapsed": false
   },
   "source": [
    "# 1. Objective of the practice\n",
    "\n",
    "The objectives of this practice are the following:\n",
    "\n",
    "* Observation and interpretation of the interferential diagram produced by a Fresnel biprism.\n",
    "\n",
    "* Determination of the wavelength of the laser source used."
   ]
  },
  {
   "cell_type": "markdown",
   "metadata": {
    "collapsed": false
   },
   "source": [
    "# 2. Theoretical basis\n",
    "\n",
    "Consider the system of two slits separated by a distance $ a $ from the following figure, which are illuminated by light from an almost point source $ S $ of monochromatic radiation of wavelength $ \\lambda $. At a certain distance $ D $, such that $ D >> a $, from the plane containing the double slit, a screen is placed on which observations are made.\n",
    "The electric field at the point $ P_h $ of the screen will be given by the coherent superposition of the waves from both slits.\n",
    "\n",
    "$$ E_p (x) = E_1 + E_2 = \\frac {E_0} {r_1} e ^ {i (\\omega t -kr_1)} + \\frac {E_0} {r_2} e ^ {i (\\omega t -kr_2 )} $$\n",
    "\n",
    "The irradiance distribution that is observed at a point $ P_h $ on the screen will be given by the following expression. Visually on the screen you will see something similar to what is shown in the following figure.\n",
    "\n",
    "$$ I_P (x) \\propto | E_0 | ^ 2 \\left [\\frac {1} {r_1 ^ 2} + \\frac {1} {r_2 ^ 2} + \\frac {1} {r_1r_2} \\cos k \\left (r_2-r_1 \\right) \\right] $$"
   ]
  },
  {
   "cell_type": "markdown",
   "metadata": {
    "collapsed": false
   },
   "source": [
    "The third term in the previous equation is the one that modulates the irradiance on the screen. So at a point $ P_h $ of the\n",
    "screen there will be a maximum irradiance if the following condition is verified.\n",
    " \n",
    "$$ k · \\frac {a · x} {D} = 1 $$\n",
    "\n",
    "this is,\n",
    "\n",
    "$$ \\frac {kax} {D} = 2m \\pi, \\, \\, \\, \\, \\, \\, \\, \\, \\mathrm {where} \\, \\, \\, \\, \\, \\, \\, \\, m = 0, \\, \\pm 1, \\, \\pm 2 ..., $$\n",
    "\n",
    "The maximums occur in the points:\n",
    "\n",
    "$$ x = m \\frac {\\lambda D} {a} $$\n",
    "\n",
    "and they are a succession of stripes parallel to the axis $ Z $ and equidistant. The distance between two maximums or minimums of interference, $ Int $, is called ** interstripe ** and its value is given by the following expression.\n",
    "\n",
    "$$ Int = \\frac {\\lambda D} {a} $$\n",
    "\n",
    "# 3. Fresnel biprism\n",
    "\n",
    "There are different devices that are equivalent to the two-slit system originally used by Thomas Young. Here we will consider the device called ** Fresnel biprism **, which will allow us to easily vary the separation between the slits or secondary sources.\n",
    "\n",
    "The following figure shows how the biprism produces two secondary sources of radiation equivalent to the two slits of the Young device described above. The light that emerges from the top of the biprism does so as if it came from $ S_1 $, while the part of the beam refracted by the bottom is propagated as if it came from $ S_2 $. Therefore, to the right of the biprism we have the superposition of two spherical waves from $ S_1 $ and $ S_2 $, respectively. The plane where these virtual sources are located is equivalent to the plane of the slits in Young's experiment.\n",
    "\n",
    "![biprisma](Biprism1.jpg)\n",
    "\n",
    "# 4. Practice of measuring the emission wavelength of a He-Ne laser with the help of a Fresnel biprism.\n",
    "\n",
    "The experimental device with which we are going to work consists of a He-Ne laser, a microscope objective, a biprism and an observation screen located at the end of the optical bench. The light from the laser is incised on the microscope objective, $ OM $, whose function is to focus the beam of light and obtain an almost point source, $ S $, as shown in the figure.\n",
    "\n",
    "![biprisma2](Biprism2.jpg)"
   ]
  },
  {
   "cell_type": "markdown",
   "metadata": {
    "collapsed": false
   },
   "source": [
    "# 5. Exercises prior to the practice session\n",
    "\n",
    "Below is a simulation of the first part of the practice to be carried out in the laboratory. Our objective is to find the wavelength $ \\lambda $ of the radiation that illuminates the Fresnel Biprism using the expression already mentioned above,\n",
    "\n",
    "$$ Int = \\frac {\\lambda D} {a} \\Rightarrow \\lambda = \\frac {Int a} {D} $$\n",
    "\n",
    "To do this, we will first measure the interstripe of the interference pattern generated when we illuminate with a point source the Fresnel Biprism for a working distance $ D $. Next, we will measure the value of the separation between the virtual sources $ a $ and we will use the previous expression to obtain $ \\lambda $.\n",
    "\n",
    "------------\n",
    "\n",
    "First, a diagram of the experimental setup is presented on the left: point source, Fresnel biprism (in red) and screen where the interference stripes produced by the biprism are displayed. The distance between the source and the biprism can be modified by moving the displacer shown just above this scheme. On the right, the pattern of interference (complete and an enlarged image of 6 mm in length in the central area of ​​the pattern) is shown, and the value of the interstripe for the fixed source-biprism distance. By moving the displacer, it can be observed how the pattern and the value of the associated interstripe changes."
   ]
  },
  {
   "cell_type": "code",
   "execution_count": 6,
   "metadata": {
    "collapsed": false
   },
   "outputs": [
   ],
   "source": [
    "import warnings\n",
    "warnings.filterwarnings('ignore')\n",
    "import numpy as np\n",
    "import matplotlib.pyplot as plt\n",
    "%matplotlib inline\n",
    "plt.style.use('bmh')\n",
    "import ipywidgets as widgets\n",
    "from IPython.display import display\n",
    "import io\n",
    "import base64\n",
    "from IPython.display import clear_output\n",
    "#Datos fijos\n",
    "###################33\n",
    "D = 3\n",
    "Lambda = 6.32e-7 # longitud de onda de la radiación de 500 nm\n",
    "k = 2.0*np.pi/Lambda\n",
    "n = 1.33 # agua\n",
    "alpha = 0.7*np.pi/180\n",
    "y0 = 10\n",
    "yrepres = 14 # in mm\n",
    "###########################3\n",
    "I1 = 1 # Consideramos irradiancias normalizadas a un cierto valor.\n",
    "I2 = 1\n",
    "\n",
    "fig,ax = plt.subplots(1,1)\n",
    "ax.plot(0,0,'o',lw=2)\n",
    "ax.set_xlim(-0.1,D+0.1)\n",
    "ax.set_ylim(-yrepres*1.5,yrepres*1.5)\n",
    "ax.set_xlabel(\"x (m)\")\n",
    "ax.set_ylabel(\"y (mm)\")\n",
    "ax.set_title('Experimental set up scheme')\n",
    "line1, = ax.plot(np.linspace(-1,D,50),np.zeros(50),'k')\n",
    "buf = io.BytesIO()\n",
    "plt.savefig(buf, format='png')\n",
    "buf.seek(0)\n",
    "figwidg = widgets.HTML(\"\"\"<img src='data:image/png;base64,{}'/>\"\"\".format(base64.b64encode(buf.getvalue()).decode('ascii')))\n",
    "plt.close(fig)\n",
    "\n",
    "fig2,ax2 = plt.subplots(1,1)\n",
    "ax2.set_xlabel(\"x (mm)\")\n",
    "ax2.set_ylabel(\"y (mm)\")\n",
    "#ax2.set_xlim(0,x.max()*1e3)\n",
    "#ax2.set_ylim(-yrepres,yrepres)\n",
    "ax2.set_title('Screen')\n",
    "ax2.pcolormesh(np.zeros((500,500)))\n",
    "buf2 = io.BytesIO()\n",
    "plt.savefig(buf2, format='png')\n",
    "buf2.seek(0)\n",
    "figwidg2 = widgets.HTML(\"\"\"<img src='data:image/png;base64,{}'/>\"\"\".format(base64.b64encode(buf2.getvalue()).decode('ascii')))\n",
    "#figbox = widgets.HBox([figwidg,figwidg2])\n",
    "plt.close(fig2)\n",
    "clear_output()\n",
    "\n",
    "fig3,ax3 = plt.subplots(1,1)\n",
    "ax3.set_ylabel(\"y (mm)\")\n",
    "ax3.set_title('Zoom (3 mm)')\n",
    "ax3.pcolormesh(np.zeros((50,50)))\n",
    "buf3 = io.BytesIO()\n",
    "plt.savefig(buf3, format='png')\n",
    "buf3.seek(0)\n",
    "figwidg3 = widgets.HTML(\"\"\"<img src='data:image/png;base64,{}'/>\"\"\".format(base64.b64encode(buf3.getvalue()).decode('ascii')))\n",
    "figbox = widgets.HBox([figwidg,figwidg2,figwidg3])\n",
    "plt.close(fig3)\n",
    "clear_output()\n",
    "\n",
    "#########\n",
    "Interfwidg = widgets.FloatText(0,description='Int. (mm)',color='#C13535')\n",
    "\n",
    "def changeBiprism(x0=0.1):\n",
    "    a = 2*x0*np.tan((n-1)*alpha) #separacion entre fuentes virtuales\n",
    "    interstripe = Lambda*D/a \n",
    "    xlimit = (D-x0)*np.tan((n-1)*alpha) # distancia desde el eje que ocupa el patron de interferencias\n",
    "    Pasoespacial = interstripe/20\n",
    "    xpantalla = np.linspace(-xlimit*1.2,xlimit*1.2,round(xlimit/Pasoespacial))\n",
    "    X,Y = np.meshgrid(xpantalla,xpantalla)\n",
    "    delta = (k*a*X/D)\n",
    "    Itotal = I1 + I2 + (2.0*np.sqrt(I1*I2)*np.cos(delta))*(np.abs(X)<xlimit)\n",
    "    figwidg.observe(repsetup(x0),names='new')\n",
    "    figwidg2.observe(repfringes(xpantalla,Itotal),names='new')\n",
    "    figwidg3.observe(repzoom(xpantalla,Itotal),names='new')\n",
    "    Interfwidg.observe(updateInterf(interstripe),names='new')\n",
    "    return\n",
    "\n",
    "def updateInterf(interstripe):\n",
    "    Interfwidg.value=round(interstripe*1e3,2)\n",
    "    return\n",
    "    \n",
    "\n",
    "def repsetup(x0):\n",
    "    fig,ax = plt.subplots(1,1,figsize=(7,5))\n",
    "    ax.plot(0,0,'o',lw=2)\n",
    "    ax.set_xlim(-0.1,D+0.1)\n",
    "    ax.set_ylim(-yrepres*1.5,yrepres*1.5)\n",
    "    ax.set_xlabel(\"x (m)\")\n",
    "    ax.set_ylabel(\"y (mm)\")\n",
    "    ax.set_title('Experimental set up scheme')\n",
    "    ax.plot(np.linspace(-1,D,50),np.zeros(50),'k')\n",
    "    ax.vlines(x0,-y0,y0,'r',lw=2)\n",
    "    ax.vlines(D,-y0*3,y0*3,lw=4)\n",
    "    ax.plot(np.linspace(x0,x0+.02,D),(-y0/.02)*np.linspace(x0,x0+.02,D) + y0*(1+x0/.02),'r',lw=2)\n",
    "    ax.plot(np.linspace(x0,x0+.02,D),(y0/.02)*np.linspace(x0,x0+.02,D) - y0*(1+x0/.02),'r',lw=2)\n",
    "    buf = io.BytesIO()\n",
    "    plt.savefig(buf, format='png')\n",
    "    buf.seek(0)\n",
    "    clear_output()\n",
    "    figwidg.value =\"\"\"<img src='data:image/png;base64,{}'/>\"\"\".format(base64.b64encode(buf.getvalue()).decode('ascii'))\n",
    "    clear_output()\n",
    "    plt.close(fig)\n",
    "    return\n",
    "\n",
    "def repfringes(x,Itotal):\n",
    "    fig2,ax2 = plt.subplots(1,1,figsize=(3,5))\n",
    "    ax2.set_ylabel(\"y (mm)\")\n",
    "    ax2.set_xlim(0,x.max()*1e3)\n",
    "    ax2.set_ylim(-yrepres,yrepres)\n",
    "    ax2.set_title('Screen')\n",
    "    ax2.pcolormesh(x*1e3,x*1e3,Itotal.T,cmap = 'gray',vmin=0,vmax=4)\n",
    "    buf2 = io.BytesIO()\n",
    "    plt.savefig(buf2, format='png')\n",
    "    buf2.seek(0)\n",
    "    clear_output()\n",
    "    figwidg2.value =\"\"\"<img src='data:image/png;base64,{}'/>\"\"\".format(base64.b64encode(buf2.getvalue()).decode('ascii'))\n",
    "    clear_output()\n",
    "    plt.close(fig2)\n",
    "    return\n",
    "\n",
    "def repzoom(x,Itotal):\n",
    "    fig3,ax3 = plt.subplots(1,1,figsize=(3,5))\n",
    "    ax3.set_ylabel(\"y (mm)\")\n",
    "    ax3.set_xlim(0,x.max()*1e3)\n",
    "    ax3.set_ylim(-3,3)\n",
    "    ax3.set_title('Zoom (3 mm)')\n",
    "    ax3.pcolormesh(x*1e3,x*1e3,Itotal.T,cmap = 'gray',vmin=0,vmax=4)\n",
    "    buf3 = io.BytesIO()\n",
    "    plt.savefig(buf3, format='png')\n",
    "    buf3.seek(0)\n",
    "    clear_output()\n",
    "    figwidg3.value =\"\"\"<img src='data:image/png;base64,{}'/>\"\"\".format(base64.b64encode(buf3.getvalue()).decode('ascii'))\n",
    "    clear_output()\n",
    "    plt.close(fig3)\n",
    "    return"
   ]
  },
  {
   "cell_type": "markdown",
   "metadata": {
    "collapsed": false
   },
   "source": [
    "* Move the displacer to the distance recommended in the script of Practice 1 of the laboratory of the subject and note the value of the interflange shown for the pattern of interference resulting in the next cell"
   ]
  },
  {
   "cell_type": "markdown",
   "metadata": {
    "collapsed": false
   },
   "source": [
    "* Write the value of the interflange obtained after the equal sign below"
   ]
  },
  {
   "cell_type": "code",
   "execution_count": 3,
   "metadata": {
    "collapsed": false
   },
   "outputs": [
    {
     "ename": "SyntaxError",
     "evalue": "invalid syntax (<ipython-input-3-11fa9c28182a>, line 1)",
     "output_type": "error",
     "traceback": [
      "\u001b[0;36m  File \u001b[0;32m\"<ipython-input-3-11fa9c28182a>\"\u001b[0;36m, line \u001b[0;32m1\u001b[0m\n\u001b[0;31m    interstripe =\u001b[0m\n\u001b[0m                 ^\u001b[0m\n\u001b[0;31mSyntaxError\u001b[0m\u001b[0;31m:\u001b[0m invalid syntax\n"
     ]
    }
   ],
   "source": [
    "interstripe = "
   ]
  },
  {
   "cell_type": "markdown",
   "metadata": {
    "collapsed": false
   },
   "source": [
    "To measure the separation between the two virtual sources created by the biprism, we can not do it directly in the laboratory. However, if we place a converging lens after the biprism, it will form a real image of those virtual sources, which we can measure in the laboratory. The following figure shows the assembly that will be carried out in the laboratory.\n",
    "\n",
    "![biprism4](Biprism4.jpg)\n",
    "\n",
    "\n",
    "In the following simulation, this situation is raised. The figure on the left reproduces the experimental setup, being able to use the displacer to move the position of the lens. The figure on the right shows what would be seen on the screen. When the lens is in its correct position, the image of the two virtual sources generated by the biprism will be formed in it. In the simulation, the two points will appear smaller and more defined. Finally, the value of the separation between those virtual images $ a '$ is also shown.\n",
    "\n",
    "It is therefore proposed to move the lens until the images look as sharp as possible, which will allow us to obtain the missing parameters to calculate the wavelength $ \\lambda $."
   ]
  },
  {
   "cell_type": "code",
   "execution_count": 9,
   "metadata": {
    "collapsed": false
   },
   "outputs": [
    {
     "data": {
      "text/html": [
       "<p>Failed to display Jupyter Widget of type <code>HBox</code>.</p>\n",
       "<p>\n",
       "  If you're reading this message in the Jupyter Notebook or JupyterLab Notebook, it may mean\n",
       "  that the widgets JavaScript is still loading. If this message persists, it\n",
       "  likely means that the widgets JavaScript library is either not installed or\n",
       "  not enabled. See the <a href=\"https://ipywidgets.readthedocs.io/en/stable/user_install.html\">Jupyter\n",
       "  Widgets Documentation</a> for setup instructions.\n",
       "</p>\n",
       "<p>\n",
       "  If you're reading this message in another frontend (for example, a static\n",
       "  rendering on GitHub or <a href=\"https://nbviewer.jupyter.org/\">NBViewer</a>),\n",
       "  it may mean that your frontend doesn't currently support widgets.\n",
       "</p>\n"
      ]
     },
     "execution_count": 9,
     "metadata": {
     },
     "output_type": "execute_result"
    }
   ],
   "source": [
    "from matplotlib.patches import Circle\n",
    "\n",
    "#Lens focal distance\n",
    "fp = 0.2\n",
    "# Separation between the two virtual sources\n",
    "x0 = Positionwidg.value\n",
    "a = 2*x0*np.tan((n-1)*alpha) #Separation between the two virtual sources\n",
    "xlimit = (D-x0)*np.tan((n-1)*alpha) # distance from the axis occupied by the interference pattern\n",
    "\n",
    "fig,ax = plt.subplots(1,1)\n",
    "ax.plot(0,0,'o',lw=2)\n",
    "ax.set_xlim(-0.1,D+0.1)\n",
    "ax.set_ylim(-yrepres*1.5,yrepres*1.5)\n",
    "ax.set_xlabel(\"x (m)\")\n",
    "ax.set_ylabel(\"y (mm)\")\n",
    "ax.set_title('Schematic of the experimental assembly')\n",
    "line1, = ax.plot(np.linspace(-1,D,50),np.zeros(50),'k')\n",
    "buf = io.BytesIO()\n",
    "plt.savefig(buf, format='png')\n",
    "buf.seek(0)\n",
    "figwidg = widgets.HTML(\"\"\"<img src='data:image/png;base64,{}'/>\"\"\".format(base64.b64encode(buf.getvalue()).decode('ascii')))\n",
    "plt.close(fig)\n",
    "\n",
    "fig2,ax2 = plt.subplots(1,1)\n",
    "ax2.set_xlabel(\"x (mm)\")\n",
    "ax2.set_ylabel(\"y (mm)\")\n",
    "#ax2.set_xlim(0,x.max()*1e3)\n",
    "#ax2.set_ylim(-yrepres,yrepres)\n",
    "ax2.set_title('Screen')\n",
    "ax2.pcolormesh(np.zeros((500,500)))\n",
    "buf2 = io.BytesIO()\n",
    "plt.savefig(buf2, format='png')\n",
    "buf2.seek(0)\n",
    "figwidg2 = widgets.HTML(\"\"\"<img src='data:image/png;base64,{}'/>\"\"\".format(base64.b64encode(buf2.getvalue()).decode('ascii')))\n",
    "figboxlens = widgets.HBox([figwidg,figwidg2])\n",
    "plt.close(fig2)\n",
    "clear_output()\n",
    "\n",
    "#########\n",
    "aprimawidg = widgets.FloatText(0,description='a\\'. (mm)',color='#C13535')\n",
    "\n",
    "def changelens(xlens=D-0.1):\n",
    "    s = -xlens\n",
    "    sp = D - xlens\n",
    "    beta = sp/s\n",
    "    aprima = beta*a\n",
    "    figwidg.observe(repsetuplens(xlens),names='new')\n",
    "    spref = (D + np.sqrt(D**2 - 4*fp*D))/2 #Correct position\n",
    "    sref = spref-D\n",
    "    figwidg2.observe(repimage(xlens,sref,aprima),names='new')\n",
    "    aprimawidg.observe(updateaprima(aprima),names='new')\n",
    "    return\n",
    "\n",
    "def updateaprima(aprima):\n",
    "    aprimawidg.value=round(-aprima*1e3,2) # in mm\n",
    "    return\n",
    "    \n",
    "\n",
    "def repsetuplens(xlens):\n",
    "    fig,ax = plt.subplots(1,1,figsize=(7,5))\n",
    "    ax.plot(0,0,'o',lw=2)\n",
    "    ax.set_xlim(-0.1,D+0.1)\n",
    "    ax.set_ylim(-yrepres*1.5,yrepres*1.5)\n",
    "    ax.set_xlabel(\"x (m)\")\n",
    "    ax.set_ylabel(\"y (mm)\")\n",
    "    ax.set_title('Schematic of the experimental assembly')\n",
    "    ax.plot(np.linspace(-1,D,50),np.zeros(50),'k')\n",
    "    ax.vlines(x0,-y0,y0,'r',lw=2)\n",
    "    ax.vlines(D,-y0*3,y0*3,lw=4)\n",
    "    ax.plot(np.linspace(x0,x0+.02,D),(-y0/.02)*np.linspace(x0,x0+.02,D) + y0*(1+x0/.02),'r',lw=2)\n",
    "    ax.plot(np.linspace(x0,x0+.02,D),(y0/.02)*np.linspace(x0,x0+.02,D) - y0*(1+x0/.02),'r',lw=2)\n",
    "    ax.annotate(\"\", xy=(np.abs(xlens), y0*1.5), xytext=(np.abs(xlens),-y0*1.5),\n",
    "    arrowprops=dict(arrowstyle=\"<->\",color='k')) # lens representation\n",
    "    buf = io.BytesIO()\n",
    "    plt.savefig(buf, format='png')\n",
    "    buf.seek(0)\n",
    "    clear_output()\n",
    "    figwidg.value =\"\"\"<img src='data:image/png;base64,{}'/>\"\"\".format(base64.b64encode(buf.getvalue()).decode('ascii'))\n",
    "    clear_output()\n",
    "    plt.close(fig)\n",
    "    return\n",
    "\n",
    "def repimage(xlens,sref,ap):\n",
    "    fig2,ax2 = plt.subplots(1,1,figsize=(4,4))\n",
    "    rad = 3*(xlens+ sref)**2 + 0.6 # note: sref < 0\n",
    "    circle1 = Circle((0,-ap*1e3/2), radius=rad, color='r',alpha = 1 - np.abs(xlens+sref))\n",
    "    circle2 = Circle((0,ap*1e3/2), radius=rad, color='r',alpha = 1- np.abs(xlens+sref))\n",
    "    ax2.add_artist(circle1)\n",
    "    ax2.add_artist(circle2)\n",
    "    ax2.set_ylabel(\"y (mm)\")\n",
    "    ax2.set_xlim(-yrepres,yrepres)\n",
    "    ax2.set_ylim(-yrepres,yrepres)\n",
    "    ax2.set_title('Screen')\n",
    "    buf2 = io.BytesIO()\n",
    "    plt.savefig(buf2, format='png')\n",
    "    buf2.seek(0)\n",
    "    clear_output()\n",
    "    figwidg2.value =\"\"\"<img src='data:image/png;base64,{}'/>\"\"\".format(base64.b64encode(buf2.getvalue()).decode('ascii'))\n",
    "    clear_output()\n",
    "    plt.close(fig2)\n",
    "    return\n",
    "\n",
    "\n",
    "PosLenswidg = widgets.FloatSlider(value=1,min=x0+0.05,max=1.0,step=0.03,description='Dist Source-Lens',orientation='horizontal')\n",
    "changeposlens = widgets.interactive(changelens,xlens=PosLenswidg)\n",
    "finalwidg = widgets.HBox([figboxlens,aprimawidg])\n",
    "display(changeposlens,finalwidg)"
   ]
  },
  {
   "cell_type": "markdown",
   "metadata": {
    "collapsed": true
   },
   "source": [
    "* Write down the value of the separation between the images of the virtual sources that appear in the previous graphic."
   ]
  },
  {
   "cell_type": "code",
   "execution_count": 10,
   "metadata": {
    "collapsed": false
   },
   "outputs": [
    {
     "ename": "SyntaxError",
     "evalue": "invalid syntax (<ipython-input-10-0160718082f4>, line 1)",
     "output_type": "error",
     "traceback": [
      "\u001b[0;36m  File \u001b[0;32m\"<ipython-input-10-0160718082f4>\"\u001b[0;36m, line \u001b[0;32m1\u001b[0m\n\u001b[0;31m    aprima =\u001b[0m\n\u001b[0m            ^\u001b[0m\n\u001b[0;31mSyntaxError\u001b[0m\u001b[0;31m:\u001b[0m invalid syntax\n"
     ]
    }
   ],
   "source": [
    "aprima = "
   ]
  },
  {
   "cell_type": "markdown",
   "metadata": {
    "collapsed": false
   },
   "source": [
    "* Calculate, using the value of the increase given by the convergent lens, the value of the separation between the virtual sources generated by the biprism. Use the values of the object-lens distance ($ s $) and lens-image ($ sprima $) for the calculation of the increase. Enter in the next cell the value of the gain obtained and the value of the $ a $ separation obtained."
   ]
  },
  {
   "cell_type": "code",
   "execution_count": 11,
   "metadata": {
    "collapsed": false
   },
   "outputs": [
    {
     "ename": "SyntaxError",
     "evalue": "invalid syntax (<ipython-input-11-aaf34d15b0b4>, line 1)",
     "output_type": "error",
     "traceback": [
      "\u001b[0;36m  File \u001b[0;32m\"<ipython-input-11-aaf34d15b0b4>\"\u001b[0;36m, line \u001b[0;32m1\u001b[0m\n\u001b[0;31m    magnification =\u001b[0m\n\u001b[0m                    ^\u001b[0m\n\u001b[0;31mSyntaxError\u001b[0m\u001b[0;31m:\u001b[0m invalid syntax\n"
     ]
    }
   ],
   "source": [
    "magnification = \n",
    "a = "
   ]
  },
  {
   "cell_type": "markdown",
   "metadata": {
    "collapsed": false
   },
   "source": [
    "* Finally, obtain the value of the wavelength $ \\lambda $ using the values obtained in the previous sections. Record the value obtained in the next cell"
   ]
  },
  {
   "cell_type": "code",
   "execution_count": 12,
   "metadata": {
    "collapsed": false
   },
   "outputs": [
    {
     "ename": "SyntaxError",
     "evalue": "invalid syntax (<ipython-input-12-8fabbfccdb88>, line 1)",
     "output_type": "error",
     "traceback": [
      "\u001b[0;36m  File \u001b[0;32m\"<ipython-input-12-8fabbfccdb88>\"\u001b[0;36m, line \u001b[0;32m1\u001b[0m\n\u001b[0;31m    wavelength=\u001b[0m\n\u001b[0m               ^\u001b[0m\n\u001b[0;31mSyntaxError\u001b[0m\u001b[0;31m:\u001b[0m invalid syntax\n"
     ]
    }
   ],
   "source": [
    "wavelength= "
   ]
  }
 ],
 "metadata": {
  "kernelspec": {
   "display_name": "Python 3 (Ubuntu Linux)",
   "language": "python",
   "name": "python3"
  },
  "language_info": {
   "codemirror_mode": {
    "name": "ipython",
    "version": 3
   },
   "file_extension": ".py",
   "mimetype": "text/x-python",
   "name": "python",
   "nbconvert_exporter": "python",
   "pygments_lexer": "ipython3",
   "version": "3.5.2"
  }
 },
 "nbformat": 4,
 "nbformat_minor": 0
}