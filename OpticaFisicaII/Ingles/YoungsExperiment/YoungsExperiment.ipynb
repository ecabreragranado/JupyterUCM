{
 "cells": [
  {
   "cell_type": "markdown",
   "metadata": {
    "collapsed": false
   },
   "source": [
    "# Experimento de Young"
   ]
  },
  {
   "cell_type": "code",
   "execution_count": 1,
   "metadata": {
    "collapsed": false
   },
   "outputs": [
    {
     "data": {
      "image/jpeg": "[encoded data removed]"
     },
     "output_type": "execute_result"
    }
   ],
   "source": [
    "from IPython.display import Image\n",
    "Image(filename=\"YoungTwoSlitExperiment.JPG\")"
   ]
  },
  {
   "cell_type": "markdown",
   "metadata": {
    "collapsed": false
   },
   "source": [
    "    ''The experiments I am about to relate ... may be repeated with great ease, \n",
    "    whenever the sun shines, and without any other apparatus than is at hand to everyone [1]''\n",
    "    \n",
    "Thus Thomas Young began his famous experiment on November 24, 1803 at the Royal Society of London. Before an audience mainly defending the corpuscular theory of light (supported by Isaac Newton), Thomas Young carried out the first experiment of interference of light, demonstrating the wave nature of light. He let a ray of sunlight through a small hole in the window of the room and made the beam of light fall on the edge of a card dividing the beam in two. These two beams when overlapping on a screen generated dark and bright bands of light.\n",
    "\n",
    "[1] Thomas Young, \"Experimental Demonstration of the General Law of the Interference of Light,\" Philosophical Transactions of the Royal Society of London vol. 94 (1804)."
   ]
  },
  {
   "cell_type": "markdown",
   "metadata": {
    "collapsed": false
   },
   "source": [
    "## Theory"
   ]
  },
  {
   "cell_type": "markdown",
   "metadata": {
    "collapsed": false
   },
   "source": [
    "Normally, Young's experiment is represented by a double slit, as shown in the previous figure. A spherical wave (or a flat wave, the treatment is equivalent), affects a screen on which two openings have been made $ S_1 $ and $ S_2 $ very close to each other (we will call the distance between them $ a $) . These openings act as two secondary sources of radiation, generating in turn two spherical waves that overlap in the space behind them. If we observe the distribution of irradiance on a screen located at a certain distance $ D $, what will we find?"
   ]
  },
  {
   "cell_type": "markdown",
   "metadata": {
    "collapsed": false
   },
   "source": [
    "The two waves that are generated in $ S_1 $ and $ S_2 $ can be written as:\n",
    "\n",
    "$$ \\vec {E_1} = \\vec {e_1} \\; E_ {01} \\; \\; \\cos \\left (k r_1 - \\omega t + \\phi_1 \\right) $$\n",
    "$$ \\vec {E_2} = \\vec {e_2} \\; E_ {02} \\; \\; \\cos \\left (k r_2 - \\omega t + \\phi_2 \\right) $$\n",
    "\n",
    "$ E_ {0j} $ is the amplitude of the wave, $ \\vec {e_j} $ is the direction of vibration and $ \\phi_j $ is the initial phase. $ r_1 $ ($ r_2 $) is the path that the wave travels from $ S_1 $ ($ S_2 $) to the observation point P. Both waves have the same wavelength.\n",
    "\n",
    "The superposition of these two waves, will give us the expression of the irradiance already known,\n",
    "\n",
    "$$ I_T = I_1 + I_2 + 2 \\sqrt {I_1 I_2} \\; (\\vec {e_ 1} \\cdot \\vec {e_ 2}) \\; cos (\\delta) $$\n",
    "\n",
    "where $ \\delta = k (r_2 - r_1) + \\phi_2 - \\phi_1 $ is the phase shift (or phase difference) between the two waves.\n",
    "\n",
    "In this expression we can make some other simplification,\n",
    "\n",
    "* $ \\vec {e_ 1} \\cdot \\vec {e_ 2} = 1 $ because the waves are considered linearly polarized in the same direction.\n",
    "* $ I_1 = I_2 $ in case there is no filter in $ S_1 $ or $ S_2 $, the two waves have the same amplitude.\n",
    "* $ \\phi_2 - \\phi_1 = 0 $ since the wavefront arrives simultaneously at $ S_1 $ and $ S_2 $. Note that if we put a piece of transparent material for example before one of the two openings, we would have an additional phase shift in one of the two waves and this difference would no longer be zero. This would happen because one of the waves would travel through the material while the other wave would travel in air.\n",
    "\n",
    "So the total irradiance is left\n",
    "\n",
    "$$ I_T = 2 I_1 \\left (1 + cos (\\delta) \\; \\right) $$\n",
    "\n",
    "with $ \\delta = k (r_2 - r_1) $\n",
    "\n",
    "As we see, ** the path difference $ \\Delta = r_2 - r_1 $ is what determines the value of the final irradiance at point P **. Let's calculate it."
   ]
  },
  {
   "cell_type": "code",
   "execution_count": 1,
   "metadata": {
    "collapsed": false
   },
   "outputs": [
    {
     "data": {
      "image/jpeg": "[encoded data removed]"
     },
     "output_type": "execute_result"
    }
   ],
   "source": [
    "from IPython.display import Image\n",
    "Image(filename=\"YoungsExperiment.jpg\")"
   ]
  },
  {
   "cell_type": "markdown",
   "metadata": {
    "collapsed": false
   },
   "source": [
    "According to the figure, $ \\Delta = r_2 - r_1 $ we can write it as $ \\Delta = a sin (\\theta) $, being $ a $ the separation between the slits. If this angle is small (which means that the distance between the sources and the observation screen is large compared to the separation between the sources), we can simplify this expression,\n",
    "\n",
    "$$ \\Delta = a sin (\\theta) \\simeq a tan (\\theta) = a \\frac {x} {D} $$.\n",
    "\n",
    "And therefore,\n",
    "\n",
    "$$ \\delta = k \\frac {a x} {D} = \\frac {2 \\pi a x} {\\lambda D} $$\n",
    "\n",
    "In these expressions, $ x $ is the distance from the observation point P to the axis while $ D $ is the distance between the plane\n",
    "which contains the sources and the observation screen, where P. is found. We can rewrite the total irradiance on the screen using the calculated expression of the offset\n",
    "\n",
    "$$ I_T = 2 I_1 \\left (1 + cos \\left (\\frac {2 \\pi to x} {\\lambda D} \\right) \\; \\right) $$"
   ]
  },
  {
   "cell_type": "markdown",
   "metadata": {
    "collapsed": false
   },
   "source": [
    "## Light distribution. Interference pattern"
   ]
  },
  {
   "cell_type": "markdown",
   "metadata": {
    "collapsed": false
   },
   "source": [
    "Now we are in a position to answer the question we asked ourselves before, how is the irradiance distribution on the observation screen ?. We see that the phase shift depends on the height in the $ x $ screen, so when we move in that direction, the irradiance value will change. In particular, the term that causes this variation is of cosine type $cos (\\frac {2 \\pi ax} {\\lambda D}) $ so we will see on the screen a cosine distribution, with irradiance maximums when $ \\delta = 2 m \\pi $, with $ m = 0, \\pm 1, \\pm 2 ... $ and irradiance minima when $ \\delta = (2 m + 1) \\pi $, with $ m = 0, \\pm 1, \\pm 2 ... $. The $ x $ positions to which these conditions correspond will be,\n",
    "\n",
    "Irradiance maximums. $ \\delta = 2 m \\pi \\implies \\Delta = m \\lambda \\implies $\n",
    "$$ x ^ {max} _m = \\frac {m \\lambda D} {a} $$\n",
    "\n",
    "Irradiance minima $ \\delta = (2 m + 1) \\pi \\implies \\Delta = \\frac {(2m +1) \\lambda} {2} \\implies $\n",
    "$$ x ^ {min} _m = \\frac {(2m + 1) \\lambda D} {2a} $$"
   ]
  },
  {
   "cell_type": "markdown",
   "metadata": {
    "collapsed": false
   },
   "source": [
    "We are going to draw the irradiance distribution on the screen and a cut along the X axis (execute the next code cell)."
   ]
  },
  {
   "cell_type": "code",
   "execution_count": 2,
   "metadata": {
    "collapsed": false
   },
   "outputs": [
    {
     "data": {
      "text/plain": [
       "<matplotlib.text.Text at 0x7f6ee8bc78d0>"
      ]
     },
     "execution_count": 2,
     "metadata": {
     },
     "output_type": "execute_result"
    },
    {
     "data": {
      "image/png": "[encoded data removed]"
     },
     "output_type": "execute_result"
    }
   ],
   "source": [
    "from matplotlib.pyplot import *\n",
    "from numpy import *\n",
    "% matplotlib inline\n",
    "style.use ('fivethirtyeight')\n",
    "\n",
    "#################################################################################################### ##############################################################\n",
    "# PARAMETERS. THEIR VALUES CAN BE MODIFIED\n",
    "#################################################################################################### ##############################################################\n",
    "Lambda = 400e-9 # in meters, wavelength of radiation\n",
    "D = 4.5 # in meters, distance between the plane containing the sources and the observation screen\n",
    "a = 0.003 # in meters, separation between sources\n",
    "#################################################################################################### ##############################################################\n",
    "\n",
    "interstripe = Lambda * D / a # calculation of the interfranja\n",
    "k = 2.0 * pi / Lambda\n",
    "x = linspace (-5 * interstripe, 5 * interstripe, 500)\n",
    "I1 = 1 # We consider normalized irradiances at a certain value.\n",
    "I2 = 0.01\n",
    "X, Y = meshgrid (x, x)\n",
    "delta = k * a * X / D\n",
    "Itotal = I1 + I2 + 2.0 * sqrt (I1 * I2) * cos (delta)\n",
    "figure (figsize = (14,5))\n",
    "subplot (121)\n",
    "pcolormesh (x * 1e3, x * 1e3, Itotal, cmap = 'gray', vmin = 0, vmax = 4)\n",
    "xlabel (\"x (mm)\"); ylabel (\"y (mm)\")\n",
    "subplot (122)\n",
    "plot (x * 1e3, Itotal [x.shape [0] / 2 ,:])\n",
    "xlabel (\"x (mm)\"); ylabel (\"Normalized total irradiance\")"
   ]
  },
  {
   "cell_type": "markdown",
   "metadata": {
    "collapsed": false
   },
   "source": [
    "As we can see, the maxima are equispaced (the same happens with the terms), being the distance between two consecutive maximums\n",
    "$$ \\text {Interstripe} = \\frac {\\lambda D} {a} $$\n",
    "This magnitude is known as interstripe and gives us information about the characteristic size of the stripes pattern.\n",
    "In addition to the size, to be able to clearly observe the stripes it is necessary that they are well contrasted. To do this, the contrast or visibility of the stripes is defined\n",
    "$$ C = \\frac {I_T ^ {max} -I_T ^ {min}} {I_T ^ {max} + I_T ^ {min}} $$\n",
    "that tells us how much the maximums of light are separated from the minimums.\n",
    "\n",
    "The value of these two quantities for the case represented in the previous figure is shown in the next cell (execute said cell after having executed the previous code cell)"
   ]
  },
  {
   "cell_type": "code",
   "execution_count": 4,
   "metadata": {
    "collapsed": false
   },
   "outputs": [
    {
     "name": "stdout",
     "output_type": "stream",
     "text": [
      "a = 3.0 mm D = 4.5 m Wavelength = 400.0 nm\n",
      "Interstripe = 0.6 mm\n",
      "Contrast = 0.198017451216\n"
     ]
    }
   ],
   "source": [
    "interstripe = Lambda * D / a # calculation of the interfranja\n",
    "C = (Itotal.max () - Itotal.min ()) / (Itotal.max () + Itotal.min ()) # calculation of the contrast\n",
    "print \"a =\", a * 1e3, \"mm\", \"D =\", D, \"m\", \"Wavelength =\", Lambda * 1e9, \"nm\" # parameter values\n",
    "print \"Interstripe =\", interstripe * 1e3, \"mm\" # shows the value of the interfranja in mm\n",
    "print 'Contrast =', C # shows the contrast value"
   ]
  },
  {
   "cell_type": "raw",
   "metadata": {
    "collapsed": false
   },
   "source": [
    "## Issues. Questions"
   ]
  },
  {
   "cell_type": "markdown",
   "metadata": {
    "collapsed": false
   },
   "source": [
    "Use the two previous code cells to analyze the following questions.\n",
    "\n",
    "1. Try changing the value of the parameters $ \\lambda $, $ D $ and $ a $ (one by one) and observe how the light distribution changes. Observe how the value of the interstripe and contrast is modified.\n",
    "\n",
    "2. Decrease the value of $ I_1 $ or $ I_2 $ and see how the interference pattern changes. How does the value of the interstripe and the contrast change?\n",
    "\n",
    "<span style = \"color: blue\"> Challenge Question. </span>\n",
    "Suppose we put a piece of transparent material before opening $ S_1 $. Try to explain what consequences it would have on the interference pattern. If you dare, modify the code cell to include this effect. You can use a refractive index material $ n = 1.5 $ and a thickness $ d = 1 $ mm."
   ]
  },
  {
   "cell_type": "markdown",
   "metadata": {
    "collapsed": false
   },
   "source": [
    "#### What difference would there be if we illuminate with white light instead of lighting with monochromatic light?"
   ]
  },
  {
   "cell_type": "markdown",
   "metadata": {
    "collapsed": false
   },
   "source": [
    "We can see it in the following image"
   ]
  },
  {
   "cell_type": "code",
   "execution_count": 5,
   "metadata": {
    "collapsed": false
   },
   "outputs": [
    {
     "data": {
      "image/jpeg": "[encoded data removed]"
     },
     "output_type": "execute_result"
    }
   ],
   "source": [
    "from IPython.display import Image\n",
    "Image(filename=\"StripesYoungWhiteLight.jpg\")"
   ]
  },
  {
   "cell_type": "markdown",
   "metadata": {
    "collapsed": false
   },
   "source": [
    "As can be seen, in the case of white light, each of the wavelengths that compose it form a system of stripes with the maxima located in different positions and with a different interstripe. This greatly hinders the visualization of interference and will lead us to define the concept of coherent and incoherent light."
   ]
  },
  {
   "cell_type": "markdown",
   "metadata": {
    "collapsed": false
   },
   "source": [
    "## To know a bit more. Other resources in the network."
   ]
  },
  {
   "cell_type": "markdown",
   "metadata": {
    "collapsed": false
   },
   "source": [
    "Video from UNED about Thomas Young and his experiment. (Turn on subtitles)"
   ]
  },
  {
   "cell_type": "code",
   "execution_count": 6,
   "metadata": {
    "collapsed": false
   },
   "outputs": [
    {
     "data": {
      "text/html": [
       "\n",
       "        <iframe\n",
       "            width=\"400\"\n",
       "            height=\"300\"\n",
       "            src=\"https://www.youtube.com/embed/B34bAGtQL9A\"\n",
       "            frameborder=\"0\"\n",
       "            allowfullscreen\n",
       "        ></iframe>\n",
       "        "
      ]
     },
     "execution_count": 6,
     "metadata": {
     },
     "output_type": "execute_result"
    }
   ],
   "source": [
    "from IPython.display import YouTubeVideo\n",
    "YouTubeVideo(\"B34bAGtQL9A\")"
   ]
  }
 ],
 "metadata": {
  "kernelspec": {
   "display_name": "Python 2 (SageMath)",
   "language": "python",
   "name": "python2"
  },
  "language_info": {
   "codemirror_mode": {
    "name": "ipython",
    "version": 2
   },
   "file_extension": ".py",
   "mimetype": "text/x-python",
   "name": "python",
   "nbconvert_exporter": "python",
   "pygments_lexer": "ipython2",
   "version": "2.7.14"
  },
  "name": "ExperimentoYoung.ipynb"
 },
 "nbformat": 4,
 "nbformat_minor": 0
}